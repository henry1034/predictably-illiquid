{
 "cells": [
  {
   "cell_type": "code",
   "execution_count": 1,
   "id": "e259ebc2-8fa5-4587-ad97-d9ebcfcf630d",
   "metadata": {},
   "outputs": [],
   "source": [
    "import datetime\n",
    "import numpy as np\n",
    "import pandas as pd\n",
    "from tqdm import tqdm \n",
    "from scipy import stats\n",
    "import statsmodels.api as sm\n",
    "import matplotlib.pyplot as plt\n",
    "from pandas.tseries.offsets import *\n",
    "from contrarianTrading import top_bottom_50\n",
    "from statsmodels.stats.diagnostic import het_white\n",
    "from statsmodels.stats.weightstats import ttest_ind\n",
    "from finance_byu.fama_macbeth import fama_macbeth, fama_macbeth_parallel, fm_summary, fama_macbeth_numba"
   ]
  },
  {
   "cell_type": "markdown",
   "id": "30bc1bd1-2be1-452e-befa-853877d15110",
   "metadata": {},
   "source": [
    "# Data Importation and Cleaning"
   ]
  },
  {
   "cell_type": "code",
   "execution_count": 2,
   "id": "132b126f-110b-4573-b0ca-d4344e9edfc7",
   "metadata": {},
   "outputs": [
    {
     "name": "stderr",
     "output_type": "stream",
     "text": [
      "/var/folders/cb/97kd5mrx7wzfcc3ksmz69k8m0000gn/T/ipykernel_40426/3963861628.py:5: DtypeWarning: Columns (35,75) have mixed types. Specify dtype option on import or set low_memory=False.\n",
      "  lspd_m = pd.read_csv('/users/henry/desktop/Uni Work/Final Year/Dissertation/Data/LSPD_M4.csv')\n"
     ]
    }
   ],
   "source": [
    "#########################\n",
    "# importing the LSPD Monthly dataset\n",
    "########################\n",
    "\n",
    "lspd_m = pd.read_csv('/users/henry/desktop/Uni Work/Final Year/Dissertation/Data/LSPD_M4.csv')\n",
    "\n",
    "lspd_m['R21'] = pd.to_datetime(lspd_m['R21']) #converting dates to datetime\n",
    "\n",
    "lspd_m['R21'] = lspd_m['R21'] + MonthEnd(0)\n",
    "\n",
    "lspd_m['R6'] = pd.to_datetime(lspd_m['R6']) #converting start date to datetime\n",
    "\n",
    "lspd_m['R6'] = lspd_m['R6'] + MonthEnd(0)\n",
    "\n",
    "lspd_m = lspd_m.rename(columns={'R21':'date', 'P4' : 'prc', 'R22' : 'logret', 'G1' : 'compNam', 'A4' : 'mrktCp'}) #re-naming some of the columns for legibility "
   ]
  },
  {
   "cell_type": "code",
   "execution_count": null,
   "id": "1f305f89-4ed6-4955-a917-0d63d7360e62",
   "metadata": {},
   "outputs": [],
   "source": [
    "#########################\n",
    "# cleaning the LSPD dataset as in the paper\n",
    "########################\n",
    "\n",
    "lspd_m = lspd_m.sort_values(by=['compNam', 'date'])\n",
    "\n",
    "lspd_m['rawRet'] = np.exp(lspd_m['logret'])-1 #taking the expoential of the logreturns to convert to simple returns\n",
    "\n",
    "lspd_m['rawRet_bfill'] = lspd_m.groupby('compNam')['rawRet'].bfill().tolist() #if there is a return after this then fill backwards to use in filtering\n",
    "\n",
    "lspd_m['rawRetShift'] = lspd_m.groupby('compNam')['rawRet'].shift() #shifting forward by 1 \n",
    "\n",
    "lspd_m['rawRetBack'] = lspd_m.groupby('compNam')['rawRet'].shift(-1) #shifting backward by 1 \n",
    "\n",
    "lspd_m['P8Bfill'] = lspd_m.groupby('compNam')['P8'].bfill().tolist() #backfilling price collection status \n",
    "\n",
    "lspd_m.loc[(lspd_m['P8'] == 4) & (lspd_m['rawRet_bfill'].isna()) & (lspd_m['G10'].isin([7,10,14, 16,20,21])) & (~lspd_m['rawRetShift'].isna()), 'rawRet'] = -0.99 #if an asset is suspended and ultimatley delisted with no value set the return in the next peiord to -0.999 (allows for dealing with logs)\n",
    "\n",
    "lspd_m.loc[(abs(lspd_m['rawRet']) > 0) & (lspd_m['prc']==0) & (lspd_m['P8'] != 4),'rawRet'] = 0 #deal with incorrect dividend adjustments \n",
    "\n",
    "lspd_m = lspd_m[~(((lspd_m.P8 == 4.0) | (lspd_m.P8 == 0)) & (lspd_m.rawRet_bfill.isna()) & (lspd_m.rawRet.isna()))] #any suspended asset that cannot be traded in future as it is delisted is removed \n",
    "\n",
    "lspd_m = lspd_m[~lspd_m.P8Bfill.isna()] #if there was never a recorded accurate price after this remove the rows \n",
    "\n",
    "lspd_m['start_month_year'] = lspd_m.apply(lambda row: 1 if (row['date'].year == row['R6'].year) & (row['date'].month == row['R6'].month) else 0, axis = 1) #this marks all rows where the data is the first entry \n",
    "\n",
    "lspd_m = lspd_m[lspd_m.start_month_year != 1] #this removes the first entry as returns is empty \n",
    "\n",
    "lspd_m['rawRet'] = lspd_m.rawRet.fillna(0) #the assumption here can go back to the fact we are using transacted prices - hence if the price is suspended then the ret is 0 \n",
    "\n",
    "lspd_m.loc[lspd_m['rawRet'] > 7, 'rawRet'] = 0 #removes outliers\n",
    "\n",
    "lspd_m['logret'] = np.log(1+lspd_m['rawRet'])  #converting the cleaned data back into logs for addition at a later stage \n",
    "\n",
    "lspd_m.loc[(lspd_m['P8'] == 4) & (lspd_m['rawRet_bfill'].isna()) & (lspd_m['G10'].isin([7,14, 10,16,20,21])) & (~lspd_m['rawRetShift'].isna()), 'rawRet'] = -1 #setting to -100% once logs are dealt with \n",
    "\n",
    "lspd_m['mrktCp'] = lspd_m['mrktCp'] / 1000 #converting the market value into millions from '000s \n",
    "\n",
    "lspd_m['mrktCp'] = lspd_m['mrktCp'].apply(lambda x: np.NaN if x == 0 else x)\n",
    "\n",
    "lspd_m['mrktCp'] = lspd_m['mrktCp'].ffill() #forward filling market cap when it equals zero \n",
    "\n",
    "lspd_m = lspd_m[~lspd_m.G16.isin([99,98,97,95,37,0])] # finally taking only LSE lists stocks (AIM and OTC are too illiquid to be considered here) and getting rid of investment trusts \n"
   ]
  },
  {
   "cell_type": "markdown",
   "id": "91484bb8-386a-4520-9273-5373e390dccb",
   "metadata": {},
   "source": [
    "### Computing market returns, redisual returns and excess returns"
   ]
  },
  {
   "cell_type": "code",
   "execution_count": null,
   "id": "baa9d7af-86d7-4640-99e7-7da1baded434",
   "metadata": {},
   "outputs": [],
   "source": [
    "#########################\n",
    "# calculating market return and residual returns \n",
    "#########################\n",
    "\n",
    "\n",
    "#calculating the EWI of LSE stocks per month  \n",
    "lseRets = lspd_m.groupby('date')['rawRet'].mean().reset_index() \n",
    "lseRets = lseRets.rename(columns={'rawRet':'mrktRet'})\n",
    "\n",
    "\n",
    "#residual return of individual stocks \n",
    "mean_ret = lspd_m.groupby('compNam')['rawRet'].mean().reset_index()\n",
    "mean_ret = mean_ret.rename(columns={'rawRet' : 'mean_ret'})\n",
    "lspd_m = lspd_m.merge(mean_ret, on='compNam', how='inner')\n",
    "lspd_m['residualRet'] = lspd_m['rawRet'] - lspd_m['mean_ret']"
   ]
  },
  {
   "cell_type": "code",
   "execution_count": null,
   "id": "4b6778b1-7082-4f52-b521-60e497587567",
   "metadata": {},
   "outputs": [],
   "source": [
    "#########################\n",
    "# forming temporary tables as in Dreschler 2023 \n",
    "#########################\n",
    "\n",
    "umd = lspd_m[['date', 'compNam', 'G18','G16', 'P8', 'R18', 'prc', 'residualRet', 'logret', 'mrktCp', 'rawRet']]\n",
    "\n",
    "#adding marketcaps\n",
    "_tmp_mrktcp = lspd_m[['date', 'compNam', 'mrktCp']]\n",
    "_tmp_mrktcp['mrktRnk'] = _tmp_mrktcp.groupby('date')['mrktCp'].transform(lambda x: pd.qcut(x, 3, labels=False)).tolist()\n",
    "_tmp_mrktcp['mrktRnk'] = _tmp_mrktcp['mrktRnk'] + 1 #indexed at zero so add 1 \n",
    "_tmp_mrktcp = _tmp_mrktcp[['date', 'compNam', 'mrktRnk']]\n",
    "\n",
    "#removing stocks with fewer than 37 months of continuous return data \n",
    "counts = umd.groupby('compNam').count()\n",
    "counts = counts[counts.date < 37]\n",
    "umd = umd[~umd.compNam.isin(counts.index)]\n",
    "\n",
    "#removing stocks with less than 36 months of return data\n",
    "umd = lspd_m\n",
    "counts = umd.groupby('compNam').count()\n",
    "counts = counts[counts.date < 37]\n",
    "umd = umd[~umd.compNam.isin(counts.index)]\n",
    "\n",
    "umd = umd.merge(_tmp_mrktcp, on=['date', 'compNam'], how='inner')"
   ]
  },
  {
   "cell_type": "markdown",
   "id": "90bc01cd-808f-43c2-b184-652975863adc",
   "metadata": {},
   "source": [
    "# Paper Analysis\n",
    "# Section IV: Empirical Test"
   ]
  },
  {
   "cell_type": "code",
   "execution_count": 6,
   "id": "6e5d7909-56f5-4b77-b44f-e4f2021868a2",
   "metadata": {},
   "outputs": [],
   "source": [
    "#########################\n",
    "# Adding in the residual returns at different periods \n",
    "#########################\n",
    "\n",
    "umd2 = umd.copy(deep=True) #deep cpoy avoids altering the frame \n",
    "umd2 = umd2.sort_values(by=['compNam', 'date']) \n",
    "\n",
    "diffs = list(range(1,13,1))\n",
    "\n",
    "for diff in diffs:\n",
    "    \n",
    "    umd2['diff_{}'.format(str(diff))] = umd2.groupby('compNam')['rawRet'].shift(diff).tolist()\n",
    "    \n",
    "    \n",
    "umd2['diff_24'] = umd2.groupby('compNam')['rawRet'].shift(24) \n",
    "\n",
    "\n",
    "umd2['diff_36'] = umd2.groupby('compNam')['rawRet'].shift(36)\n",
    "\n",
    "    \n",
    "umd2 = umd2.dropna(subset='diff_36') #removes all stocks in month t for which there is no return for the past 3 years (ensuring that we only compute regressions on avaialble stocks) "
   ]
  },
  {
   "cell_type": "code",
   "execution_count": 7,
   "id": "51964023-8687-4c4a-b45e-1d6b81017408",
   "metadata": {},
   "outputs": [],
   "source": [
    "umd2 = umd2[(umd2.date >= pd.to_datetime('01-01-1994')) & (umd2.date < pd.to_datetime('01-01-2024'))] #confining to testing period "
   ]
  },
  {
   "cell_type": "code",
   "execution_count": 8,
   "id": "d834aa3c-3a69-478f-8215-d47bfb455268",
   "metadata": {},
   "outputs": [],
   "source": [
    "umd2 = umd2.merge(_tmp_mrktcp, on=['date', 'compNam'], how='inner')"
   ]
  },
  {
   "cell_type": "code",
   "execution_count": 9,
   "id": "8d09eeee-03f5-46db-a20b-7ef0960a6b69",
   "metadata": {},
   "outputs": [
    {
     "data": {
      "text/html": [
       "<div>\n",
       "<style scoped>\n",
       "    .dataframe tbody tr th:only-of-type {\n",
       "        vertical-align: middle;\n",
       "    }\n",
       "\n",
       "    .dataframe tbody tr th {\n",
       "        vertical-align: top;\n",
       "    }\n",
       "\n",
       "    .dataframe thead th {\n",
       "        text-align: right;\n",
       "    }\n",
       "</style>\n",
       "<table border=\"1\" class=\"dataframe\">\n",
       "  <thead>\n",
       "    <tr style=\"text-align: right;\">\n",
       "      <th></th>\n",
       "      <th>mean</th>\n",
       "      <th>std_error</th>\n",
       "      <th>tstat</th>\n",
       "    </tr>\n",
       "  </thead>\n",
       "  <tbody>\n",
       "    <tr>\n",
       "      <th>intercept</th>\n",
       "      <td>-0.003359</td>\n",
       "      <td>0.001854</td>\n",
       "      <td>-1.811668</td>\n",
       "    </tr>\n",
       "    <tr>\n",
       "      <th>diff_1</th>\n",
       "      <td>-0.057295</td>\n",
       "      <td>0.005665</td>\n",
       "      <td>-10.113709</td>\n",
       "    </tr>\n",
       "    <tr>\n",
       "      <th>diff_2</th>\n",
       "      <td>-0.001507</td>\n",
       "      <td>0.005215</td>\n",
       "      <td>-0.288964</td>\n",
       "    </tr>\n",
       "    <tr>\n",
       "      <th>diff_3</th>\n",
       "      <td>0.001234</td>\n",
       "      <td>0.004928</td>\n",
       "      <td>0.250352</td>\n",
       "    </tr>\n",
       "    <tr>\n",
       "      <th>diff_4</th>\n",
       "      <td>0.007152</td>\n",
       "      <td>0.005309</td>\n",
       "      <td>1.347172</td>\n",
       "    </tr>\n",
       "    <tr>\n",
       "      <th>diff_5</th>\n",
       "      <td>-0.001114</td>\n",
       "      <td>0.004584</td>\n",
       "      <td>-0.243117</td>\n",
       "    </tr>\n",
       "    <tr>\n",
       "      <th>diff_6</th>\n",
       "      <td>0.003067</td>\n",
       "      <td>0.004814</td>\n",
       "      <td>0.637131</td>\n",
       "    </tr>\n",
       "    <tr>\n",
       "      <th>diff_7</th>\n",
       "      <td>0.006288</td>\n",
       "      <td>0.004893</td>\n",
       "      <td>1.285026</td>\n",
       "    </tr>\n",
       "    <tr>\n",
       "      <th>diff_8</th>\n",
       "      <td>0.002985</td>\n",
       "      <td>0.004452</td>\n",
       "      <td>0.670434</td>\n",
       "    </tr>\n",
       "    <tr>\n",
       "      <th>diff_9</th>\n",
       "      <td>0.001540</td>\n",
       "      <td>0.004584</td>\n",
       "      <td>0.335952</td>\n",
       "    </tr>\n",
       "    <tr>\n",
       "      <th>diff_10</th>\n",
       "      <td>0.001587</td>\n",
       "      <td>0.004356</td>\n",
       "      <td>0.364354</td>\n",
       "    </tr>\n",
       "    <tr>\n",
       "      <th>diff_11</th>\n",
       "      <td>0.011862</td>\n",
       "      <td>0.004558</td>\n",
       "      <td>2.602547</td>\n",
       "    </tr>\n",
       "    <tr>\n",
       "      <th>diff_12</th>\n",
       "      <td>0.014561</td>\n",
       "      <td>0.004277</td>\n",
       "      <td>3.404266</td>\n",
       "    </tr>\n",
       "    <tr>\n",
       "      <th>diff_24</th>\n",
       "      <td>0.015328</td>\n",
       "      <td>0.004582</td>\n",
       "      <td>3.345128</td>\n",
       "    </tr>\n",
       "    <tr>\n",
       "      <th>diff_36</th>\n",
       "      <td>0.005043</td>\n",
       "      <td>0.003859</td>\n",
       "      <td>1.306837</td>\n",
       "    </tr>\n",
       "  </tbody>\n",
       "</table>\n",
       "</div>"
      ],
      "text/plain": [
       "               mean  std_error      tstat\n",
       "intercept -0.003359   0.001854  -1.811668\n",
       "diff_1    -0.057295   0.005665 -10.113709\n",
       "diff_2    -0.001507   0.005215  -0.288964\n",
       "diff_3     0.001234   0.004928   0.250352\n",
       "diff_4     0.007152   0.005309   1.347172\n",
       "diff_5    -0.001114   0.004584  -0.243117\n",
       "diff_6     0.003067   0.004814   0.637131\n",
       "diff_7     0.006288   0.004893   1.285026\n",
       "diff_8     0.002985   0.004452   0.670434\n",
       "diff_9     0.001540   0.004584   0.335952\n",
       "diff_10    0.001587   0.004356   0.364354\n",
       "diff_11    0.011862   0.004558   2.602547\n",
       "diff_12    0.014561   0.004277   3.404266\n",
       "diff_24    0.015328   0.004582   3.345128\n",
       "diff_36    0.005043   0.003859   1.306837"
      ]
     },
     "execution_count": 9,
     "metadata": {},
     "output_type": "execute_result"
    }
   ],
   "source": [
    "#results for the full sample of all months \n",
    "\n",
    "results = fama_macbeth(umd2, 'date', 'residualRet', ['diff_1', 'diff_2', 'diff_3', 'diff_4', 'diff_5', 'diff_6',\n",
    "       'diff_7', 'diff_8', 'diff_9', 'diff_10', 'diff_11', 'diff_12', 'diff_24', 'diff_36'], intercept = True)\n",
    "\n",
    "summary = fm_summary(results)\n",
    "summary"
   ]
  },
  {
   "cell_type": "code",
   "execution_count": 10,
   "id": "3798d248-dce1-4835-9f1d-c91eb657f81f",
   "metadata": {},
   "outputs": [],
   "source": [
    "#marking the month of January in the data\n",
    "umd2['month'] = [i.month for i in umd2['date'].tolist()]\n",
    "umd3 = umd2[umd2.month == 1] #january returns\n",
    "umd4 = umd2[umd2.month != 1] #non january returns"
   ]
  },
  {
   "cell_type": "code",
   "execution_count": 11,
   "id": "97b20abf-4f89-4b80-bd79-c54ff4f9f931",
   "metadata": {},
   "outputs": [
    {
     "name": "stderr",
     "output_type": "stream",
     "text": [
      "/Users/henry/opt/anaconda3/lib/python3.9/site-packages/finance_byu/fama_macbeth.py:44: SettingWithCopyWarning: \n",
      "A value is trying to be set on a copy of a slice from a DataFrame.\n",
      "Try using .loc[row_indexer,col_indexer] = value instead\n",
      "\n",
      "See the caveats in the documentation: https://pandas.pydata.org/pandas-docs/stable/user_guide/indexing.html#returning-a-view-versus-a-copy\n",
      "  data['intercept'] = 1\n"
     ]
    },
    {
     "data": {
      "text/html": [
       "<div>\n",
       "<style scoped>\n",
       "    .dataframe tbody tr th:only-of-type {\n",
       "        vertical-align: middle;\n",
       "    }\n",
       "\n",
       "    .dataframe tbody tr th {\n",
       "        vertical-align: top;\n",
       "    }\n",
       "\n",
       "    .dataframe thead th {\n",
       "        text-align: right;\n",
       "    }\n",
       "</style>\n",
       "<table border=\"1\" class=\"dataframe\">\n",
       "  <thead>\n",
       "    <tr style=\"text-align: right;\">\n",
       "      <th></th>\n",
       "      <th>mean</th>\n",
       "      <th>std_error</th>\n",
       "      <th>tstat</th>\n",
       "    </tr>\n",
       "  </thead>\n",
       "  <tbody>\n",
       "    <tr>\n",
       "      <th>intercept</th>\n",
       "      <td>0.002555</td>\n",
       "      <td>0.006380</td>\n",
       "      <td>0.400449</td>\n",
       "    </tr>\n",
       "    <tr>\n",
       "      <th>diff_1</th>\n",
       "      <td>-0.095304</td>\n",
       "      <td>0.015210</td>\n",
       "      <td>-6.265739</td>\n",
       "    </tr>\n",
       "    <tr>\n",
       "      <th>diff_2</th>\n",
       "      <td>-0.007787</td>\n",
       "      <td>0.019846</td>\n",
       "      <td>-0.392353</td>\n",
       "    </tr>\n",
       "    <tr>\n",
       "      <th>diff_3</th>\n",
       "      <td>-0.023057</td>\n",
       "      <td>0.019849</td>\n",
       "      <td>-1.161624</td>\n",
       "    </tr>\n",
       "    <tr>\n",
       "      <th>diff_4</th>\n",
       "      <td>0.004368</td>\n",
       "      <td>0.021011</td>\n",
       "      <td>0.207883</td>\n",
       "    </tr>\n",
       "    <tr>\n",
       "      <th>diff_5</th>\n",
       "      <td>-0.004844</td>\n",
       "      <td>0.019777</td>\n",
       "      <td>-0.244940</td>\n",
       "    </tr>\n",
       "    <tr>\n",
       "      <th>diff_6</th>\n",
       "      <td>-0.005085</td>\n",
       "      <td>0.014563</td>\n",
       "      <td>-0.349174</td>\n",
       "    </tr>\n",
       "    <tr>\n",
       "      <th>diff_7</th>\n",
       "      <td>-0.002545</td>\n",
       "      <td>0.016413</td>\n",
       "      <td>-0.155040</td>\n",
       "    </tr>\n",
       "    <tr>\n",
       "      <th>diff_8</th>\n",
       "      <td>0.015117</td>\n",
       "      <td>0.011889</td>\n",
       "      <td>1.271517</td>\n",
       "    </tr>\n",
       "    <tr>\n",
       "      <th>diff_9</th>\n",
       "      <td>-0.003820</td>\n",
       "      <td>0.011542</td>\n",
       "      <td>-0.330975</td>\n",
       "    </tr>\n",
       "    <tr>\n",
       "      <th>diff_10</th>\n",
       "      <td>-0.003902</td>\n",
       "      <td>0.015372</td>\n",
       "      <td>-0.253824</td>\n",
       "    </tr>\n",
       "    <tr>\n",
       "      <th>diff_11</th>\n",
       "      <td>-0.012038</td>\n",
       "      <td>0.015796</td>\n",
       "      <td>-0.762083</td>\n",
       "    </tr>\n",
       "    <tr>\n",
       "      <th>diff_12</th>\n",
       "      <td>0.031895</td>\n",
       "      <td>0.014257</td>\n",
       "      <td>2.237105</td>\n",
       "    </tr>\n",
       "    <tr>\n",
       "      <th>diff_24</th>\n",
       "      <td>-0.008109</td>\n",
       "      <td>0.014624</td>\n",
       "      <td>-0.554476</td>\n",
       "    </tr>\n",
       "    <tr>\n",
       "      <th>diff_36</th>\n",
       "      <td>0.026706</td>\n",
       "      <td>0.017848</td>\n",
       "      <td>1.496307</td>\n",
       "    </tr>\n",
       "  </tbody>\n",
       "</table>\n",
       "</div>"
      ],
      "text/plain": [
       "               mean  std_error     tstat\n",
       "intercept  0.002555   0.006380  0.400449\n",
       "diff_1    -0.095304   0.015210 -6.265739\n",
       "diff_2    -0.007787   0.019846 -0.392353\n",
       "diff_3    -0.023057   0.019849 -1.161624\n",
       "diff_4     0.004368   0.021011  0.207883\n",
       "diff_5    -0.004844   0.019777 -0.244940\n",
       "diff_6    -0.005085   0.014563 -0.349174\n",
       "diff_7    -0.002545   0.016413 -0.155040\n",
       "diff_8     0.015117   0.011889  1.271517\n",
       "diff_9    -0.003820   0.011542 -0.330975\n",
       "diff_10   -0.003902   0.015372 -0.253824\n",
       "diff_11   -0.012038   0.015796 -0.762083\n",
       "diff_12    0.031895   0.014257  2.237105\n",
       "diff_24   -0.008109   0.014624 -0.554476\n",
       "diff_36    0.026706   0.017848  1.496307"
      ]
     },
     "execution_count": 11,
     "metadata": {},
     "output_type": "execute_result"
    }
   ],
   "source": [
    "#results for the full sample of January only months \n",
    "\n",
    "results_jan = fama_macbeth(umd3, 'date', 'residualRet', ['diff_1', 'diff_2', 'diff_3', 'diff_4', 'diff_5', 'diff_6',\n",
    "       'diff_7', 'diff_8', 'diff_9', 'diff_10', 'diff_11', 'diff_12', 'diff_24', 'diff_36'], intercept = True)\n",
    "\n",
    "summary = fm_summary(results_jan)\n",
    "summary"
   ]
  },
  {
   "cell_type": "code",
   "execution_count": 12,
   "id": "4c026972-14fc-4c13-a66a-db471ad15153",
   "metadata": {},
   "outputs": [
    {
     "name": "stderr",
     "output_type": "stream",
     "text": [
      "/Users/henry/opt/anaconda3/lib/python3.9/site-packages/finance_byu/fama_macbeth.py:44: SettingWithCopyWarning: \n",
      "A value is trying to be set on a copy of a slice from a DataFrame.\n",
      "Try using .loc[row_indexer,col_indexer] = value instead\n",
      "\n",
      "See the caveats in the documentation: https://pandas.pydata.org/pandas-docs/stable/user_guide/indexing.html#returning-a-view-versus-a-copy\n",
      "  data['intercept'] = 1\n"
     ]
    },
    {
     "data": {
      "text/html": [
       "<div>\n",
       "<style scoped>\n",
       "    .dataframe tbody tr th:only-of-type {\n",
       "        vertical-align: middle;\n",
       "    }\n",
       "\n",
       "    .dataframe tbody tr th {\n",
       "        vertical-align: top;\n",
       "    }\n",
       "\n",
       "    .dataframe thead th {\n",
       "        text-align: right;\n",
       "    }\n",
       "</style>\n",
       "<table border=\"1\" class=\"dataframe\">\n",
       "  <thead>\n",
       "    <tr style=\"text-align: right;\">\n",
       "      <th></th>\n",
       "      <th>mean</th>\n",
       "      <th>std_error</th>\n",
       "      <th>tstat</th>\n",
       "    </tr>\n",
       "  </thead>\n",
       "  <tbody>\n",
       "    <tr>\n",
       "      <th>intercept</th>\n",
       "      <td>-0.003896</td>\n",
       "      <td>0.001938</td>\n",
       "      <td>-2.010794</td>\n",
       "    </tr>\n",
       "    <tr>\n",
       "      <th>diff_1</th>\n",
       "      <td>-0.053839</td>\n",
       "      <td>0.005993</td>\n",
       "      <td>-8.984029</td>\n",
       "    </tr>\n",
       "    <tr>\n",
       "      <th>diff_2</th>\n",
       "      <td>-0.000936</td>\n",
       "      <td>0.005404</td>\n",
       "      <td>-0.173209</td>\n",
       "    </tr>\n",
       "    <tr>\n",
       "      <th>diff_3</th>\n",
       "      <td>0.003442</td>\n",
       "      <td>0.005057</td>\n",
       "      <td>0.680658</td>\n",
       "    </tr>\n",
       "    <tr>\n",
       "      <th>diff_4</th>\n",
       "      <td>0.007405</td>\n",
       "      <td>0.005478</td>\n",
       "      <td>1.351748</td>\n",
       "    </tr>\n",
       "    <tr>\n",
       "      <th>diff_5</th>\n",
       "      <td>-0.000775</td>\n",
       "      <td>0.004677</td>\n",
       "      <td>-0.165779</td>\n",
       "    </tr>\n",
       "    <tr>\n",
       "      <th>diff_6</th>\n",
       "      <td>0.003809</td>\n",
       "      <td>0.005086</td>\n",
       "      <td>0.748760</td>\n",
       "    </tr>\n",
       "    <tr>\n",
       "      <th>diff_7</th>\n",
       "      <td>0.007091</td>\n",
       "      <td>0.005130</td>\n",
       "      <td>1.382159</td>\n",
       "    </tr>\n",
       "    <tr>\n",
       "      <th>diff_8</th>\n",
       "      <td>0.001882</td>\n",
       "      <td>0.004735</td>\n",
       "      <td>0.397480</td>\n",
       "    </tr>\n",
       "    <tr>\n",
       "      <th>diff_9</th>\n",
       "      <td>0.002027</td>\n",
       "      <td>0.004893</td>\n",
       "      <td>0.414357</td>\n",
       "    </tr>\n",
       "    <tr>\n",
       "      <th>diff_10</th>\n",
       "      <td>0.002086</td>\n",
       "      <td>0.004548</td>\n",
       "      <td>0.458694</td>\n",
       "    </tr>\n",
       "    <tr>\n",
       "      <th>diff_11</th>\n",
       "      <td>0.014034</td>\n",
       "      <td>0.004749</td>\n",
       "      <td>2.955025</td>\n",
       "    </tr>\n",
       "    <tr>\n",
       "      <th>diff_12</th>\n",
       "      <td>0.012985</td>\n",
       "      <td>0.004479</td>\n",
       "      <td>2.899305</td>\n",
       "    </tr>\n",
       "    <tr>\n",
       "      <th>diff_24</th>\n",
       "      <td>0.017459</td>\n",
       "      <td>0.004808</td>\n",
       "      <td>3.631334</td>\n",
       "    </tr>\n",
       "    <tr>\n",
       "      <th>diff_36</th>\n",
       "      <td>0.003074</td>\n",
       "      <td>0.003877</td>\n",
       "      <td>0.792760</td>\n",
       "    </tr>\n",
       "  </tbody>\n",
       "</table>\n",
       "</div>"
      ],
      "text/plain": [
       "               mean  std_error     tstat\n",
       "intercept -0.003896   0.001938 -2.010794\n",
       "diff_1    -0.053839   0.005993 -8.984029\n",
       "diff_2    -0.000936   0.005404 -0.173209\n",
       "diff_3     0.003442   0.005057  0.680658\n",
       "diff_4     0.007405   0.005478  1.351748\n",
       "diff_5    -0.000775   0.004677 -0.165779\n",
       "diff_6     0.003809   0.005086  0.748760\n",
       "diff_7     0.007091   0.005130  1.382159\n",
       "diff_8     0.001882   0.004735  0.397480\n",
       "diff_9     0.002027   0.004893  0.414357\n",
       "diff_10    0.002086   0.004548  0.458694\n",
       "diff_11    0.014034   0.004749  2.955025\n",
       "diff_12    0.012985   0.004479  2.899305\n",
       "diff_24    0.017459   0.004808  3.631334\n",
       "diff_36    0.003074   0.003877  0.792760"
      ]
     },
     "execution_count": 12,
     "metadata": {},
     "output_type": "execute_result"
    }
   ],
   "source": [
    "#results for the full sample of non January months \n",
    "\n",
    "results_non_jan = fama_macbeth(umd4, 'date', 'residualRet', ['diff_1', 'diff_2', 'diff_3', 'diff_4', 'diff_5', 'diff_6',\n",
    "       'diff_7', 'diff_8', 'diff_9', 'diff_10', 'diff_11', 'diff_12', 'diff_24', 'diff_36'], intercept = True)\n",
    "\n",
    "summary = fm_summary(results_non_jan)\n",
    "summary"
   ]
  },
  {
   "cell_type": "markdown",
   "id": "02f0f1d8-be04-4fd5-941e-a0a8096b37f4",
   "metadata": {},
   "source": [
    "# Section V: Contrarian Trading\n"
   ]
  },
  {
   "cell_type": "code",
   "execution_count": null,
   "id": "8fe1f125-eb78-4bed-8631-0dd4fd8b7c3e",
   "metadata": {},
   "outputs": [],
   "source": [
    "#########################\n",
    "# Testing the contrarian trading strategy using the custom function top_bottom_50 \n",
    "#########################\n",
    "top50Rets_all, mom_output_all, ewretdat2_all, port_all, ewretdat_all, ewretdat3_all = top_bottom_50(umd, lspd_m, '1994-01-01', '2024-01-01')"
   ]
  },
  {
   "cell_type": "code",
   "execution_count": null,
   "id": "c6a2a34a-918f-4950-a873-7bb427aa4133",
   "metadata": {},
   "outputs": [],
   "source": [
    "#portfolio returns\n",
    "\n",
    "mom_output_all"
   ]
  },
  {
   "cell_type": "code",
   "execution_count": null,
   "id": "40b6cc24-8d72-4808-9bf3-28c011ea632c",
   "metadata": {},
   "outputs": [],
   "source": [
    "#average market return for the sample period \n",
    "marketSamp = lseRets[(lseRets['date'] > pd.to_datetime('1994-01-01')) & (lseRets['date'] < pd.to_datetime('2024-01-01'))]\n",
    "marketSamp['mrktRet'].mean()"
   ]
  },
  {
   "cell_type": "markdown",
   "id": "c563ad7c-97ca-496b-ada0-8032a9981ab2",
   "metadata": {},
   "source": [
    "### Comission Impact Test"
   ]
  },
  {
   "cell_type": "code",
   "execution_count": null,
   "id": "3dd4ee58-e018-488b-a710-1c7a2c541ff1",
   "metadata": {},
   "outputs": [],
   "source": [
    "ewretdat3_all['losers_comm'] = ewretdat3_all['losers'] - 0.01 #removing 1% per month from the strategy returns to check for transaction costs"
   ]
  },
  {
   "cell_type": "code",
   "execution_count": 33,
   "id": "16ea2cab-243c-4677-aa1a-90e54d842785",
   "metadata": {},
   "outputs": [
    {
     "data": {
      "text/html": [
       "<div>\n",
       "<style scoped>\n",
       "    .dataframe tbody tr th:only-of-type {\n",
       "        vertical-align: middle;\n",
       "    }\n",
       "\n",
       "    .dataframe tbody tr th {\n",
       "        vertical-align: top;\n",
       "    }\n",
       "\n",
       "    .dataframe thead th {\n",
       "        text-align: right;\n",
       "    }\n",
       "</style>\n",
       "<table border=\"1\" class=\"dataframe\">\n",
       "  <thead>\n",
       "    <tr style=\"text-align: right;\">\n",
       "      <th></th>\n",
       "      <th>index</th>\n",
       "      <th>Contrarian Returns Minus Comission</th>\n",
       "    </tr>\n",
       "  </thead>\n",
       "  <tbody>\n",
       "    <tr>\n",
       "      <th>0</th>\n",
       "      <td>count</td>\n",
       "      <td>360.000000</td>\n",
       "    </tr>\n",
       "    <tr>\n",
       "      <th>1</th>\n",
       "      <td>mean</td>\n",
       "      <td>0.012797</td>\n",
       "    </tr>\n",
       "    <tr>\n",
       "      <th>2</th>\n",
       "      <td>std</td>\n",
       "      <td>0.067988</td>\n",
       "    </tr>\n",
       "  </tbody>\n",
       "</table>\n",
       "</div>"
      ],
      "text/plain": [
       "   index  Contrarian Returns Minus Comission\n",
       "0  count                          360.000000\n",
       "1   mean                            0.012797\n",
       "2    std                            0.067988"
      ]
     },
     "execution_count": 33,
     "metadata": {},
     "output_type": "execute_result"
    }
   ],
   "source": [
    "ewretdat3_all['Contrarian Returns Minus Comission'] = ewretdat3_all['losers_comm'] - ewretdat3_all['winners']\n",
    "ewretdat3_all['Contrarian Returns Minus Comission'].describe()[['count','mean', 'std']].reset_index()"
   ]
  },
  {
   "cell_type": "code",
   "execution_count": 34,
   "id": "c92ee52e-855b-4bd1-a41c-5a790f0bc5ab",
   "metadata": {},
   "outputs": [
    {
     "name": "stdout",
     "output_type": "stream",
     "text": [
      "T-Statistic post-transaction costs:  3.571342930445273\n"
     ]
    }
   ],
   "source": [
    "zero_mean_alternate = [0.0 for i in range(len(ewretdat3_all))]\n",
    "\n",
    "\n",
    "print('T-Statistic post-transaction costs: ', ttest_ind(np.array(ewretdat3_all['long_short_comm']),zero_mean_alternate)[0])"
   ]
  },
  {
   "cell_type": "markdown",
   "id": "31a06a46-74ed-4c50-9e57-bd76f38f8892",
   "metadata": {},
   "source": [
    "### Seasonality Tests"
   ]
  },
  {
   "cell_type": "code",
   "execution_count": 45,
   "id": "caff3b29-b58c-4a90-a3b8-22390db816f3",
   "metadata": {},
   "outputs": [],
   "source": [
    "ewretdat4 = ewretdat3_all.reset_index()\n",
    "ewretdat4['month'] = ewretdat4['date'].apply(lambda x: x.month)\n",
    "ewretdat4['non_jan'] = ewretdat4['month'].apply(lambda x: 'Jan.' if x == 1 else 'Feb.-Dec.')\n",
    "\n",
    "\n",
    "monthly_rets = ewretdat4.groupby('month')['long_short'].describe()[['count','mean', 'std']]\n",
    "monthly_rets_grouped_all = ewretdat4.groupby('non_jan')['long_short'].describe()[['mean', 'std']]\n",
    "monthly_rets_grouped_losers = ewretdat4.groupby('non_jan')['losers'].describe()[['mean', 'std']]\n",
    "monthly_rets_grouped_winners = ewretdat4.groupby('non_jan')['winners'].describe()[['mean', 'std']]\n",
    "\n",
    "jans = ewretdat4[ewretdat4.non_jan == 'Jan.']\n",
    "non_jans = ewretdat4[ewretdat4.non_jan != 'Jan.']\n",
    "\n",
    "t_losers_jan = ttest_ind(jans['losers'], np.zeros(len(jans['losers'])))[0]\n",
    "t_winners_jan = ttest_ind(jans['winners'], np.zeros(len(jans['winners'])))[0]\n",
    "t_long_short_jan = ttest_ind(jans['long_short'], np.zeros(len(jans['long_short'])))[0]\n",
    "                         \n",
    "t_losers_nonjan = ttest_ind(non_jans['losers'], np.zeros(len(non_jans['losers'])))[0]\n",
    "t_winners_nonjan = ttest_ind(non_jans['winners'], np.zeros(len(non_jans['winners'])))[0]\n",
    "t_long_short_nonjan = ttest_ind(non_jans['long_short'], np.zeros(len(non_jans['long_short'])))[0]"
   ]
  },
  {
   "cell_type": "code",
   "execution_count": 183,
   "id": "a0e3adb3-4b1b-4ff4-a1b9-572ef121fdc0",
   "metadata": {},
   "outputs": [
    {
     "data": {
      "text/plain": [
       "(3.6539446700314233, 0.0005569364483243858, 58.0)"
      ]
     },
     "execution_count": 183,
     "metadata": {},
     "output_type": "execute_result"
    }
   ],
   "source": [
    "ttest_ind(jans['losers'], np.zeros(len(jans['losers']))) #t, p, obs"
   ]
  },
  {
   "cell_type": "code",
   "execution_count": 46,
   "id": "9ca15d5d-e56e-4e52-85a0-837011731a7a",
   "metadata": {},
   "outputs": [
    {
     "data": {
      "text/html": [
       "<div>\n",
       "<style scoped>\n",
       "    .dataframe tbody tr th:only-of-type {\n",
       "        vertical-align: middle;\n",
       "    }\n",
       "\n",
       "    .dataframe tbody tr th {\n",
       "        vertical-align: top;\n",
       "    }\n",
       "\n",
       "    .dataframe thead th {\n",
       "        text-align: right;\n",
       "    }\n",
       "</style>\n",
       "<table border=\"1\" class=\"dataframe\">\n",
       "  <thead>\n",
       "    <tr style=\"text-align: right;\">\n",
       "      <th></th>\n",
       "      <th>count</th>\n",
       "      <th>mean</th>\n",
       "      <th>std</th>\n",
       "    </tr>\n",
       "    <tr>\n",
       "      <th>month</th>\n",
       "      <th></th>\n",
       "      <th></th>\n",
       "      <th></th>\n",
       "    </tr>\n",
       "  </thead>\n",
       "  <tbody>\n",
       "    <tr>\n",
       "      <th>1</th>\n",
       "      <td>30.0</td>\n",
       "      <td>0.047859</td>\n",
       "      <td>0.066748</td>\n",
       "    </tr>\n",
       "    <tr>\n",
       "      <th>2</th>\n",
       "      <td>30.0</td>\n",
       "      <td>0.010366</td>\n",
       "      <td>0.093139</td>\n",
       "    </tr>\n",
       "    <tr>\n",
       "      <th>3</th>\n",
       "      <td>30.0</td>\n",
       "      <td>0.031158</td>\n",
       "      <td>0.081481</td>\n",
       "    </tr>\n",
       "    <tr>\n",
       "      <th>4</th>\n",
       "      <td>30.0</td>\n",
       "      <td>0.049776</td>\n",
       "      <td>0.082993</td>\n",
       "    </tr>\n",
       "    <tr>\n",
       "      <th>5</th>\n",
       "      <td>30.0</td>\n",
       "      <td>0.012070</td>\n",
       "      <td>0.066910</td>\n",
       "    </tr>\n",
       "    <tr>\n",
       "      <th>6</th>\n",
       "      <td>30.0</td>\n",
       "      <td>0.020173</td>\n",
       "      <td>0.062463</td>\n",
       "    </tr>\n",
       "    <tr>\n",
       "      <th>7</th>\n",
       "      <td>30.0</td>\n",
       "      <td>0.007440</td>\n",
       "      <td>0.047758</td>\n",
       "    </tr>\n",
       "    <tr>\n",
       "      <th>8</th>\n",
       "      <td>30.0</td>\n",
       "      <td>0.035680</td>\n",
       "      <td>0.055161</td>\n",
       "    </tr>\n",
       "    <tr>\n",
       "      <th>9</th>\n",
       "      <td>30.0</td>\n",
       "      <td>0.018374</td>\n",
       "      <td>0.045807</td>\n",
       "    </tr>\n",
       "    <tr>\n",
       "      <th>10</th>\n",
       "      <td>30.0</td>\n",
       "      <td>0.021219</td>\n",
       "      <td>0.052433</td>\n",
       "    </tr>\n",
       "    <tr>\n",
       "      <th>11</th>\n",
       "      <td>30.0</td>\n",
       "      <td>0.006817</td>\n",
       "      <td>0.066733</td>\n",
       "    </tr>\n",
       "    <tr>\n",
       "      <th>12</th>\n",
       "      <td>30.0</td>\n",
       "      <td>0.012631</td>\n",
       "      <td>0.070642</td>\n",
       "    </tr>\n",
       "  </tbody>\n",
       "</table>\n",
       "</div>"
      ],
      "text/plain": [
       "       count      mean       std\n",
       "month                           \n",
       "1       30.0  0.047859  0.066748\n",
       "2       30.0  0.010366  0.093139\n",
       "3       30.0  0.031158  0.081481\n",
       "4       30.0  0.049776  0.082993\n",
       "5       30.0  0.012070  0.066910\n",
       "6       30.0  0.020173  0.062463\n",
       "7       30.0  0.007440  0.047758\n",
       "8       30.0  0.035680  0.055161\n",
       "9       30.0  0.018374  0.045807\n",
       "10      30.0  0.021219  0.052433\n",
       "11      30.0  0.006817  0.066733\n",
       "12      30.0  0.012631  0.070642"
      ]
     },
     "execution_count": 46,
     "metadata": {},
     "output_type": "execute_result"
    }
   ],
   "source": [
    "#average returns per month \n",
    "monthly_rets"
   ]
  },
  {
   "cell_type": "code",
   "execution_count": 47,
   "id": "d325fe48-ce76-42cd-9406-6e62d2d76658",
   "metadata": {},
   "outputs": [
    {
     "data": {
      "text/html": [
       "<div>\n",
       "<style scoped>\n",
       "    .dataframe tbody tr th:only-of-type {\n",
       "        vertical-align: middle;\n",
       "    }\n",
       "\n",
       "    .dataframe tbody tr th {\n",
       "        vertical-align: top;\n",
       "    }\n",
       "\n",
       "    .dataframe thead th {\n",
       "        text-align: right;\n",
       "    }\n",
       "</style>\n",
       "<table border=\"1\" class=\"dataframe\">\n",
       "  <thead>\n",
       "    <tr style=\"text-align: right;\">\n",
       "      <th></th>\n",
       "      <th>mean</th>\n",
       "      <th>std</th>\n",
       "      <th>T-stat</th>\n",
       "    </tr>\n",
       "    <tr>\n",
       "      <th>non_jan</th>\n",
       "      <th></th>\n",
       "      <th></th>\n",
       "      <th></th>\n",
       "    </tr>\n",
       "  </thead>\n",
       "  <tbody>\n",
       "    <tr>\n",
       "      <th>Feb.-Dec.</th>\n",
       "      <td>0.020519</td>\n",
       "      <td>0.067739</td>\n",
       "      <td>5.502568</td>\n",
       "    </tr>\n",
       "    <tr>\n",
       "      <th>Jan.</th>\n",
       "      <td>0.047859</td>\n",
       "      <td>0.066748</td>\n",
       "      <td>3.927264</td>\n",
       "    </tr>\n",
       "  </tbody>\n",
       "</table>\n",
       "</div>"
      ],
      "text/plain": [
       "               mean       std    T-stat\n",
       "non_jan                                \n",
       "Feb.-Dec.  0.020519  0.067739  5.502568\n",
       "Jan.       0.047859  0.066748  3.927264"
      ]
     },
     "execution_count": 47,
     "metadata": {},
     "output_type": "execute_result"
    }
   ],
   "source": [
    "#returns in Jan only sample and outside Jan for the contrarian strategy \n",
    "monthly_rets_grouped_all['T-stat'] = [t_long_short_nonjan, t_long_short_jan]\n",
    "monthly_rets_grouped_all"
   ]
  },
  {
   "cell_type": "code",
   "execution_count": 48,
   "id": "1e8e62b9-9114-4c68-9461-5b72108e7efc",
   "metadata": {},
   "outputs": [
    {
     "data": {
      "text/html": [
       "<div>\n",
       "<style scoped>\n",
       "    .dataframe tbody tr th:only-of-type {\n",
       "        vertical-align: middle;\n",
       "    }\n",
       "\n",
       "    .dataframe tbody tr th {\n",
       "        vertical-align: top;\n",
       "    }\n",
       "\n",
       "    .dataframe thead th {\n",
       "        text-align: right;\n",
       "    }\n",
       "</style>\n",
       "<table border=\"1\" class=\"dataframe\">\n",
       "  <thead>\n",
       "    <tr style=\"text-align: right;\">\n",
       "      <th></th>\n",
       "      <th>mean</th>\n",
       "      <th>std</th>\n",
       "      <th>T-stat</th>\n",
       "    </tr>\n",
       "    <tr>\n",
       "      <th>non_jan</th>\n",
       "      <th></th>\n",
       "      <th></th>\n",
       "      <th></th>\n",
       "    </tr>\n",
       "  </thead>\n",
       "  <tbody>\n",
       "    <tr>\n",
       "      <th>Feb.-Dec.</th>\n",
       "      <td>0.023201</td>\n",
       "      <td>0.085959</td>\n",
       "      <td>4.903086</td>\n",
       "    </tr>\n",
       "    <tr>\n",
       "      <th>Jan.</th>\n",
       "      <td>0.058429</td>\n",
       "      <td>0.087585</td>\n",
       "      <td>3.653945</td>\n",
       "    </tr>\n",
       "  </tbody>\n",
       "</table>\n",
       "</div>"
      ],
      "text/plain": [
       "               mean       std    T-stat\n",
       "non_jan                                \n",
       "Feb.-Dec.  0.023201  0.085959  4.903086\n",
       "Jan.       0.058429  0.087585  3.653945"
      ]
     },
     "execution_count": 48,
     "metadata": {},
     "output_type": "execute_result"
    }
   ],
   "source": [
    "monthly_rets_grouped_losers['T-stat'] = [t_losers_nonjan, t_losers_jan]\n",
    "monthly_rets_grouped_losers"
   ]
  },
  {
   "cell_type": "code",
   "execution_count": 49,
   "id": "04f11708-4f22-4f19-b7fb-0a6278b78392",
   "metadata": {},
   "outputs": [
    {
     "data": {
      "text/html": [
       "<div>\n",
       "<style scoped>\n",
       "    .dataframe tbody tr th:only-of-type {\n",
       "        vertical-align: middle;\n",
       "    }\n",
       "\n",
       "    .dataframe tbody tr th {\n",
       "        vertical-align: top;\n",
       "    }\n",
       "\n",
       "    .dataframe thead th {\n",
       "        text-align: right;\n",
       "    }\n",
       "</style>\n",
       "<table border=\"1\" class=\"dataframe\">\n",
       "  <thead>\n",
       "    <tr style=\"text-align: right;\">\n",
       "      <th></th>\n",
       "      <th>mean</th>\n",
       "      <th>std</th>\n",
       "      <th>T-stat</th>\n",
       "    </tr>\n",
       "    <tr>\n",
       "      <th>non_jan</th>\n",
       "      <th></th>\n",
       "      <th></th>\n",
       "      <th></th>\n",
       "    </tr>\n",
       "  </thead>\n",
       "  <tbody>\n",
       "    <tr>\n",
       "      <th>Feb.-Dec.</th>\n",
       "      <td>0.002682</td>\n",
       "      <td>0.065855</td>\n",
       "      <td>0.739855</td>\n",
       "    </tr>\n",
       "    <tr>\n",
       "      <th>Jan.</th>\n",
       "      <td>0.010570</td>\n",
       "      <td>0.053094</td>\n",
       "      <td>1.090397</td>\n",
       "    </tr>\n",
       "  </tbody>\n",
       "</table>\n",
       "</div>"
      ],
      "text/plain": [
       "               mean       std    T-stat\n",
       "non_jan                                \n",
       "Feb.-Dec.  0.002682  0.065855  0.739855\n",
       "Jan.       0.010570  0.053094  1.090397"
      ]
     },
     "execution_count": 49,
     "metadata": {},
     "output_type": "execute_result"
    }
   ],
   "source": [
    "monthly_rets_grouped_winners['T-stat'] = [t_winners_nonjan, t_winners_jan]\n",
    "monthly_rets_grouped_winners"
   ]
  },
  {
   "cell_type": "markdown",
   "id": "a1bbd7e3-91be-4648-8512-c9b43c3b1602",
   "metadata": {},
   "source": [
    "# Section VI: Risk Adjustments"
   ]
  },
  {
   "cell_type": "markdown",
   "id": "061f4fab-65be-40ee-a410-f6e1f56760af",
   "metadata": {},
   "source": [
    "### Market Based Risk Adjustment with CAPM"
   ]
  },
  {
   "cell_type": "code",
   "execution_count": 137,
   "id": "a7ca305e-fefa-4786-801d-fead780fe543",
   "metadata": {},
   "outputs": [],
   "source": [
    "#loading in European Fama-French Dataset \n",
    "EurFF3 = pd.read_csv('/users/henry/downloads/Europe_5_Factors.csv')\n",
    "EurFF3['date'] = [str(i)[:4]+'-'+str(i)[-2:] for i in EurFF3['date'].tolist()]\n",
    "EurFF3['date'] = pd.to_datetime(EurFF3.date) \n",
    "EurFF3['date'] = EurFF3['date'] + MonthEnd(0)\n",
    "\n",
    "#joining the portfolio data with the Fama-French factors\n",
    "ewexcretdat = ewretdat3_all.copy(deep=True).reset_index()\n",
    "ewexcretdat['date'] = ewexcretdat['date'] + MonthEnd(0)\n",
    "ewexcretdat = ewexcretdat.merge(EurFF3, how='left', left_on='date', right_on='date')\n",
    "ewexcretdat['RF']= ewexcretdat['RF'].bfill()\n",
    "\n",
    "#computing excess returns \n",
    "ewexcretdat['excess_ret'] = ewexcretdat['long_short']  \n",
    "lseRets['date'] = lseRets['date'] + MonthEnd(0)\n",
    "ewexcretdat = ewexcretdat.merge(lseRets, how='inner', on=['date'])\n",
    "ewexcretdat['mrkt_excess'] = ewexcretdat['mrktRet'] - ewexcretdat['RF']\n",
    "ewexcretdat['excess_losers'] = ewexcretdat['losers'] - ewexcretdat['RF']\n",
    "ewexcretdat['excess_winners'] = ewexcretdat['winners'] - ewexcretdat['RF']\n",
    "\n",
    "#computing market varying beta \n",
    "ewexcretdat['d'] = ewexcretdat.mrkt_excess.apply(lambda x: 1 if x > 0 else 0) #d == 1 in a down market \n",
    "ewexcretdat['excess_d'] = ewexcretdat['mrkt_excess'] * ewexcretdat['d'] \n",
    "ewexcretdat['excess_d_minus_1'] = ewexcretdat['mrkt_excess'] * (1-ewexcretdat['d'])\n",
    "\n",
    "\n",
    "CAPM_data = ewexcretdat[['date', 'excess_ret', 'mrkt_excess', 'excess_losers', 'excess_winners', 'excess_d', 'Mkt-RF','excess_d_minus_1', 'SMB', 'HML']]"
   ]
  },
  {
   "cell_type": "code",
   "execution_count": 138,
   "id": "d0db1daf-647f-4812-ab9b-d702b2d4d8d2",
   "metadata": {},
   "outputs": [],
   "source": [
    "# results of the model R_p,t = alpah_p + beta_P(R_m,t - R_f,t) + error"
   ]
  },
  {
   "cell_type": "code",
   "execution_count": 139,
   "id": "dacb0c56-e502-44ac-ab77-9d79b074ce59",
   "metadata": {},
   "outputs": [
    {
     "name": "stdout",
     "output_type": "stream",
     "text": [
      "                            OLS Regression Results                            \n",
      "==============================================================================\n",
      "Dep. Variable:                      y   R-squared:                       0.000\n",
      "Model:                            OLS   Adj. R-squared:                 -0.002\n",
      "Method:                 Least Squares   F-statistic:                    0.1189\n",
      "Date:                Fri, 03 May 2024   Prob (F-statistic):              0.730\n",
      "Time:                        13:39:45   Log-Likelihood:                 457.59\n",
      "No. Observations:                 360   AIC:                            -911.2\n",
      "Df Residuals:                     358   BIC:                            -903.4\n",
      "Df Model:                           1                                         \n",
      "Covariance Type:                  HC3                                         \n",
      "==============================================================================\n",
      "                 coef    std err          z      P>|z|      [0.025      0.975]\n",
      "------------------------------------------------------------------------------\n",
      "const          0.0214      0.005      4.171      0.000       0.011       0.032\n",
      "x1            -0.0076      0.022     -0.345      0.730      -0.051       0.036\n",
      "==============================================================================\n",
      "Omnibus:                       37.235   Durbin-Watson:                   1.688\n",
      "Prob(Omnibus):                  0.000   Jarque-Bera (JB):              206.124\n",
      "Skew:                          -0.061   Prob(JB):                     1.74e-45\n",
      "Kurtosis:                       6.705   Cond. No.                         5.59\n",
      "==============================================================================\n",
      "\n",
      "Notes:\n",
      "[1] Standard Errors are heteroscedasticity robust (HC3)\n"
     ]
    }
   ],
   "source": [
    "#contrarian strategy\n",
    "\n",
    "x = np.array(CAPM_data[['mrkt_excess']])\n",
    "x = sm.add_constant(x) \n",
    "y = np.array(CAPM_data['excess_ret'])\n",
    "CAPM_model = sm.OLS(y, x)\n",
    "results = CAPM_model.fit(cov_type='HC3') #using HC3 which is based off work by Holigan and Welsch (1973) and incorprated by MacKinnon and White (1985) -- all regressions further use this estimate \n",
    "print(results.summary())"
   ]
  },
  {
   "cell_type": "code",
   "execution_count": 140,
   "id": "9024f9e7-780e-411d-8e8b-a3e35db86cb1",
   "metadata": {},
   "outputs": [
    {
     "name": "stdout",
     "output_type": "stream",
     "text": [
      "White's Test Statistic 6.731137030306074\n"
     ]
    }
   ],
   "source": [
    "#heteroscedasticity test \n",
    "\n",
    "white_test = het_white(results.resid,  results.model.exog)\n",
    "\n",
    "print('White\\'s Test Statistic', white_test[0])"
   ]
  },
  {
   "cell_type": "code",
   "execution_count": 141,
   "id": "f6a17967-a2f5-4158-b54a-69bb7b847a4c",
   "metadata": {},
   "outputs": [
    {
     "name": "stdout",
     "output_type": "stream",
     "text": [
      "                            OLS Regression Results                            \n",
      "==============================================================================\n",
      "Dep. Variable:                      y   R-squared:                       0.926\n",
      "Model:                            OLS   Adj. R-squared:                  0.925\n",
      "Method:                 Least Squares   F-statistic:                     3192.\n",
      "Date:                Fri, 03 May 2024   Prob (F-statistic):          2.01e-180\n",
      "Time:                        13:39:46   Log-Likelihood:                 545.02\n",
      "No. Observations:                 360   AIC:                            -1086.\n",
      "Df Residuals:                     358   BIC:                            -1078.\n",
      "Df Model:                           1                                         \n",
      "Covariance Type:                  HC3                                         \n",
      "==============================================================================\n",
      "                 coef    std err          z      P>|z|      [0.025      0.975]\n",
      "------------------------------------------------------------------------------\n",
      "const          0.0194      0.005      4.286      0.000       0.011       0.028\n",
      "x1             1.0158      0.018     56.497      0.000       0.981       1.051\n",
      "==============================================================================\n",
      "Omnibus:                       56.481   Durbin-Watson:                   1.647\n",
      "Prob(Omnibus):                  0.000   Jarque-Bera (JB):              119.021\n",
      "Skew:                           0.825   Prob(JB):                     1.43e-26\n",
      "Kurtosis:                       5.283   Cond. No.                         5.59\n",
      "==============================================================================\n",
      "\n",
      "Notes:\n",
      "[1] Standard Errors are heteroscedasticity robust (HC3)\n"
     ]
    }
   ],
   "source": [
    "#loser portfolio\n",
    "x = np.array(CAPM_data[['mrkt_excess']])\n",
    "x = sm.add_constant(x) \n",
    "y = np.array(CAPM_data['excess_losers'])\n",
    "CAPM_model = sm.OLS(y, x)\n",
    "results = CAPM_model.fit(cov_type='HC3')\n",
    "print(results.summary())"
   ]
  },
  {
   "cell_type": "code",
   "execution_count": 142,
   "id": "a5ca7261-f2d4-448f-b705-86a1f412d105",
   "metadata": {},
   "outputs": [
    {
     "name": "stdout",
     "output_type": "stream",
     "text": [
      "White's Test Statistic 24.438786087754636\n"
     ]
    }
   ],
   "source": [
    "#heteroscedasticity test \n",
    "\n",
    "white_test = het_white(results.resid,  results.model.exog)\n",
    "\n",
    "print('White\\'s Test Statistic', white_test[0])"
   ]
  },
  {
   "cell_type": "code",
   "execution_count": 143,
   "id": "ec5f87bb-ffc6-49e3-a51d-9859476cf484",
   "metadata": {},
   "outputs": [
    {
     "name": "stdout",
     "output_type": "stream",
     "text": [
      "                            OLS Regression Results                            \n",
      "==============================================================================\n",
      "Dep. Variable:                      y   R-squared:                       0.960\n",
      "Model:                            OLS   Adj. R-squared:                  0.960\n",
      "Method:                 Least Squares   F-statistic:                     8239.\n",
      "Date:                Fri, 03 May 2024   Prob (F-statistic):          3.42e-249\n",
      "Time:                        13:39:47   Log-Likelihood:                 662.87\n",
      "No. Observations:                 360   AIC:                            -1322.\n",
      "Df Residuals:                     358   BIC:                            -1314.\n",
      "Df Model:                           1                                         \n",
      "Covariance Type:                  HC3                                         \n",
      "==============================================================================\n",
      "                 coef    std err          z      P>|z|      [0.025      0.975]\n",
      "------------------------------------------------------------------------------\n",
      "const         -0.0020      0.002     -0.881      0.378      -0.007       0.003\n",
      "x1             1.0234      0.011     90.767      0.000       1.001       1.045\n",
      "==============================================================================\n",
      "Omnibus:                      287.828   Durbin-Watson:                   1.584\n",
      "Prob(Omnibus):                  0.000   Jarque-Bera (JB):             7652.262\n",
      "Skew:                           3.084   Prob(JB):                         0.00\n",
      "Kurtosis:                      24.728   Cond. No.                         5.59\n",
      "==============================================================================\n",
      "\n",
      "Notes:\n",
      "[1] Standard Errors are heteroscedasticity robust (HC3)\n"
     ]
    }
   ],
   "source": [
    "#winner portfolio\n",
    "y = np.array(CAPM_data['excess_winners'])\n",
    "CAPM_model = sm.OLS(y, x)\n",
    "results = CAPM_model.fit(cov_type='HC3')\n",
    "print(results.summary())"
   ]
  },
  {
   "cell_type": "code",
   "execution_count": 144,
   "id": "7d9b84bc-2f2a-42a3-9b08-76c2f11d140d",
   "metadata": {},
   "outputs": [
    {
     "name": "stdout",
     "output_type": "stream",
     "text": [
      "White's Test Statistic 1.9242615629199777\n"
     ]
    }
   ],
   "source": [
    "#heteroscedasticity test \n",
    "\n",
    "white_test = het_white(results.resid,  results.model.exog)\n",
    "\n",
    "print('White\\'s Test Statistic', white_test[0])"
   ]
  },
  {
   "cell_type": "code",
   "execution_count": 145,
   "id": "4f93b604-44fb-414e-a9f7-5176ef9655fd",
   "metadata": {},
   "outputs": [],
   "source": [
    "#model is now R_P,t = alpha_p + Beta_U,P * (R_M,t - R_F,t)*D + Beta_D,P * (R_M,t - R_F,t)*(1-D) + error"
   ]
  },
  {
   "cell_type": "code",
   "execution_count": 146,
   "id": "eda32e1a-eabf-4be2-a4cf-837c0ea3965c",
   "metadata": {},
   "outputs": [
    {
     "name": "stdout",
     "output_type": "stream",
     "text": [
      "                            OLS Regression Results                            \n",
      "==============================================================================\n",
      "Dep. Variable:                      y   R-squared:                       0.059\n",
      "Model:                            OLS   Adj. R-squared:                  0.054\n",
      "Method:                 Least Squares   F-statistic:                     6.515\n",
      "Date:                Fri, 03 May 2024   Prob (F-statistic):            0.00166\n",
      "Time:                        13:39:52   Log-Likelihood:                 468.42\n",
      "No. Observations:                 360   AIC:                            -930.8\n",
      "Df Residuals:                     357   BIC:                            -919.2\n",
      "Df Model:                           2                                         \n",
      "Covariance Type:                  HC3                                         \n",
      "==============================================================================\n",
      "                 coef    std err          z      P>|z|      [0.025      0.975]\n",
      "------------------------------------------------------------------------------\n",
      "const          0.0069      0.005      1.301      0.193      -0.004       0.017\n",
      "x1             0.7590      0.225      3.371      0.001       0.318       1.200\n",
      "x2            -0.0539      0.022     -2.400      0.016      -0.098      -0.010\n",
      "==============================================================================\n",
      "Omnibus:                       39.180   Durbin-Watson:                   1.723\n",
      "Prob(Omnibus):                  0.000   Jarque-Bera (JB):              169.300\n",
      "Skew:                          -0.312   Prob(JB):                     1.73e-37\n",
      "Kurtosis:                       6.301   Cond. No.                         47.9\n",
      "==============================================================================\n",
      "\n",
      "Notes:\n",
      "[1] Standard Errors are heteroscedasticity robust (HC3)\n"
     ]
    }
   ],
   "source": [
    "#contrarian strategy\n",
    "\n",
    "x1 = np.array(CAPM_data[['excess_d', 'excess_d_minus_1']])\n",
    "x1 = sm.add_constant(x1)\n",
    "y1 = np.array(CAPM_data['excess_ret'])\n",
    "CAPM_model = sm.OLS(y1, x1)\n",
    "results = CAPM_model.fit(cov_type='HC3')\n",
    "print(results.summary())"
   ]
  },
  {
   "cell_type": "code",
   "execution_count": 147,
   "id": "9c29ab98-bd87-41c8-a9ae-bed74f85892a",
   "metadata": {},
   "outputs": [
    {
     "name": "stdout",
     "output_type": "stream",
     "text": [
      "White's Test Statistic 5.086793729691479\n"
     ]
    }
   ],
   "source": [
    "#heteroscedasticity test \n",
    "\n",
    "white_test = het_white(results.resid,  results.model.exog)\n",
    "\n",
    "print('White\\'s Test Statistic', white_test[0])"
   ]
  },
  {
   "cell_type": "code",
   "execution_count": 148,
   "id": "8d7665ee-0193-4402-9479-61a4eafb876a",
   "metadata": {},
   "outputs": [
    {
     "name": "stdout",
     "output_type": "stream",
     "text": [
      "                            OLS Regression Results                            \n",
      "==============================================================================\n",
      "Dep. Variable:                      y   R-squared:                       0.934\n",
      "Model:                            OLS   Adj. R-squared:                  0.934\n",
      "Method:                 Least Squares   F-statistic:                     2186.\n",
      "Date:                Fri, 03 May 2024   Prob (F-statistic):          5.26e-201\n",
      "Time:                        13:39:54   Log-Likelihood:                 567.60\n",
      "No. Observations:                 360   AIC:                            -1129.\n",
      "Df Residuals:                     357   BIC:                            -1118.\n",
      "Df Model:                           2                                         \n",
      "Covariance Type:                  HC3                                         \n",
      "==============================================================================\n",
      "                 coef    std err          z      P>|z|      [0.025      0.975]\n",
      "------------------------------------------------------------------------------\n",
      "const          0.0032      0.004      0.755      0.450      -0.005       0.012\n",
      "x1             1.8704      0.163     11.508      0.000       1.552       2.189\n",
      "x2             0.9641      0.017     56.793      0.000       0.931       0.997\n",
      "==============================================================================\n",
      "Omnibus:                       29.127   Durbin-Watson:                   1.726\n",
      "Prob(Omnibus):                  0.000   Jarque-Bera (JB):               49.356\n",
      "Skew:                           0.513   Prob(JB):                     1.92e-11\n",
      "Kurtosis:                       4.496   Cond. No.                         47.9\n",
      "==============================================================================\n",
      "\n",
      "Notes:\n",
      "[1] Standard Errors are heteroscedasticity robust (HC3)\n"
     ]
    }
   ],
   "source": [
    "#loser portfolio\n",
    "\n",
    "x1 = np.array(CAPM_data[['excess_d', 'excess_d_minus_1']])\n",
    "x1 = sm.add_constant(x1)\n",
    "y1 = np.array(CAPM_data['excess_losers'])\n",
    "CAPM_model = sm.OLS(y1, x1)\n",
    "results = CAPM_model.fit(cov_type='HC3')\n",
    "print(results.summary())"
   ]
  },
  {
   "cell_type": "code",
   "execution_count": 149,
   "id": "70634031-3e4b-48ff-be20-81168ebbc19a",
   "metadata": {},
   "outputs": [
    {
     "name": "stdout",
     "output_type": "stream",
     "text": [
      "White's Test Statistic 2.8780374988203983\n"
     ]
    }
   ],
   "source": [
    "#heteroscedasticity test \n",
    "\n",
    "white_test = het_white(results.resid,  results.model.exog)\n",
    "\n",
    "print('White\\'s Test Statistic', white_test[0])"
   ]
  },
  {
   "cell_type": "code",
   "execution_count": 150,
   "id": "456e880e-dc9f-4922-96e0-af6bbb41452f",
   "metadata": {},
   "outputs": [
    {
     "name": "stdout",
     "output_type": "stream",
     "text": [
      "                            OLS Regression Results                            \n",
      "==============================================================================\n",
      "Dep. Variable:                      y   R-squared:                       0.961\n",
      "Model:                            OLS   Adj. R-squared:                  0.960\n",
      "Method:                 Least Squares   F-statistic:                     4121.\n",
      "Date:                Fri, 03 May 2024   Prob (F-statistic):          2.23e-247\n",
      "Time:                        13:39:55   Log-Likelihood:                 663.31\n",
      "No. Observations:                 360   AIC:                            -1321.\n",
      "Df Residuals:                     357   BIC:                            -1309.\n",
      "Df Model:                           2                                         \n",
      "Covariance Type:                  HC3                                         \n",
      "==============================================================================\n",
      "                 coef    std err          z      P>|z|      [0.025      0.975]\n",
      "------------------------------------------------------------------------------\n",
      "const         -0.0037      0.003     -1.316      0.188      -0.009       0.002\n",
      "x1             1.1114      0.119      9.312      0.000       0.877       1.345\n",
      "x2             1.0180      0.013     81.142      0.000       0.993       1.043\n",
      "==============================================================================\n",
      "Omnibus:                      287.679   Durbin-Watson:                   1.587\n",
      "Prob(Omnibus):                  0.000   Jarque-Bera (JB):             7754.370\n",
      "Skew:                           3.076   Prob(JB):                         0.00\n",
      "Kurtosis:                      24.889   Cond. No.                         47.9\n",
      "==============================================================================\n",
      "\n",
      "Notes:\n",
      "[1] Standard Errors are heteroscedasticity robust (HC3)\n"
     ]
    }
   ],
   "source": [
    "#winner portfolio\n",
    "\n",
    "x1 = np.array(CAPM_data[['excess_d', 'excess_d_minus_1']])\n",
    "x1 = sm.add_constant(x1)\n",
    "y1 = np.array(CAPM_data['excess_winners'])\n",
    "CAPM_model = sm.OLS(y1, x1)\n",
    "results = CAPM_model.fit(cov_type='HC3')\n",
    "print(results.summary())"
   ]
  },
  {
   "cell_type": "code",
   "execution_count": 151,
   "id": "5b11a166-c30f-404c-bb3d-5b8ae19701d8",
   "metadata": {},
   "outputs": [
    {
     "name": "stdout",
     "output_type": "stream",
     "text": [
      "White's Test Statistic 2.7837296378788823\n"
     ]
    }
   ],
   "source": [
    "#heteroscedasticity test \n",
    "\n",
    "white_test = het_white(results.resid,  results.model.exog)\n",
    "\n",
    "print('White\\'s Test Statistic', white_test[0])"
   ]
  },
  {
   "cell_type": "markdown",
   "id": "3625637d-1d63-4b3e-8e95-56f9025ff9db",
   "metadata": {},
   "source": [
    "## Size Based Risk Adjustemnt with Terclie Portfolios"
   ]
  },
  {
   "cell_type": "code",
   "execution_count": 152,
   "id": "5860e888-fd91-4b60-be4c-842ea68aba55",
   "metadata": {},
   "outputs": [
    {
     "data": {
      "text/html": [
       "<div>\n",
       "<style scoped>\n",
       "    .dataframe tbody tr th:only-of-type {\n",
       "        vertical-align: middle;\n",
       "    }\n",
       "\n",
       "    .dataframe tbody tr th {\n",
       "        vertical-align: top;\n",
       "    }\n",
       "\n",
       "    .dataframe thead th {\n",
       "        text-align: right;\n",
       "    }\n",
       "</style>\n",
       "<table border=\"1\" class=\"dataframe\">\n",
       "  <thead>\n",
       "    <tr style=\"text-align: right;\">\n",
       "      <th></th>\n",
       "      <th>Portfolio</th>\n",
       "      <th>mrktCp</th>\n",
       "    </tr>\n",
       "  </thead>\n",
       "  <tbody>\n",
       "    <tr>\n",
       "      <th>0</th>\n",
       "      <td>Loser</td>\n",
       "      <td>856.562215</td>\n",
       "    </tr>\n",
       "    <tr>\n",
       "      <th>1</th>\n",
       "      <td>Not Included</td>\n",
       "      <td>2762.568591</td>\n",
       "    </tr>\n",
       "    <tr>\n",
       "      <th>2</th>\n",
       "      <td>Winner</td>\n",
       "      <td>1137.042591</td>\n",
       "    </tr>\n",
       "  </tbody>\n",
       "</table>\n",
       "</div>"
      ],
      "text/plain": [
       "      Portfolio       mrktCp\n",
       "0         Loser   856.562215\n",
       "1  Not Included  2762.568591\n",
       "2        Winner  1137.042591"
      ]
     },
     "execution_count": 152,
     "metadata": {},
     "output_type": "execute_result"
    }
   ],
   "source": [
    "#average market cap of stocks in portfolios \n",
    "\n",
    "_tmp_mrktcp = lspd_m[['date', 'compNam', 'mrktCp']]\n",
    "umd_filter = umd.copy(deep=True)\n",
    "umd_filter = umd_filter[['date', 'compNam', 'P8']] #only including \n",
    "_tmp_mrktcp = pd.merge(_tmp_mrktcp, umd_filter, on=['date', 'compNam'], how='inner') \n",
    "_tmp_mrktcp['mrktRnk'] = _tmp_mrktcp.groupby('date')['mrktCp'].transform(lambda x: pd.qcut(x, 10, labels=False)).tolist()\n",
    "_tmp_mrktcp['mrktRnk'] = _tmp_mrktcp['mrktRnk'] + 1 #indexed at zero so add 1 \n",
    "_tmp_mrktcp = _tmp_mrktcp[['date', 'compNam', 'mrktCp', 'mrktRnk']]\n",
    "\n",
    "#joining the two\n",
    "port_a = port_all.merge(_tmp_mrktcp, left_on=['form_date', 'compNam'], right_on=['date', 'compNam'], how='inner')\n",
    "port_a = port_a.rename(columns={'date_x' : 'date'})\n",
    "port_a = port_a[(port_a['date'] > pd.to_datetime('1993-01-01')) & (port_a['date'] < pd.to_datetime('2023-01-01'))]\n",
    "umd2 = port_a.sort_values(by=['date','momr','form_date','compNam']).drop_duplicates()\n",
    "rnks = umd2.groupby(['date','momr','form_date'])['mrktRnk'].mean().reset_index()\n",
    "rnks.groupby(['momr'])['mrktRnk'].mean().reset_index()\n",
    "\n",
    "umd2 = port_a.sort_values(by=['date','momr','form_date','compNam']).drop_duplicates()\n",
    "rnks = umd2.groupby(['date','momr','form_date'])['mrktCp'].mean().reset_index()\n",
    "rnks = rnks.groupby(['momr'])['mrktCp'].mean().reset_index()\n",
    "rnks['Portfolio'] = ['Loser', 'Not Included', 'Winner']\n",
    "rnks = rnks[['Portfolio', 'mrktCp']]\n",
    "rnks"
   ]
  },
  {
   "cell_type": "code",
   "execution_count": 153,
   "id": "01514e7b-06b7-466c-974d-679248aed825",
   "metadata": {},
   "outputs": [
    {
     "name": "stdout",
     "output_type": "stream",
     "text": [
      "Mean LSE Market Cap:  1575.006110929179\n"
     ]
    }
   ],
   "source": [
    "#average LSE market cap\n",
    "print('Mean LSE Market Cap: ', lspd_m.mrktCp.mean())"
   ]
  },
  {
   "cell_type": "code",
   "execution_count": 165,
   "id": "c2a18b38-b486-484e-b153-17641ea966b6",
   "metadata": {},
   "outputs": [],
   "source": [
    "#Size Based Regression Results\n",
    "monthly_rets = ewretdat3_all.copy(deep=True).reset_index()\n",
    "monthly_rets['year'] = [i.year for i in monthly_rets['date'].to_list()] \n",
    "monthly_rets['month'] = [i.month for i in monthly_rets['date'].to_list()]\n",
    "monthly_rets2 = monthly_rets\n",
    "\n",
    "lrgRet = umd[umd.mrktRnk == 3]\n",
    "smlRet = umd[umd.mrktRnk == 1]\n",
    "medRet = umd[umd.mrktRnk == 2]\n",
    "lrgRet = lrgRet.groupby('date')['rawRet'].mean().reset_index()\n",
    "smlRet = smlRet.groupby('date')['rawRet'].mean().reset_index()\n",
    "medRet = medRet.groupby('date')['rawRet'].mean().reset_index()\n",
    "lrgRet = lrgRet.rename(columns={'rawRet' : 'lrgRet'})\n",
    "smlRet = smlRet.rename(columns={'rawRet' : 'smlRet'})\n",
    "medRet = medRet.rename(columns={'rawRet' : 'medret'})\n",
    "monthly_rets2 = monthly_rets2.merge(lrgRet, how='left', on='date')\n",
    "monthly_rets2 = monthly_rets2.merge(smlRet, how='left', on='date')\n",
    "monthly_rets2 = monthly_rets2.merge(medRet, how='left', on='date')\n",
    "monthly_rets2['jan'] = monthly_rets2['month'].apply(lambda x: 1 if x == 1 else 0)"
   ]
  },
  {
   "cell_type": "code",
   "execution_count": 166,
   "id": "5494db54-2683-4204-b3a4-bb2b2f9047e3",
   "metadata": {},
   "outputs": [],
   "source": [
    "#model R_P,t = alpha + Beta_S,P * R_S,t + Beta_M,P * R_M,t + Beta_L,P * R_L,t + error"
   ]
  },
  {
   "cell_type": "code",
   "execution_count": 167,
   "id": "9a3517cd-1676-4b4c-a787-5abb31348489",
   "metadata": {},
   "outputs": [
    {
     "name": "stdout",
     "output_type": "stream",
     "text": [
      "                            OLS Regression Results                            \n",
      "==============================================================================\n",
      "Dep. Variable:                      y   R-squared:                       0.114\n",
      "Model:                            OLS   Adj. R-squared:                  0.106\n",
      "Method:                 Least Squares   F-statistic:                     10.88\n",
      "Date:                Fri, 03 May 2024   Prob (F-statistic):           7.40e-07\n",
      "Time:                        13:41:47   Log-Likelihood:                 479.26\n",
      "No. Observations:                 360   AIC:                            -950.5\n",
      "Df Residuals:                     356   BIC:                            -935.0\n",
      "Df Model:                           3                                         \n",
      "Covariance Type:                  HC3                                         \n",
      "==============================================================================\n",
      "                 coef    std err          z      P>|z|      [0.025      0.975]\n",
      "------------------------------------------------------------------------------\n",
      "const          0.0224      0.004      6.042      0.000       0.015       0.030\n",
      "x1             0.5858      0.208      2.811      0.005       0.177       0.994\n",
      "x2            -0.1085      0.332     -0.327      0.744      -0.760       0.542\n",
      "x3            -0.0091      0.303     -0.030      0.976      -0.602       0.584\n",
      "==============================================================================\n",
      "Omnibus:                       52.198   Durbin-Watson:                   1.546\n",
      "Prob(Omnibus):                  0.000   Jarque-Bera (JB):              266.408\n",
      "Skew:                          -0.452   Prob(JB):                     1.41e-58\n",
      "Kurtosis:                       7.116   Cond. No.                         90.5\n",
      "==============================================================================\n",
      "\n",
      "Notes:\n",
      "[1] Standard Errors are heteroscedasticity robust (HC3)\n"
     ]
    }
   ],
   "source": [
    "#contrarian strategy\n",
    "x = np.array(monthly_rets2[['smlRet', 'medret','lrgRet']])\n",
    "y = np.array(monthly_rets2['long_short'])\n",
    "x = sm.add_constant(x) \n",
    "vol_model = sm.OLS(y, x)\n",
    "results = vol_model.fit(cov_type='HC3')\n",
    "print(results.summary())"
   ]
  },
  {
   "cell_type": "code",
   "execution_count": 168,
   "id": "e9e1f092-4c6c-41fb-8295-25f2071e9366",
   "metadata": {},
   "outputs": [
    {
     "name": "stdout",
     "output_type": "stream",
     "text": [
      "White's Test Statistic 61.60883602677794\n"
     ]
    }
   ],
   "source": [
    "#heteroscedasticity test \n",
    "\n",
    "white_test = het_white(results.resid,  results.model.exog)\n",
    "\n",
    "print('White\\'s Test Statistic', white_test[0])"
   ]
  },
  {
   "cell_type": "code",
   "execution_count": 169,
   "id": "bef887bf-ad51-47de-b449-ac67e05d3bf0",
   "metadata": {},
   "outputs": [
    {
     "name": "stdout",
     "output_type": "stream",
     "text": [
      "                            OLS Regression Results                            \n",
      "==============================================================================\n",
      "Dep. Variable:                      y   R-squared:                       0.729\n",
      "Model:                            OLS   Adj. R-squared:                  0.727\n",
      "Method:                 Least Squares   F-statistic:                     212.5\n",
      "Date:                Fri, 03 May 2024   Prob (F-statistic):           5.65e-79\n",
      "Time:                        13:41:48   Log-Likelihood:                 605.69\n",
      "No. Observations:                 360   AIC:                            -1203.\n",
      "Df Residuals:                     356   BIC:                            -1188.\n",
      "Df Model:                           3                                         \n",
      "Covariance Type:                  HC3                                         \n",
      "==============================================================================\n",
      "                 coef    std err          z      P>|z|      [0.025      0.975]\n",
      "------------------------------------------------------------------------------\n",
      "const          0.0157      0.003      5.773      0.000       0.010       0.021\n",
      "x1             1.0554      0.141      7.462      0.000       0.778       1.333\n",
      "x2             0.1875      0.210      0.894      0.371      -0.224       0.599\n",
      "x3             0.3484      0.165      2.111      0.035       0.025       0.672\n",
      "==============================================================================\n",
      "Omnibus:                       31.653   Durbin-Watson:                   1.487\n",
      "Prob(Omnibus):                  0.000   Jarque-Bera (JB):               50.705\n",
      "Skew:                           0.572   Prob(JB):                     9.76e-12\n",
      "Kurtosis:                       4.439   Cond. No.                         90.5\n",
      "==============================================================================\n",
      "\n",
      "Notes:\n",
      "[1] Standard Errors are heteroscedasticity robust (HC3)\n"
     ]
    }
   ],
   "source": [
    "#loser portfolio\n",
    "x = np.array(monthly_rets2[['smlRet', 'medret','lrgRet']])\n",
    "y = np.array(monthly_rets2['losers'])\n",
    "x = sm.add_constant(x) \n",
    "vol_model = sm.OLS(y, x)\n",
    "results = vol_model.fit(cov_type='HC3')\n",
    "print(results.summary())"
   ]
  },
  {
   "cell_type": "code",
   "execution_count": 170,
   "id": "bfeb94b8-d15f-4b41-a7dd-1b4b84033aa9",
   "metadata": {},
   "outputs": [
    {
     "name": "stdout",
     "output_type": "stream",
     "text": [
      "White's Test Statistic 12.164385290098657\n"
     ]
    }
   ],
   "source": [
    "#heteroscedasticity test \n",
    "\n",
    "white_test = het_white(results.resid,  results.model.exog)\n",
    "\n",
    "print('White\\'s Test Statistic', white_test[0])"
   ]
  },
  {
   "cell_type": "code",
   "execution_count": 171,
   "id": "018a54e3-2a7f-43a9-83df-54e96863d5e7",
   "metadata": {},
   "outputs": [
    {
     "name": "stdout",
     "output_type": "stream",
     "text": [
      "                            OLS Regression Results                            \n",
      "==============================================================================\n",
      "Dep. Variable:                      y   R-squared:                       0.650\n",
      "Model:                            OLS   Adj. R-squared:                  0.647\n",
      "Method:                 Least Squares   F-statistic:                     128.3\n",
      "Date:                Fri, 03 May 2024   Prob (F-statistic):           2.39e-56\n",
      "Time:                        13:41:48   Log-Likelihood:                 663.62\n",
      "No. Observations:                 360   AIC:                            -1319.\n",
      "Df Residuals:                     356   BIC:                            -1304.\n",
      "Df Model:                           3                                         \n",
      "Covariance Type:                  HC3                                         \n",
      "==============================================================================\n",
      "                 coef    std err          z      P>|z|      [0.025      0.975]\n",
      "------------------------------------------------------------------------------\n",
      "const         -0.0068      0.002     -3.465      0.001      -0.011      -0.003\n",
      "x1             0.4696      0.113      4.147      0.000       0.248       0.691\n",
      "x2             0.2960      0.225      1.314      0.189      -0.146       0.738\n",
      "x3             0.3575      0.232      1.540      0.124      -0.098       0.813\n",
      "==============================================================================\n",
      "Omnibus:                      265.499   Durbin-Watson:                   1.601\n",
      "Prob(Omnibus):                  0.000   Jarque-Bera (JB):             6262.812\n",
      "Skew:                           2.769   Prob(JB):                         0.00\n",
      "Kurtosis:                      22.669   Cond. No.                         90.5\n",
      "==============================================================================\n",
      "\n",
      "Notes:\n",
      "[1] Standard Errors are heteroscedasticity robust (HC3)\n"
     ]
    }
   ],
   "source": [
    "#winner portfolio\n",
    "x = np.array(monthly_rets2[['smlRet', 'medret','lrgRet']])\n",
    "y = np.array(monthly_rets2['winners'])\n",
    "x = sm.add_constant(x) \n",
    "vol_model = sm.OLS(y, x)\n",
    "results = vol_model.fit(cov_type='HC3')\n",
    "print(results.summary())"
   ]
  },
  {
   "cell_type": "code",
   "execution_count": 172,
   "id": "02134ade-61ab-4c4b-b5a8-fbff6b3341ef",
   "metadata": {},
   "outputs": [
    {
     "name": "stdout",
     "output_type": "stream",
     "text": [
      "White's Test Statistic 75.32350060158056\n"
     ]
    }
   ],
   "source": [
    "#heteroscedasticity test \n",
    "\n",
    "white_test = het_white(results.resid,  results.model.exog)\n",
    "\n",
    "print('White\\'s Test Statistic', white_test[0])"
   ]
  },
  {
   "cell_type": "markdown",
   "id": "75a36fe7-07cb-4824-bd5b-188469210104",
   "metadata": {},
   "source": [
    "# Section VII: Market Efficiency and Illiquidty"
   ]
  },
  {
   "cell_type": "code",
   "execution_count": 173,
   "id": "170cedfc-bdaa-4b18-af46-2f131055e280",
   "metadata": {},
   "outputs": [],
   "source": [
    "std = pd.read_csv('/users/henry/desktop/Uni Work/Final Year/Dissertation/Data/all_share_index.csv')\n",
    "std['date'] = pd.to_datetime(std['DATE'])\n",
    "std['month'] = [i.month for i in std['date']]\n",
    "std['year'] = [i.year for i in std['date']]\n",
    "std['pct_change'] = std['FTARI'].pct_change()\n",
    "std = std.dropna(subset='pct_change')\n",
    "std = std.groupby(['year', 'month'])['pct_change'].std().reset_index()\n",
    "std = std.rename(columns={'pct_change' : 'mrktStd'})\n",
    "std['mrktStd'] = std['mrktStd'] \n",
    "std = std[['month', 'year', 'mrktStd']]\n",
    "\n",
    "\n",
    "lseRets['year'] = [i.year for i in lseRets['date'].tolist()]\n",
    "lseRets['month'] = [i.month for i in lseRets['date'].tolist()]\n",
    "rets = lseRets.copy(deep=True)\n",
    "rets = lseRets[['year', 'month', 'mrktRet']]\n",
    "\n",
    "monthly_rets2 = monthly_rets2.merge(std, how='left', on=['year', 'month'])\n",
    "monthly_rets2 = monthly_rets2.merge(rets, how='left', on=['year','month'])\n"
   ]
  },
  {
   "cell_type": "code",
   "execution_count": 176,
   "id": "548910a6-6cb6-4e0c-a186-d08cc3c5e114",
   "metadata": {},
   "outputs": [
    {
     "name": "stdout",
     "output_type": "stream",
     "text": [
      "                            OLS Regression Results                            \n",
      "==============================================================================\n",
      "Dep. Variable:                      y   R-squared:                       0.138\n",
      "Model:                            OLS   Adj. R-squared:                  0.133\n",
      "Method:                 Least Squares   F-statistic:                     18.25\n",
      "Date:                Fri, 03 May 2024   Prob (F-statistic):           2.84e-08\n",
      "Time:                        13:41:55   Log-Likelihood:                 484.14\n",
      "No. Observations:                 360   AIC:                            -962.3\n",
      "Df Residuals:                     357   BIC:                            -950.6\n",
      "Df Model:                           2                                         \n",
      "Covariance Type:                  HC3                                         \n",
      "==============================================================================\n",
      "                 coef    std err          z      P>|z|      [0.025      0.975]\n",
      "------------------------------------------------------------------------------\n",
      "const         -0.0002      0.008     -0.022      0.983      -0.016       0.015\n",
      "x1             2.2900      0.873      2.623      0.009       0.579       4.001\n",
      "x2             0.5848      0.102      5.741      0.000       0.385       0.784\n",
      "==============================================================================\n",
      "Omnibus:                       64.775   Durbin-Watson:                   1.556\n",
      "Prob(Omnibus):                  0.000   Jarque-Bera (JB):              309.639\n",
      "Skew:                          -0.650   Prob(JB):                     5.79e-68\n",
      "Kurtosis:                       7.353   Cond. No.                         213.\n",
      "==============================================================================\n",
      "\n",
      "Notes:\n",
      "[1] Standard Errors are heteroscedasticity robust (HC3)\n"
     ]
    }
   ],
   "source": [
    "#contrarian strategy\n",
    "x = np.array(monthly_rets2[['mrktStd', 'smlRet']])\n",
    "y = np.array(monthly_rets2['long_short'])\n",
    "x = sm.add_constant(x) \n",
    "vol_model = sm.OLS(y, x)\n",
    "results = vol_model.fit(cov_type='HC3')\n",
    "print(results.summary())"
   ]
  },
  {
   "cell_type": "code",
   "execution_count": 177,
   "id": "90e82fe2-3522-4f72-a30c-d67b3acf4b79",
   "metadata": {},
   "outputs": [
    {
     "name": "stdout",
     "output_type": "stream",
     "text": [
      "White's Test Statistic 10.219599864451713\n"
     ]
    }
   ],
   "source": [
    "#heteroscedasticity test \n",
    "\n",
    "white_test = het_white(results.resid,  results.model.exog)\n",
    "\n",
    "print('White\\'s Test Statistic', white_test[0])"
   ]
  },
  {
   "cell_type": "code",
   "execution_count": 178,
   "id": "8035f726-7660-4f03-b11e-b9c19d57f93f",
   "metadata": {},
   "outputs": [
    {
     "name": "stdout",
     "output_type": "stream",
     "text": [
      "                            OLS Regression Results                            \n",
      "==============================================================================\n",
      "Dep. Variable:                      y   R-squared:                       0.727\n",
      "Model:                            OLS   Adj. R-squared:                  0.726\n",
      "Method:                 Least Squares   F-statistic:                     552.0\n",
      "Date:                Fri, 03 May 2024   Prob (F-statistic):          5.75e-110\n",
      "Time:                        13:41:56   Log-Likelihood:                 604.48\n",
      "No. Observations:                 360   AIC:                            -1203.\n",
      "Df Residuals:                     357   BIC:                            -1191.\n",
      "Df Model:                           2                                         \n",
      "Covariance Type:                  HC3                                         \n",
      "==============================================================================\n",
      "                 coef    std err          z      P>|z|      [0.025      0.975]\n",
      "------------------------------------------------------------------------------\n",
      "const         -0.0041      0.005     -0.759      0.448      -0.015       0.006\n",
      "x1             2.7092      0.590      4.589      0.000       1.552       3.866\n",
      "x2             1.6392      0.055     29.654      0.000       1.531       1.748\n",
      "==============================================================================\n",
      "Omnibus:                        9.592   Durbin-Watson:                   1.580\n",
      "Prob(Omnibus):                  0.008   Jarque-Bera (JB):               11.454\n",
      "Skew:                           0.272   Prob(JB):                      0.00326\n",
      "Kurtosis:                       3.684   Cond. No.                         213.\n",
      "==============================================================================\n",
      "\n",
      "Notes:\n",
      "[1] Standard Errors are heteroscedasticity robust (HC3)\n"
     ]
    }
   ],
   "source": [
    "#loser portfolio \n",
    "\n",
    "x = np.array(monthly_rets2[['mrktStd', 'smlRet']])\n",
    "y = np.array(monthly_rets2['losers'])\n",
    "x = sm.add_constant(x) \n",
    "vol_model = sm.OLS(y, x)\n",
    "results = vol_model.fit(cov_type='HC3')\n",
    "print(results.summary())"
   ]
  },
  {
   "cell_type": "code",
   "execution_count": 179,
   "id": "c8ce5edd-e6e0-4bf0-a310-7278002b8eee",
   "metadata": {},
   "outputs": [
    {
     "name": "stdout",
     "output_type": "stream",
     "text": [
      "White's Test Statistic 31.868839316270424\n"
     ]
    }
   ],
   "source": [
    "#heteroscedasticity test \n",
    "\n",
    "white_test = het_white(results.resid,  results.model.exog)\n",
    "\n",
    "print('White\\'s Test Statistic', white_test[0])"
   ]
  },
  {
   "cell_type": "code",
   "execution_count": 180,
   "id": "69d392ee-d621-4a1e-a9f7-f04cc2676eb2",
   "metadata": {},
   "outputs": [
    {
     "name": "stdout",
     "output_type": "stream",
     "text": [
      "                            OLS Regression Results                            \n",
      "==============================================================================\n",
      "Dep. Variable:                      y   R-squared:                       0.592\n",
      "Model:                            OLS   Adj. R-squared:                  0.590\n",
      "Method:                 Least Squares   F-statistic:                     155.1\n",
      "Date:                Fri, 03 May 2024   Prob (F-statistic):           3.28e-49\n",
      "Time:                        13:41:57   Log-Likelihood:                 636.00\n",
      "No. Observations:                 360   AIC:                            -1266.\n",
      "Df Residuals:                     357   BIC:                            -1254.\n",
      "Df Model:                           2                                         \n",
      "Covariance Type:                  HC3                                         \n",
      "==============================================================================\n",
      "                 coef    std err          z      P>|z|      [0.025      0.975]\n",
      "------------------------------------------------------------------------------\n",
      "const         -0.0039      0.006     -0.649      0.516      -0.016       0.008\n",
      "x1             0.4191      0.677      0.619      0.536      -0.908       1.746\n",
      "x2             1.0545      0.089     11.908      0.000       0.881       1.228\n",
      "==============================================================================\n",
      "Omnibus:                      265.198   Durbin-Watson:                   1.727\n",
      "Prob(Omnibus):                  0.000   Jarque-Bera (JB):             6868.627\n",
      "Skew:                           2.725   Prob(JB):                         0.00\n",
      "Kurtosis:                      23.693   Cond. No.                         213.\n",
      "==============================================================================\n",
      "\n",
      "Notes:\n",
      "[1] Standard Errors are heteroscedasticity robust (HC3)\n"
     ]
    }
   ],
   "source": [
    "#winner portfolio \n",
    "\n",
    "x = np.array(monthly_rets2[['mrktStd', 'smlRet']])\n",
    "y = np.array(monthly_rets2['winners'])\n",
    "x = sm.add_constant(x) \n",
    "vol_model = sm.OLS(y, x)\n",
    "results = vol_model.fit(cov_type='HC3')\n",
    "print(results.summary())"
   ]
  },
  {
   "cell_type": "code",
   "execution_count": 182,
   "id": "acb82a68-0233-45ec-8f00-1c86c7c69fa5",
   "metadata": {},
   "outputs": [
    {
     "name": "stdout",
     "output_type": "stream",
     "text": [
      "White's Test Statistic 7.204784088680296\n"
     ]
    }
   ],
   "source": [
    "#heteroscedasticity test \n",
    "\n",
    "white_test = het_white(results.resid,  results.model.exog)\n",
    "\n",
    "print('White\\'s Test Statistic', white_test[0])"
   ]
  },
  {
   "cell_type": "markdown",
   "id": "47697f94-1eee-436e-8dcc-2673f1d72c04",
   "metadata": {},
   "source": [
    "# Section VIII: Limitations and Robustness"
   ]
  },
  {
   "cell_type": "code",
   "execution_count": 60,
   "id": "dd2f5215-021a-4a4c-abfc-345d879c2eeb",
   "metadata": {},
   "outputs": [
    {
     "name": "stderr",
     "output_type": "stream",
     "text": [
      "/Users/henry/Desktop/predictably-illiquid/contrarianTrading.py:26: SettingWithCopyWarning: \n",
      "A value is trying to be set on a copy of a slice from a DataFrame.\n",
      "Try using .loc[row_indexer,col_indexer] = value instead\n",
      "\n",
      "See the caveats in the documentation: https://pandas.pydata.org/pandas-docs/stable/user_guide/indexing.html#returning-a-view-versus-a-copy\n",
      "  _tmp_ret['ret'] = np.exp(_tmp_ret.logret)-1 #unlogging the return\n"
     ]
    }
   ],
   "source": [
    "top50Rets_94_to_04, mom_output_94_to_04, ewretdat2, port, ewretdat, ewretdat3 = top_bottom_50(umd, lspd_m, '1994-01-01', '2004-01-01')"
   ]
  },
  {
   "cell_type": "code",
   "execution_count": 61,
   "id": "63908487-d839-4cb0-955c-1c74e15b5938",
   "metadata": {},
   "outputs": [
    {
     "data": {
      "text/html": [
       "<div>\n",
       "<style scoped>\n",
       "    .dataframe tbody tr th:only-of-type {\n",
       "        vertical-align: middle;\n",
       "    }\n",
       "\n",
       "    .dataframe tbody tr th {\n",
       "        vertical-align: top;\n",
       "    }\n",
       "\n",
       "    .dataframe thead th {\n",
       "        text-align: right;\n",
       "    }\n",
       "</style>\n",
       "<table border=\"1\" class=\"dataframe\">\n",
       "  <thead>\n",
       "    <tr style=\"text-align: right;\">\n",
       "      <th></th>\n",
       "      <th>momr</th>\n",
       "      <th>mean</th>\n",
       "      <th>t-stat</th>\n",
       "      <th>p-value</th>\n",
       "    </tr>\n",
       "  </thead>\n",
       "  <tbody>\n",
       "    <tr>\n",
       "      <th>0</th>\n",
       "      <td>winners</td>\n",
       "      <td>-0.000247</td>\n",
       "      <td>-0.034044</td>\n",
       "      <td>9.728994e-01</td>\n",
       "    </tr>\n",
       "    <tr>\n",
       "      <th>1</th>\n",
       "      <td>losers</td>\n",
       "      <td>0.041688</td>\n",
       "      <td>5.098876</td>\n",
       "      <td>1.303903e-06</td>\n",
       "    </tr>\n",
       "    <tr>\n",
       "      <th>2</th>\n",
       "      <td>long_short</td>\n",
       "      <td>0.041935</td>\n",
       "      <td>5.691216</td>\n",
       "      <td>9.226690e-08</td>\n",
       "    </tr>\n",
       "  </tbody>\n",
       "</table>\n",
       "</div>"
      ],
      "text/plain": [
       "         momr      mean    t-stat       p-value\n",
       "0     winners -0.000247 -0.034044  9.728994e-01\n",
       "1      losers  0.041688  5.098876  1.303903e-06\n",
       "2  long_short  0.041935  5.691216  9.226690e-08"
      ]
     },
     "execution_count": 61,
     "metadata": {},
     "output_type": "execute_result"
    }
   ],
   "source": [
    "mom_output_94_to_04"
   ]
  },
  {
   "cell_type": "code",
   "execution_count": 62,
   "id": "ff80ca30-b280-410a-aa00-3e4fb2da7c60",
   "metadata": {},
   "outputs": [
    {
     "name": "stderr",
     "output_type": "stream",
     "text": [
      "/Users/henry/Desktop/predictably-illiquid/contrarianTrading.py:26: SettingWithCopyWarning: \n",
      "A value is trying to be set on a copy of a slice from a DataFrame.\n",
      "Try using .loc[row_indexer,col_indexer] = value instead\n",
      "\n",
      "See the caveats in the documentation: https://pandas.pydata.org/pandas-docs/stable/user_guide/indexing.html#returning-a-view-versus-a-copy\n",
      "  _tmp_ret['ret'] = np.exp(_tmp_ret.logret)-1 #unlogging the return\n"
     ]
    }
   ],
   "source": [
    "top50Rets_04_to_14, mom_output_04_to_14, ewretdat2, port, ewretdat, ewretdat3 = top_bottom_50(umd, lspd_m, '2004-01-01', '2014-01-01')"
   ]
  },
  {
   "cell_type": "code",
   "execution_count": 63,
   "id": "f0ae9dbc-976c-4f86-9bf9-e33406cc5bfd",
   "metadata": {},
   "outputs": [
    {
     "data": {
      "text/html": [
       "<div>\n",
       "<style scoped>\n",
       "    .dataframe tbody tr th:only-of-type {\n",
       "        vertical-align: middle;\n",
       "    }\n",
       "\n",
       "    .dataframe tbody tr th {\n",
       "        vertical-align: top;\n",
       "    }\n",
       "\n",
       "    .dataframe thead th {\n",
       "        text-align: right;\n",
       "    }\n",
       "</style>\n",
       "<table border=\"1\" class=\"dataframe\">\n",
       "  <thead>\n",
       "    <tr style=\"text-align: right;\">\n",
       "      <th></th>\n",
       "      <th>momr</th>\n",
       "      <th>mean</th>\n",
       "      <th>t-stat</th>\n",
       "      <th>p-value</th>\n",
       "    </tr>\n",
       "  </thead>\n",
       "  <tbody>\n",
       "    <tr>\n",
       "      <th>0</th>\n",
       "      <td>winners</td>\n",
       "      <td>0.007082</td>\n",
       "      <td>1.287556</td>\n",
       "      <td>0.200399</td>\n",
       "    </tr>\n",
       "    <tr>\n",
       "      <th>1</th>\n",
       "      <td>losers</td>\n",
       "      <td>0.018753</td>\n",
       "      <td>2.370849</td>\n",
       "      <td>0.019354</td>\n",
       "    </tr>\n",
       "    <tr>\n",
       "      <th>2</th>\n",
       "      <td>long_short</td>\n",
       "      <td>0.011671</td>\n",
       "      <td>2.241600</td>\n",
       "      <td>0.026841</td>\n",
       "    </tr>\n",
       "  </tbody>\n",
       "</table>\n",
       "</div>"
      ],
      "text/plain": [
       "         momr      mean    t-stat   p-value\n",
       "0     winners  0.007082  1.287556  0.200399\n",
       "1      losers  0.018753  2.370849  0.019354\n",
       "2  long_short  0.011671  2.241600  0.026841"
      ]
     },
     "execution_count": 63,
     "metadata": {},
     "output_type": "execute_result"
    }
   ],
   "source": [
    "mom_output_04_to_14"
   ]
  },
  {
   "cell_type": "code",
   "execution_count": 64,
   "id": "51777772-371f-4462-aad0-394a4e660415",
   "metadata": {
    "tags": []
   },
   "outputs": [
    {
     "name": "stderr",
     "output_type": "stream",
     "text": [
      "/Users/henry/Desktop/predictably-illiquid/contrarianTrading.py:26: SettingWithCopyWarning: \n",
      "A value is trying to be set on a copy of a slice from a DataFrame.\n",
      "Try using .loc[row_indexer,col_indexer] = value instead\n",
      "\n",
      "See the caveats in the documentation: https://pandas.pydata.org/pandas-docs/stable/user_guide/indexing.html#returning-a-view-versus-a-copy\n",
      "  _tmp_ret['ret'] = np.exp(_tmp_ret.logret)-1 #unlogging the return\n"
     ]
    }
   ],
   "source": [
    "top50Rets_12_to_24, mom_output_14_to_24, ewretdat2, port, ewretdat, ewretdat3 = top_bottom_50(umd, lspd_m, '2014-01-01', '2024-01-01')"
   ]
  },
  {
   "cell_type": "code",
   "execution_count": 65,
   "id": "f0ace0b8-05f0-4c55-9a21-3883c2b1d57a",
   "metadata": {},
   "outputs": [
    {
     "data": {
      "text/html": [
       "<div>\n",
       "<style scoped>\n",
       "    .dataframe tbody tr th:only-of-type {\n",
       "        vertical-align: middle;\n",
       "    }\n",
       "\n",
       "    .dataframe tbody tr th {\n",
       "        vertical-align: top;\n",
       "    }\n",
       "\n",
       "    .dataframe thead th {\n",
       "        text-align: right;\n",
       "    }\n",
       "</style>\n",
       "<table border=\"1\" class=\"dataframe\">\n",
       "  <thead>\n",
       "    <tr style=\"text-align: right;\">\n",
       "      <th></th>\n",
       "      <th>momr</th>\n",
       "      <th>mean</th>\n",
       "      <th>t-stat</th>\n",
       "      <th>p-value</th>\n",
       "    </tr>\n",
       "  </thead>\n",
       "  <tbody>\n",
       "    <tr>\n",
       "      <th>0</th>\n",
       "      <td>winners</td>\n",
       "      <td>0.003184</td>\n",
       "      <td>0.671538</td>\n",
       "      <td>0.503179</td>\n",
       "    </tr>\n",
       "    <tr>\n",
       "      <th>1</th>\n",
       "      <td>losers</td>\n",
       "      <td>0.017969</td>\n",
       "      <td>2.406719</td>\n",
       "      <td>0.017634</td>\n",
       "    </tr>\n",
       "    <tr>\n",
       "      <th>2</th>\n",
       "      <td>long_short</td>\n",
       "      <td>0.014785</td>\n",
       "      <td>2.692806</td>\n",
       "      <td>0.008108</td>\n",
       "    </tr>\n",
       "  </tbody>\n",
       "</table>\n",
       "</div>"
      ],
      "text/plain": [
       "         momr      mean    t-stat   p-value\n",
       "0     winners  0.003184  0.671538  0.503179\n",
       "1      losers  0.017969  2.406719  0.017634\n",
       "2  long_short  0.014785  2.692806  0.008108"
      ]
     },
     "execution_count": 65,
     "metadata": {},
     "output_type": "execute_result"
    }
   ],
   "source": [
    "mom_output_14_to_24"
   ]
  }
 ],
 "metadata": {
  "kernelspec": {
   "display_name": "Python 3 (ipykernel)",
   "language": "python",
   "name": "python3"
  },
  "language_info": {
   "codemirror_mode": {
    "name": "ipython",
    "version": 3
   },
   "file_extension": ".py",
   "mimetype": "text/x-python",
   "name": "python",
   "nbconvert_exporter": "python",
   "pygments_lexer": "ipython3",
   "version": "3.9.18"
  }
 },
 "nbformat": 4,
 "nbformat_minor": 5
}
