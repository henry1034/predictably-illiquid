{
 "cells": [
  {
   "cell_type": "code",
   "execution_count": 1,
   "id": "e259ebc2-8fa5-4587-ad97-d9ebcfcf630d",
   "metadata": {},
   "outputs": [],
   "source": [
    "import datetime\n",
    "import numpy as np\n",
    "import pandas as pd\n",
    "from tqdm import tqdm \n",
    "from scipy import stats\n",
    "import statsmodels.api as sm\n",
    "import matplotlib.pyplot as plt\n",
    "from pandas.tseries.offsets import *\n",
    "from statsmodels.stats.diagnostic import het_white\n",
    "from finance_byu.fama_macbeth import fama_macbeth, fama_macbeth_parallel, fm_summary, fama_macbeth_numba"
   ]
  },
  {
   "cell_type": "markdown",
   "id": "30bc1bd1-2be1-452e-befa-853877d15110",
   "metadata": {},
   "source": [
    "### Data Importation and Cleaning"
   ]
  },
  {
   "cell_type": "code",
   "execution_count": 3,
   "id": "132b126f-110b-4573-b0ca-d4344e9edfc7",
   "metadata": {},
   "outputs": [
    {
     "name": "stderr",
     "output_type": "stream",
     "text": [
      "/var/folders/cb/97kd5mrx7wzfcc3ksmz69k8m0000gn/T/ipykernel_42181/1319432502.py:2: DtypeWarning: Columns (35,75) have mixed types. Specify dtype option on import or set low_memory=False.\n",
      "  lspd_m1 = pd.read_csv('/users/henry/desktop/Uni Work/Final Year/Dissertation/Data/LSPD_M4.csv')\n"
     ]
    }
   ],
   "source": [
    "#load in the data\n",
    "lspd_m1 = pd.read_csv('/users/henry/desktop/Uni Work/Final Year/Dissertation/Data/LSPD_M4.csv')"
   ]
  },
  {
   "cell_type": "code",
   "execution_count": 4,
   "id": "5f52f945-6253-4d61-976f-214ab1bdb377",
   "metadata": {},
   "outputs": [],
   "source": [
    "lspd_m = lspd_m1.copy(deep=True) # this allows us to go back to the original unedited file if needed \n",
    "\n",
    "lspd_m['R21'] = pd.to_datetime(lspd_m['R21']) #converting dates to datetime\n",
    "\n",
    "lspd_m['R21'] = lspd_m['R21'] + MonthEnd(0)\n",
    "\n",
    "lspd_m['R6'] = pd.to_datetime(lspd_m['R6']) #converting start date to datetime\n",
    "\n",
    "lspd_m['R6'] = lspd_m['R6'] + MonthEnd(0)\n",
    "\n",
    "lspd_m = lspd_m.rename(columns={'R21':'date', 'P4' : 'prc', 'R22' : 'logret', 'G1' : 'compNam', 'A4' : 'mrktCp'}) #re-naming some of the columns for legibility "
   ]
  },
  {
   "cell_type": "code",
   "execution_count": 5,
   "id": "1f305f89-4ed6-4955-a917-0d63d7360e62",
   "metadata": {},
   "outputs": [],
   "source": [
    "# cleaning the data. See LSPD docs fod column names and information\n",
    "\n",
    "lspd_m = lspd_m.sort_values(by=['compNam', 'date'])\n",
    "\n",
    "lspd_m['rawRet'] = np.exp(lspd_m['logret'])-1 #taking the expoential of the logreturns to convert to simple returns\n",
    "\n",
    "lspd_m['rawRet_bfill'] = lspd_m.groupby('compNam')['rawRet'].bfill().tolist() #if there is a return after this then fill backwards to use in filtering\n",
    "\n",
    "lspd_m['rawRetShift'] = lspd_m.groupby('compNam')['rawRet'].shift() #shifting forward by 1 \n",
    "\n",
    "lspd_m['rawRetBack'] = lspd_m.groupby('compNam')['rawRet'].shift(-1) #shifting backward by 1 \n",
    "\n",
    "lspd_m['P8Bfill'] = lspd_m.groupby('compNam')['P8'].bfill().tolist() #backfilling price collection status \n",
    "\n",
    "lspd_m.loc[(lspd_m['P8'] == 4) & (lspd_m['rawRet_bfill'].isna()) & (lspd_m['G10'].isin([7,10,14, 16,20,21])) & (~lspd_m['rawRetShift'].isna()), 'rawRet'] = -0.99 #if an asset is suspended and ultimatley delisted with no value set the return in the next peiord to -0.999 (allows for dealing with logs)\n",
    "\n",
    "lspd_m.loc[(abs(lspd_m['rawRet']) > 0) & (lspd_m['prc']==0) & (lspd_m['P8'] != 4),'rawRet'] = 0 #deal with incorrect dividend adjustments \n",
    "\n",
    "lspd_m = lspd_m[~(((lspd_m.P8 == 4.0) | (lspd_m.P8 == 0)) & (lspd_m.rawRet_bfill.isna()) & (lspd_m.rawRet.isna()))] #any suspended asset that cannot be traded in future as it is delisted is removed \n",
    "\n",
    "lspd_m = lspd_m[~lspd_m.P8Bfill.isna()] #if there was never a recorded accurate price after this remove the rows \n",
    "\n",
    "lspd_m['start_month_year'] = lspd_m.apply(lambda row: 1 if (row['date'].year == row['R6'].year) & (row['date'].month == row['R6'].month) else 0, axis = 1) #this marks all rows where the data is the first entry \n",
    "\n",
    "lspd_m = lspd_m[lspd_m.start_month_year != 1] #this removes the first entry as returns is empty \n",
    "\n",
    "lspd_m['rawRet'] = lspd_m.rawRet.fillna(0) #the assumption here can go back to the fact we are using transacted prices - hence if the price is suspended then the ret is 0 \n",
    "\n",
    "lspd_m.loc[lspd_m['rawRet'] > 7, 'rawRet'] = 0 #removes outliers\n",
    "\n",
    "lspd_m['logret'] = np.log(1+lspd_m['rawRet'])  #converting the cleaned data back into logs for addition at a later stage \n",
    "\n",
    "lspd_m.loc[(lspd_m['P8'] == 4) & (lspd_m['rawRet_bfill'].isna()) & (lspd_m['G10'].isin([7,14, 10,16,20,21])) & (~lspd_m['rawRetShift'].isna()), 'rawRet'] = -1 #setting to -100% once logs are dealt with \n",
    "\n",
    "lspd_m['mrktCp'] = lspd_m['mrktCp'] / 1000 #converting the market value into millions from '000s \n",
    "\n",
    "lspd_m['mrktCp'] = lspd_m['mrktCp'].apply(lambda x: np.NaN if x == 0 else x)\n",
    "\n",
    "lspd_m['mrktCp'] = lspd_m['mrktCp'].ffill() #forward filling market cap when it equals zero \n",
    "\n",
    "lspd_m = lspd_m[~lspd_m.G16.isin([99,98,97,95,37,0])] # finally taking only LSE lists stocks (AIM and OTC are too illiquid to be considered here) and getting rid of investment trusts \n"
   ]
  },
  {
   "cell_type": "markdown",
   "id": "91484bb8-386a-4520-9273-5373e390dccb",
   "metadata": {},
   "source": [
    "### Computing market returns, redisual returns and excess returns"
   ]
  },
  {
   "cell_type": "code",
   "execution_count": 6,
   "id": "baa9d7af-86d7-4640-99e7-7da1baded434",
   "metadata": {},
   "outputs": [],
   "source": [
    "#equal weight market return \n",
    "lseRets = lspd_m.groupby('date')['rawRet'].mean().reset_index() \n",
    "lseRets = lseRets.rename(columns={'rawRet':'mrktRet'})"
   ]
  },
  {
   "cell_type": "code",
   "execution_count": 7,
   "id": "60de3cb4-5a6c-4139-a39e-bd6a47176a84",
   "metadata": {},
   "outputs": [],
   "source": [
    "#residual return (asset return minus mean return)\n",
    "mean_ret = lspd_m.groupby('compNam')['rawRet'].mean().reset_index()\n",
    "mean_ret = mean_ret.rename(columns={'rawRet' : 'mean_ret'})\n",
    "lspd_m = lspd_m.merge(mean_ret, on='compNam', how='inner')\n",
    "lspd_m['residualRet'] = lspd_m['rawRet'] - lspd_m['mean_ret']"
   ]
  },
  {
   "cell_type": "code",
   "execution_count": 8,
   "id": "aff2280e-9f95-46ce-8218-db6d78ffe09f",
   "metadata": {},
   "outputs": [],
   "source": [
    "#excess return (asset return minus market return)\n",
    "lspd_m = lspd_m.merge(lseRets, how='inner', on='date')\n",
    "lspd_m['excessRet'] = lspd_m['rawRet'] - lspd_m['mrktRet']"
   ]
  },
  {
   "cell_type": "code",
   "execution_count": 9,
   "id": "4b6778b1-7082-4f52-b521-60e497587567",
   "metadata": {},
   "outputs": [
    {
     "name": "stderr",
     "output_type": "stream",
     "text": [
      "/var/folders/cb/97kd5mrx7wzfcc3ksmz69k8m0000gn/T/ipykernel_42181/3236755030.py:5: SettingWithCopyWarning: \n",
      "A value is trying to be set on a copy of a slice from a DataFrame.\n",
      "Try using .loc[row_indexer,col_indexer] = value instead\n",
      "\n",
      "See the caveats in the documentation: https://pandas.pydata.org/pandas-docs/stable/user_guide/indexing.html#returning-a-view-versus-a-copy\n",
      "  _tmp_mrktcp['mrktRnk'] = _tmp_mrktcp.groupby('date')['mrktCp'].transform(lambda x: pd.qcut(x, 3, labels=False)).tolist()\n",
      "/var/folders/cb/97kd5mrx7wzfcc3ksmz69k8m0000gn/T/ipykernel_42181/3236755030.py:6: SettingWithCopyWarning: \n",
      "A value is trying to be set on a copy of a slice from a DataFrame.\n",
      "Try using .loc[row_indexer,col_indexer] = value instead\n",
      "\n",
      "See the caveats in the documentation: https://pandas.pydata.org/pandas-docs/stable/user_guide/indexing.html#returning-a-view-versus-a-copy\n",
      "  _tmp_mrktcp['mrktRnk'] = _tmp_mrktcp['mrktRnk'] + 1 #indexed at zero so add 1\n"
     ]
    }
   ],
   "source": [
    "umd = lspd_m[['date', 'compNam', 'G18','G16', 'P8', 'R18', 'prc', 'residualRet', 'excessRet', 'logret', 'mrktCp', 'rawRet']]\n",
    "\n",
    "#adding marketcaps\n",
    "_tmp_mrktcp = lspd_m[['date', 'compNam', 'mrktCp']]\n",
    "_tmp_mrktcp['mrktRnk'] = _tmp_mrktcp.groupby('date')['mrktCp'].transform(lambda x: pd.qcut(x, 3, labels=False)).tolist()\n",
    "_tmp_mrktcp['mrktRnk'] = _tmp_mrktcp['mrktRnk'] + 1 #indexed at zero so add 1 \n",
    "_tmp_mrktcp = _tmp_mrktcp[['date', 'compNam', 'mrktRnk']]\n",
    "\n",
    "#removing stocks with fewer than 37 months of continuous return data \n",
    "counts = umd.groupby('compNam').count()\n",
    "counts = counts[counts.date < 37]\n",
    "umd = umd[~umd.compNam.isin(counts.index)]"
   ]
  },
  {
   "cell_type": "code",
   "execution_count": 11,
   "id": "2312e0ab-192d-4efe-80d3-4d3842211ab5",
   "metadata": {},
   "outputs": [],
   "source": [
    "#removing stocks with less than 36 months of return data\n",
    "umd = lspd_m\n",
    "counts = umd.groupby('compNam').count()\n",
    "counts = counts[counts.date < 37]\n",
    "umd = umd[~umd.compNam.isin(counts.index)]"
   ]
  },
  {
   "cell_type": "markdown",
   "id": "90bc01cd-808f-43c2-b184-652975863adc",
   "metadata": {},
   "source": [
    "## testing autocorrelation of residuals"
   ]
  },
  {
   "cell_type": "code",
   "execution_count": 78,
   "id": "15549244-44ca-4660-b46c-3084924ed579",
   "metadata": {},
   "outputs": [],
   "source": [
    "umd2 = umd.copy(deep=True) #deep cpoy avoids altering the frame "
   ]
  },
  {
   "cell_type": "code",
   "execution_count": 79,
   "id": "044b484d-6792-49b8-91d4-a491039016c1",
   "metadata": {},
   "outputs": [],
   "source": [
    "umd2 = umd2.sort_values(by=['compNam', 'date']) "
   ]
  },
  {
   "cell_type": "code",
   "execution_count": 80,
   "id": "6e5d7909-56f5-4b77-b44f-e4f2021868a2",
   "metadata": {},
   "outputs": [],
   "source": [
    "#calculating the returns over the past 1-14, 24 and 36 months using log returns \n",
    "diffs = list(range(1,13,1))\n",
    "\n",
    "for diff in diffs:\n",
    "    \n",
    "    umd2['diff_{}'.format(str(diff))] = umd2.groupby('compNam')['logret'].rolling(diff, min_periods=diff).sum().tolist() #calculating the rolling return and shifting down 1 \n",
    "    umd2['diff_{}'.format(str(diff))] = umd2.groupby('compNam')['diff_{}'.format(str(diff))].shift().tolist() #shifting 1\n",
    "    umd2['diff_{}'.format(str(diff))] = np.exp(umd2['diff_{}'.format(str(diff))])-1 #convert back to simple return\n",
    "    \n",
    "umd2['diff_24'] = umd2.groupby('compNam')['logret'].rolling(24, min_periods=24).sum().tolist()\n",
    "umd2['diff_24'] = umd2.groupby('compNam')['diff_24'].shift().tolist() #calculating the rolling return and shifting down 1 \n",
    "umd2['diff_24'] = np.exp(umd2['diff_24'])-1\n",
    "\n",
    "umd2['diff_36'] = umd2.groupby('compNam')['logret'].rolling(36, min_periods=36).sum().tolist() \n",
    "umd2['diff_36'] = umd2.groupby('compNam')['diff_36'].shift().tolist() #calculating the rolling return and shifting down 1 \n",
    "umd2['diff_36'] = np.exp(umd2['diff_36'])-1\n",
    "\n",
    "    \n",
    "    \n",
    "umd2 = umd2.dropna(subset='diff_36') #removes all stocks in month t for which there is no return for the past 3 years (ensuring that we only compute regressions on avaialble stocks) \n"
   ]
  },
  {
   "cell_type": "code",
   "execution_count": 81,
   "id": "51964023-8687-4c4a-b45e-1d6b81017408",
   "metadata": {},
   "outputs": [],
   "source": [
    "umd2 = umd2[(umd2.date >= pd.to_datetime('01-01-1994')) & (umd2.date < pd.to_datetime('01-01-2024'))] #confining to testing period "
   ]
  },
  {
   "cell_type": "code",
   "execution_count": 82,
   "id": "d834aa3c-3a69-478f-8215-d47bfb455268",
   "metadata": {},
   "outputs": [],
   "source": [
    "umd2 = umd2.merge(_tmp_mrktcp, on=['date', 'compNam'], how='inner')"
   ]
  },
  {
   "cell_type": "code",
   "execution_count": 83,
   "id": "8d09eeee-03f5-46db-a20b-7ef0960a6b69",
   "metadata": {},
   "outputs": [
    {
     "data": {
      "text/html": [
       "<div>\n",
       "<style scoped>\n",
       "    .dataframe tbody tr th:only-of-type {\n",
       "        vertical-align: middle;\n",
       "    }\n",
       "\n",
       "    .dataframe tbody tr th {\n",
       "        vertical-align: top;\n",
       "    }\n",
       "\n",
       "    .dataframe thead th {\n",
       "        text-align: right;\n",
       "    }\n",
       "</style>\n",
       "<table border=\"1\" class=\"dataframe\">\n",
       "  <thead>\n",
       "    <tr style=\"text-align: right;\">\n",
       "      <th></th>\n",
       "      <th>mean</th>\n",
       "      <th>std_error</th>\n",
       "      <th>tstat</th>\n",
       "    </tr>\n",
       "  </thead>\n",
       "  <tbody>\n",
       "    <tr>\n",
       "      <th>intercept</th>\n",
       "      <td>-0.002055</td>\n",
       "      <td>0.001876</td>\n",
       "      <td>-1.095431</td>\n",
       "    </tr>\n",
       "    <tr>\n",
       "      <th>diff_1</th>\n",
       "      <td>-0.057262</td>\n",
       "      <td>0.006413</td>\n",
       "      <td>-8.928729</td>\n",
       "    </tr>\n",
       "    <tr>\n",
       "      <th>diff_2</th>\n",
       "      <td>-0.004021</td>\n",
       "      <td>0.005454</td>\n",
       "      <td>-0.737274</td>\n",
       "    </tr>\n",
       "    <tr>\n",
       "      <th>diff_3</th>\n",
       "      <td>-0.004221</td>\n",
       "      <td>0.005867</td>\n",
       "      <td>-0.719438</td>\n",
       "    </tr>\n",
       "    <tr>\n",
       "      <th>diff_4</th>\n",
       "      <td>0.005900</td>\n",
       "      <td>0.005108</td>\n",
       "      <td>1.154875</td>\n",
       "    </tr>\n",
       "    <tr>\n",
       "      <th>diff_5</th>\n",
       "      <td>-0.005666</td>\n",
       "      <td>0.005243</td>\n",
       "      <td>-1.080691</td>\n",
       "    </tr>\n",
       "    <tr>\n",
       "      <th>diff_6</th>\n",
       "      <td>-0.002956</td>\n",
       "      <td>0.005595</td>\n",
       "      <td>-0.528279</td>\n",
       "    </tr>\n",
       "    <tr>\n",
       "      <th>diff_7</th>\n",
       "      <td>0.004163</td>\n",
       "      <td>0.005628</td>\n",
       "      <td>0.739786</td>\n",
       "    </tr>\n",
       "    <tr>\n",
       "      <th>diff_8</th>\n",
       "      <td>-0.000616</td>\n",
       "      <td>0.005007</td>\n",
       "      <td>-0.123104</td>\n",
       "    </tr>\n",
       "    <tr>\n",
       "      <th>diff_9</th>\n",
       "      <td>0.001676</td>\n",
       "      <td>0.004680</td>\n",
       "      <td>0.358238</td>\n",
       "    </tr>\n",
       "    <tr>\n",
       "      <th>diff_10</th>\n",
       "      <td>-0.006734</td>\n",
       "      <td>0.004852</td>\n",
       "      <td>-1.387855</td>\n",
       "    </tr>\n",
       "    <tr>\n",
       "      <th>diff_11</th>\n",
       "      <td>-0.004885</td>\n",
       "      <td>0.005199</td>\n",
       "      <td>-0.939618</td>\n",
       "    </tr>\n",
       "    <tr>\n",
       "      <th>diff_12</th>\n",
       "      <td>0.017235</td>\n",
       "      <td>0.003761</td>\n",
       "      <td>4.583052</td>\n",
       "    </tr>\n",
       "    <tr>\n",
       "      <th>diff_24</th>\n",
       "      <td>0.000557</td>\n",
       "      <td>0.001129</td>\n",
       "      <td>0.493792</td>\n",
       "    </tr>\n",
       "    <tr>\n",
       "      <th>diff_36</th>\n",
       "      <td>-0.003605</td>\n",
       "      <td>0.000674</td>\n",
       "      <td>-5.348877</td>\n",
       "    </tr>\n",
       "  </tbody>\n",
       "</table>\n",
       "</div>"
      ],
      "text/plain": [
       "               mean  std_error     tstat\n",
       "intercept -0.002055   0.001876 -1.095431\n",
       "diff_1    -0.057262   0.006413 -8.928729\n",
       "diff_2    -0.004021   0.005454 -0.737274\n",
       "diff_3    -0.004221   0.005867 -0.719438\n",
       "diff_4     0.005900   0.005108  1.154875\n",
       "diff_5    -0.005666   0.005243 -1.080691\n",
       "diff_6    -0.002956   0.005595 -0.528279\n",
       "diff_7     0.004163   0.005628  0.739786\n",
       "diff_8    -0.000616   0.005007 -0.123104\n",
       "diff_9     0.001676   0.004680  0.358238\n",
       "diff_10   -0.006734   0.004852 -1.387855\n",
       "diff_11   -0.004885   0.005199 -0.939618\n",
       "diff_12    0.017235   0.003761  4.583052\n",
       "diff_24    0.000557   0.001129  0.493792\n",
       "diff_36   -0.003605   0.000674 -5.348877"
      ]
     },
     "execution_count": 83,
     "metadata": {},
     "output_type": "execute_result"
    }
   ],
   "source": [
    "results = fama_macbeth(umd2, 'date', 'residualRet', ['diff_1', 'diff_2', 'diff_3', 'diff_4', 'diff_5', 'diff_6',\n",
    "       'diff_7', 'diff_8', 'diff_9', 'diff_10', 'diff_11', 'diff_12', 'diff_24', 'diff_36'], intercept = True)\n",
    "\n",
    "summary = fm_summary(results)\n",
    "summary"
   ]
  },
  {
   "cell_type": "code",
   "execution_count": 84,
   "id": "19192a40-4e22-4ea1-8edf-e3a1203bdc8f",
   "metadata": {},
   "outputs": [],
   "source": [
    "summary.to_csv('/users/henry/desktop/summary_1.csv')"
   ]
  },
  {
   "cell_type": "code",
   "execution_count": 85,
   "id": "3798d248-dce1-4835-9f1d-c91eb657f81f",
   "metadata": {},
   "outputs": [],
   "source": [
    "#marking the month of January in the data\n",
    "umd2['month'] = [i.month for i in umd2['date'].tolist()]\n",
    "umd3 = umd2[umd2.month == 1] #january returns\n",
    "umd4 = umd2[umd2.month != 1] #non january returns"
   ]
  },
  {
   "cell_type": "code",
   "execution_count": 86,
   "id": "97b20abf-4f89-4b80-bd79-c54ff4f9f931",
   "metadata": {},
   "outputs": [
    {
     "name": "stderr",
     "output_type": "stream",
     "text": [
      "/Users/henry/opt/anaconda3/lib/python3.9/site-packages/finance_byu/fama_macbeth.py:44: SettingWithCopyWarning: \n",
      "A value is trying to be set on a copy of a slice from a DataFrame.\n",
      "Try using .loc[row_indexer,col_indexer] = value instead\n",
      "\n",
      "See the caveats in the documentation: https://pandas.pydata.org/pandas-docs/stable/user_guide/indexing.html#returning-a-view-versus-a-copy\n",
      "  data['intercept'] = 1\n"
     ]
    },
    {
     "data": {
      "text/html": [
       "<div>\n",
       "<style scoped>\n",
       "    .dataframe tbody tr th:only-of-type {\n",
       "        vertical-align: middle;\n",
       "    }\n",
       "\n",
       "    .dataframe tbody tr th {\n",
       "        vertical-align: top;\n",
       "    }\n",
       "\n",
       "    .dataframe thead th {\n",
       "        text-align: right;\n",
       "    }\n",
       "</style>\n",
       "<table border=\"1\" class=\"dataframe\">\n",
       "  <thead>\n",
       "    <tr style=\"text-align: right;\">\n",
       "      <th></th>\n",
       "      <th>mean</th>\n",
       "      <th>std_error</th>\n",
       "      <th>tstat</th>\n",
       "    </tr>\n",
       "  </thead>\n",
       "  <tbody>\n",
       "    <tr>\n",
       "      <th>intercept</th>\n",
       "      <td>0.005486</td>\n",
       "      <td>0.006818</td>\n",
       "      <td>0.804605</td>\n",
       "    </tr>\n",
       "    <tr>\n",
       "      <th>diff_1</th>\n",
       "      <td>-0.088507</td>\n",
       "      <td>0.016890</td>\n",
       "      <td>-5.240100</td>\n",
       "    </tr>\n",
       "    <tr>\n",
       "      <th>diff_2</th>\n",
       "      <td>0.004107</td>\n",
       "      <td>0.018997</td>\n",
       "      <td>0.216208</td>\n",
       "    </tr>\n",
       "    <tr>\n",
       "      <th>diff_3</th>\n",
       "      <td>-0.016500</td>\n",
       "      <td>0.020436</td>\n",
       "      <td>-0.807401</td>\n",
       "    </tr>\n",
       "    <tr>\n",
       "      <th>diff_4</th>\n",
       "      <td>0.000701</td>\n",
       "      <td>0.014177</td>\n",
       "      <td>0.049446</td>\n",
       "    </tr>\n",
       "    <tr>\n",
       "      <th>diff_5</th>\n",
       "      <td>0.014281</td>\n",
       "      <td>0.016068</td>\n",
       "      <td>0.888792</td>\n",
       "    </tr>\n",
       "    <tr>\n",
       "      <th>diff_6</th>\n",
       "      <td>-0.028159</td>\n",
       "      <td>0.016840</td>\n",
       "      <td>-1.672131</td>\n",
       "    </tr>\n",
       "    <tr>\n",
       "      <th>diff_7</th>\n",
       "      <td>0.002260</td>\n",
       "      <td>0.017423</td>\n",
       "      <td>0.129726</td>\n",
       "    </tr>\n",
       "    <tr>\n",
       "      <th>diff_8</th>\n",
       "      <td>-0.009442</td>\n",
       "      <td>0.017467</td>\n",
       "      <td>-0.540575</td>\n",
       "    </tr>\n",
       "    <tr>\n",
       "      <th>diff_9</th>\n",
       "      <td>0.019014</td>\n",
       "      <td>0.014852</td>\n",
       "      <td>1.280205</td>\n",
       "    </tr>\n",
       "    <tr>\n",
       "      <th>diff_10</th>\n",
       "      <td>0.015525</td>\n",
       "      <td>0.017154</td>\n",
       "      <td>0.905047</td>\n",
       "    </tr>\n",
       "    <tr>\n",
       "      <th>diff_11</th>\n",
       "      <td>-0.058840</td>\n",
       "      <td>0.018814</td>\n",
       "      <td>-3.127416</td>\n",
       "    </tr>\n",
       "    <tr>\n",
       "      <th>diff_12</th>\n",
       "      <td>0.043741</td>\n",
       "      <td>0.011157</td>\n",
       "      <td>3.920620</td>\n",
       "    </tr>\n",
       "    <tr>\n",
       "      <th>diff_24</th>\n",
       "      <td>-0.002909</td>\n",
       "      <td>0.002503</td>\n",
       "      <td>-1.162404</td>\n",
       "    </tr>\n",
       "    <tr>\n",
       "      <th>diff_36</th>\n",
       "      <td>-0.003337</td>\n",
       "      <td>0.001633</td>\n",
       "      <td>-2.043844</td>\n",
       "    </tr>\n",
       "  </tbody>\n",
       "</table>\n",
       "</div>"
      ],
      "text/plain": [
       "               mean  std_error     tstat\n",
       "intercept  0.005486   0.006818  0.804605\n",
       "diff_1    -0.088507   0.016890 -5.240100\n",
       "diff_2     0.004107   0.018997  0.216208\n",
       "diff_3    -0.016500   0.020436 -0.807401\n",
       "diff_4     0.000701   0.014177  0.049446\n",
       "diff_5     0.014281   0.016068  0.888792\n",
       "diff_6    -0.028159   0.016840 -1.672131\n",
       "diff_7     0.002260   0.017423  0.129726\n",
       "diff_8    -0.009442   0.017467 -0.540575\n",
       "diff_9     0.019014   0.014852  1.280205\n",
       "diff_10    0.015525   0.017154  0.905047\n",
       "diff_11   -0.058840   0.018814 -3.127416\n",
       "diff_12    0.043741   0.011157  3.920620\n",
       "diff_24   -0.002909   0.002503 -1.162404\n",
       "diff_36   -0.003337   0.001633 -2.043844"
      ]
     },
     "execution_count": 86,
     "metadata": {},
     "output_type": "execute_result"
    }
   ],
   "source": [
    "results_jan = fama_macbeth(umd3, 'date', 'residualRet', ['diff_1', 'diff_2', 'diff_3', 'diff_4', 'diff_5', 'diff_6',\n",
    "       'diff_7', 'diff_8', 'diff_9', 'diff_10', 'diff_11', 'diff_12', 'diff_24', 'diff_36'], intercept = True)\n",
    "\n",
    "summary = fm_summary(results_jan)\n",
    "summary"
   ]
  },
  {
   "cell_type": "code",
   "execution_count": 87,
   "id": "9ecabfba-bc43-46c6-aa56-9783ccde1759",
   "metadata": {},
   "outputs": [],
   "source": [
    "summary.to_csv('/users/henry/desktop/summary_2.csv')"
   ]
  },
  {
   "cell_type": "code",
   "execution_count": 88,
   "id": "4c026972-14fc-4c13-a66a-db471ad15153",
   "metadata": {},
   "outputs": [
    {
     "name": "stderr",
     "output_type": "stream",
     "text": [
      "/Users/henry/opt/anaconda3/lib/python3.9/site-packages/finance_byu/fama_macbeth.py:44: SettingWithCopyWarning: \n",
      "A value is trying to be set on a copy of a slice from a DataFrame.\n",
      "Try using .loc[row_indexer,col_indexer] = value instead\n",
      "\n",
      "See the caveats in the documentation: https://pandas.pydata.org/pandas-docs/stable/user_guide/indexing.html#returning-a-view-versus-a-copy\n",
      "  data['intercept'] = 1\n"
     ]
    },
    {
     "data": {
      "text/html": [
       "<div>\n",
       "<style scoped>\n",
       "    .dataframe tbody tr th:only-of-type {\n",
       "        vertical-align: middle;\n",
       "    }\n",
       "\n",
       "    .dataframe tbody tr th {\n",
       "        vertical-align: top;\n",
       "    }\n",
       "\n",
       "    .dataframe thead th {\n",
       "        text-align: right;\n",
       "    }\n",
       "</style>\n",
       "<table border=\"1\" class=\"dataframe\">\n",
       "  <thead>\n",
       "    <tr style=\"text-align: right;\">\n",
       "      <th></th>\n",
       "      <th>mean</th>\n",
       "      <th>std_error</th>\n",
       "      <th>tstat</th>\n",
       "    </tr>\n",
       "  </thead>\n",
       "  <tbody>\n",
       "    <tr>\n",
       "      <th>intercept</th>\n",
       "      <td>-0.002741</td>\n",
       "      <td>0.001950</td>\n",
       "      <td>-1.405837</td>\n",
       "    </tr>\n",
       "    <tr>\n",
       "      <th>diff_1</th>\n",
       "      <td>-0.054422</td>\n",
       "      <td>0.006810</td>\n",
       "      <td>-7.991117</td>\n",
       "    </tr>\n",
       "    <tr>\n",
       "      <th>diff_2</th>\n",
       "      <td>-0.004760</td>\n",
       "      <td>0.005701</td>\n",
       "      <td>-0.835000</td>\n",
       "    </tr>\n",
       "    <tr>\n",
       "      <th>diff_3</th>\n",
       "      <td>-0.003105</td>\n",
       "      <td>0.006131</td>\n",
       "      <td>-0.506435</td>\n",
       "    </tr>\n",
       "    <tr>\n",
       "      <th>diff_4</th>\n",
       "      <td>0.006372</td>\n",
       "      <td>0.005426</td>\n",
       "      <td>1.174299</td>\n",
       "    </tr>\n",
       "    <tr>\n",
       "      <th>diff_5</th>\n",
       "      <td>-0.007479</td>\n",
       "      <td>0.005525</td>\n",
       "      <td>-1.353589</td>\n",
       "    </tr>\n",
       "    <tr>\n",
       "      <th>diff_6</th>\n",
       "      <td>-0.000665</td>\n",
       "      <td>0.005900</td>\n",
       "      <td>-0.112669</td>\n",
       "    </tr>\n",
       "    <tr>\n",
       "      <th>diff_7</th>\n",
       "      <td>0.004336</td>\n",
       "      <td>0.005939</td>\n",
       "      <td>0.730188</td>\n",
       "    </tr>\n",
       "    <tr>\n",
       "      <th>diff_8</th>\n",
       "      <td>0.000186</td>\n",
       "      <td>0.005232</td>\n",
       "      <td>0.035548</td>\n",
       "    </tr>\n",
       "    <tr>\n",
       "      <th>diff_9</th>\n",
       "      <td>0.000100</td>\n",
       "      <td>0.004920</td>\n",
       "      <td>0.020393</td>\n",
       "    </tr>\n",
       "    <tr>\n",
       "      <th>diff_10</th>\n",
       "      <td>-0.008758</td>\n",
       "      <td>0.005052</td>\n",
       "      <td>-1.733649</td>\n",
       "    </tr>\n",
       "    <tr>\n",
       "      <th>diff_11</th>\n",
       "      <td>0.000020</td>\n",
       "      <td>0.005334</td>\n",
       "      <td>0.003808</td>\n",
       "    </tr>\n",
       "    <tr>\n",
       "      <th>diff_12</th>\n",
       "      <td>0.014825</td>\n",
       "      <td>0.003953</td>\n",
       "      <td>3.750517</td>\n",
       "    </tr>\n",
       "    <tr>\n",
       "      <th>diff_24</th>\n",
       "      <td>0.000872</td>\n",
       "      <td>0.001209</td>\n",
       "      <td>0.721389</td>\n",
       "    </tr>\n",
       "    <tr>\n",
       "      <th>diff_36</th>\n",
       "      <td>-0.003630</td>\n",
       "      <td>0.000721</td>\n",
       "      <td>-5.036271</td>\n",
       "    </tr>\n",
       "  </tbody>\n",
       "</table>\n",
       "</div>"
      ],
      "text/plain": [
       "               mean  std_error     tstat\n",
       "intercept -0.002741   0.001950 -1.405837\n",
       "diff_1    -0.054422   0.006810 -7.991117\n",
       "diff_2    -0.004760   0.005701 -0.835000\n",
       "diff_3    -0.003105   0.006131 -0.506435\n",
       "diff_4     0.006372   0.005426  1.174299\n",
       "diff_5    -0.007479   0.005525 -1.353589\n",
       "diff_6    -0.000665   0.005900 -0.112669\n",
       "diff_7     0.004336   0.005939  0.730188\n",
       "diff_8     0.000186   0.005232  0.035548\n",
       "diff_9     0.000100   0.004920  0.020393\n",
       "diff_10   -0.008758   0.005052 -1.733649\n",
       "diff_11    0.000020   0.005334  0.003808\n",
       "diff_12    0.014825   0.003953  3.750517\n",
       "diff_24    0.000872   0.001209  0.721389\n",
       "diff_36   -0.003630   0.000721 -5.036271"
      ]
     },
     "execution_count": 88,
     "metadata": {},
     "output_type": "execute_result"
    }
   ],
   "source": [
    "results_jan = fama_macbeth(umd4, 'date', 'residualRet', ['diff_1', 'diff_2', 'diff_3', 'diff_4', 'diff_5', 'diff_6',\n",
    "       'diff_7', 'diff_8', 'diff_9', 'diff_10', 'diff_11', 'diff_12', 'diff_24', 'diff_36'], intercept = True)\n",
    "\n",
    "summary = fm_summary(results_jan)\n",
    "summary"
   ]
  },
  {
   "cell_type": "code",
   "execution_count": 89,
   "id": "ab2b76a0-fd9a-415b-983e-d65ec2894c9c",
   "metadata": {},
   "outputs": [],
   "source": [
    "summary.to_csv('/users/henry/desktop/summary_3.csv')"
   ]
  },
  {
   "cell_type": "markdown",
   "id": "511733c7-320b-47ad-a17c-1390fb5f5f8a",
   "metadata": {},
   "source": [
    "## umd = umd.merge(_tmp_mrktcp, on=['date', 'compNam'], how='inner')"
   ]
  },
  {
   "cell_type": "markdown",
   "id": "02f0f1d8-be04-4fd5-941e-a0a8096b37f4",
   "metadata": {},
   "source": [
    "## Portfolio Formation"
   ]
  },
  {
   "cell_type": "code",
   "execution_count": 22,
   "id": "8fe1f125-eb78-4bed-8631-0dd4fd8b7c3e",
   "metadata": {},
   "outputs": [
    {
     "name": "stderr",
     "output_type": "stream",
     "text": [
      "/var/folders/cb/97kd5mrx7wzfcc3ksmz69k8m0000gn/T/ipykernel_42181/352120907.py:3: DeprecationWarning: DataFrameGroupBy.apply operated on the grouping columns. This behavior is deprecated, and in a future version of pandas the grouping columns will be excluded from the operation. Either pass `include_groups=False` to exclude the groupings or explicitly select the grouping columns after groupby to silence this warning.\n",
      "  umd = umd.groupby('date').apply(assign_momr)\n",
      "/var/folders/cb/97kd5mrx7wzfcc3ksmz69k8m0000gn/T/ipykernel_42181/352120907.py:14: SettingWithCopyWarning: \n",
      "A value is trying to be set on a copy of a slice from a DataFrame.\n",
      "Try using .loc[row_indexer,col_indexer] = value instead\n",
      "\n",
      "See the caveats in the documentation: https://pandas.pydata.org/pandas-docs/stable/user_guide/indexing.html#returning-a-view-versus-a-copy\n",
      "  _tmp_ret['ret'] = np.exp(_tmp_ret.logret)-1 #unlogging the return\n",
      "100%|███████████████████████████████████████████| 43/43 [00:35<00:00,  1.20it/s]\n"
     ]
    }
   ],
   "source": [
    "#running the algorithm with all the data \n",
    "top50Rets_all, mom_output_all, ewretdat2_all, port_all, ewretdat_all, ewretdat3_all = top_bottom_50(umd, lspd_m, '1994-01-01', '2024-01-01')"
   ]
  },
  {
   "cell_type": "code",
   "execution_count": 23,
   "id": "97469575-7d4f-4e4c-886f-b751170f05f1",
   "metadata": {},
   "outputs": [
    {
     "data": {
      "text/html": [
       "<div>\n",
       "<style scoped>\n",
       "    .dataframe tbody tr th:only-of-type {\n",
       "        vertical-align: middle;\n",
       "    }\n",
       "\n",
       "    .dataframe tbody tr th {\n",
       "        vertical-align: top;\n",
       "    }\n",
       "\n",
       "    .dataframe thead th {\n",
       "        text-align: right;\n",
       "    }\n",
       "</style>\n",
       "<table border=\"1\" class=\"dataframe\">\n",
       "  <thead>\n",
       "    <tr style=\"text-align: right;\">\n",
       "      <th></th>\n",
       "      <th>count</th>\n",
       "      <th>mean</th>\n",
       "      <th>std</th>\n",
       "    </tr>\n",
       "    <tr>\n",
       "      <th>momr</th>\n",
       "      <th></th>\n",
       "      <th></th>\n",
       "      <th></th>\n",
       "    </tr>\n",
       "  </thead>\n",
       "  <tbody>\n",
       "    <tr>\n",
       "      <th>1</th>\n",
       "      <td>360.0</td>\n",
       "      <td>0.026136</td>\n",
       "      <td>0.086523</td>\n",
       "    </tr>\n",
       "    <tr>\n",
       "      <th>2</th>\n",
       "      <td>360.0</td>\n",
       "      <td>0.009215</td>\n",
       "      <td>0.044719</td>\n",
       "    </tr>\n",
       "    <tr>\n",
       "      <th>3</th>\n",
       "      <td>360.0</td>\n",
       "      <td>0.003339</td>\n",
       "      <td>0.064861</td>\n",
       "    </tr>\n",
       "  </tbody>\n",
       "</table>\n",
       "</div>"
      ],
      "text/plain": [
       "      count      mean       std\n",
       "momr                           \n",
       "1     360.0  0.026136  0.086523\n",
       "2     360.0  0.009215  0.044719\n",
       "3     360.0  0.003339  0.064861"
      ]
     },
     "execution_count": 23,
     "metadata": {},
     "output_type": "execute_result"
    }
   ],
   "source": [
    "top50Rets_all"
   ]
  },
  {
   "cell_type": "code",
   "execution_count": 24,
   "id": "c6a2a34a-918f-4950-a873-7bb427aa4133",
   "metadata": {},
   "outputs": [
    {
     "data": {
      "text/html": [
       "<div>\n",
       "<style scoped>\n",
       "    .dataframe tbody tr th:only-of-type {\n",
       "        vertical-align: middle;\n",
       "    }\n",
       "\n",
       "    .dataframe tbody tr th {\n",
       "        vertical-align: top;\n",
       "    }\n",
       "\n",
       "    .dataframe thead th {\n",
       "        text-align: right;\n",
       "    }\n",
       "</style>\n",
       "<table border=\"1\" class=\"dataframe\">\n",
       "  <thead>\n",
       "    <tr style=\"text-align: right;\">\n",
       "      <th></th>\n",
       "      <th>momr</th>\n",
       "      <th>mean</th>\n",
       "      <th>t-stat</th>\n",
       "      <th>p-value</th>\n",
       "    </tr>\n",
       "  </thead>\n",
       "  <tbody>\n",
       "    <tr>\n",
       "      <th>0</th>\n",
       "      <td>winners</td>\n",
       "      <td>0.003339</td>\n",
       "      <td>0.976877</td>\n",
       "      <td>3.292881e-01</td>\n",
       "    </tr>\n",
       "    <tr>\n",
       "      <th>1</th>\n",
       "      <td>losers</td>\n",
       "      <td>0.026136</td>\n",
       "      <td>5.731498</td>\n",
       "      <td>2.111193e-08</td>\n",
       "    </tr>\n",
       "    <tr>\n",
       "      <th>2</th>\n",
       "      <td>long_short</td>\n",
       "      <td>0.022797</td>\n",
       "      <td>6.362093</td>\n",
       "      <td>6.067066e-10</td>\n",
       "    </tr>\n",
       "  </tbody>\n",
       "</table>\n",
       "</div>"
      ],
      "text/plain": [
       "         momr      mean    t-stat       p-value\n",
       "0     winners  0.003339  0.976877  3.292881e-01\n",
       "1      losers  0.026136  5.731498  2.111193e-08\n",
       "2  long_short  0.022797  6.362093  6.067066e-10"
      ]
     },
     "execution_count": 24,
     "metadata": {},
     "output_type": "execute_result"
    }
   ],
   "source": [
    "mom_output_all"
   ]
  },
  {
   "cell_type": "code",
   "execution_count": 25,
   "id": "40b6cc24-8d72-4808-9bf3-28c011ea632c",
   "metadata": {},
   "outputs": [
    {
     "data": {
      "text/plain": [
       "0.01098116678495507"
      ]
     },
     "execution_count": 25,
     "metadata": {},
     "output_type": "execute_result"
    }
   ],
   "source": [
    "lseRets['mrktRet'].mean()"
   ]
  },
  {
   "cell_type": "markdown",
   "id": "c563ad7c-97ca-496b-ada0-8032a9981ab2",
   "metadata": {},
   "source": [
    "#### Comission Check"
   ]
  },
  {
   "cell_type": "code",
   "execution_count": 26,
   "id": "3dd4ee58-e018-488b-a710-1c7a2c541ff1",
   "metadata": {},
   "outputs": [],
   "source": [
    "ewretdat3_all['losers_comm'] = ewretdat3_all['losers'] - 0.01"
   ]
  },
  {
   "cell_type": "code",
   "execution_count": 27,
   "id": "16ea2cab-243c-4677-aa1a-90e54d842785",
   "metadata": {},
   "outputs": [
    {
     "data": {
      "text/html": [
       "<div>\n",
       "<style scoped>\n",
       "    .dataframe tbody tr th:only-of-type {\n",
       "        vertical-align: middle;\n",
       "    }\n",
       "\n",
       "    .dataframe tbody tr th {\n",
       "        vertical-align: top;\n",
       "    }\n",
       "\n",
       "    .dataframe thead th {\n",
       "        text-align: right;\n",
       "    }\n",
       "</style>\n",
       "<table border=\"1\" class=\"dataframe\">\n",
       "  <thead>\n",
       "    <tr style=\"text-align: right;\">\n",
       "      <th></th>\n",
       "      <th>index</th>\n",
       "      <th>long_short_comm</th>\n",
       "    </tr>\n",
       "  </thead>\n",
       "  <tbody>\n",
       "    <tr>\n",
       "      <th>0</th>\n",
       "      <td>count</td>\n",
       "      <td>360.000000</td>\n",
       "    </tr>\n",
       "    <tr>\n",
       "      <th>1</th>\n",
       "      <td>mean</td>\n",
       "      <td>0.012797</td>\n",
       "    </tr>\n",
       "    <tr>\n",
       "      <th>2</th>\n",
       "      <td>std</td>\n",
       "      <td>0.067988</td>\n",
       "    </tr>\n",
       "  </tbody>\n",
       "</table>\n",
       "</div>"
      ],
      "text/plain": [
       "   index  long_short_comm\n",
       "0  count       360.000000\n",
       "1   mean         0.012797\n",
       "2    std         0.067988"
      ]
     },
     "execution_count": 27,
     "metadata": {},
     "output_type": "execute_result"
    }
   ],
   "source": [
    "ewretdat3_all['long_short_comm'] = ewretdat3_all['losers_comm'] - ewretdat3_all['winners']#removing comission or 0.5% per trade (full trade cost)\n",
    "ewretdat3_all['long_short_comm'].describe()[['count','mean', 'std']].reset_index()"
   ]
  },
  {
   "cell_type": "code",
   "execution_count": 28,
   "id": "c92ee52e-855b-4bd1-a41c-5a790f0bc5ab",
   "metadata": {},
   "outputs": [
    {
     "data": {
      "text/html": [
       "<div>\n",
       "<style scoped>\n",
       "    .dataframe tbody tr th:only-of-type {\n",
       "        vertical-align: middle;\n",
       "    }\n",
       "\n",
       "    .dataframe tbody tr th {\n",
       "        vertical-align: top;\n",
       "    }\n",
       "\n",
       "    .dataframe thead th {\n",
       "        text-align: right;\n",
       "    }\n",
       "</style>\n",
       "<table border=\"1\" class=\"dataframe\">\n",
       "  <thead>\n",
       "    <tr style=\"text-align: right;\">\n",
       "      <th></th>\n",
       "      <th>0</th>\n",
       "      <th>1</th>\n",
       "    </tr>\n",
       "  </thead>\n",
       "  <tbody>\n",
       "    <tr>\n",
       "      <th>0</th>\n",
       "      <td>3.571343</td>\n",
       "      <td>0.000404</td>\n",
       "    </tr>\n",
       "  </tbody>\n",
       "</table>\n",
       "</div>"
      ],
      "text/plain": [
       "          0         1\n",
       "0  3.571343  0.000404"
      ]
     },
     "execution_count": 28,
     "metadata": {},
     "output_type": "execute_result"
    }
   ],
   "source": [
    "pd.Series(stats.ttest_1samp(ewretdat3_all['long_short_comm'],0.0)).to_frame().T"
   ]
  },
  {
   "cell_type": "markdown",
   "id": "31a06a46-74ed-4c50-9e57-bd76f38f8892",
   "metadata": {},
   "source": [
    "## Seasonality"
   ]
  },
  {
   "cell_type": "code",
   "execution_count": 90,
   "id": "caff3b29-b58c-4a90-a3b8-22390db816f3",
   "metadata": {},
   "outputs": [
    {
     "name": "stdout",
     "output_type": "stream",
     "text": [
      "Losers Jan:  3.6539446700314224\n",
      "Winners Jan:  1.0903973657066743\n",
      "Long Short Jan:  3.927263865668229\n",
      "Losers Non Jan:  4.903086401891032\n",
      "Winners Non Jan:  0.7398548048574216\n",
      "Long Short Non Jan:  5.502567697087983\n"
     ]
    }
   ],
   "source": [
    "ewretdat4 = ewretdat3_all.reset_index()\n",
    "ewretdat4['month'] = ewretdat4['date'].apply(lambda x: x.month)\n",
    "ewretdat4['non_jan'] = ewretdat4['month'].apply(lambda x: 'Jan.' if x == 1 else 'Feb.-Dec.')\n",
    "#ewretdat4['non_jan'] = ewretdat4['month'].apply(lambda x: 'Jan.' if x == 1 else ('Feb-Sept.' if (x > 1) & (x<10) else 'Oct-Dec.'))\n",
    "\n",
    "monthly_rets = ewretdat4.groupby('month')['long_short'].describe()[['count','mean', 'std']]\n",
    "monthly_rets_grouped_all = ewretdat4.groupby('non_jan')['long_short'].describe()[['mean', 'std']]\n",
    "monthly_rets_grouped_losers = ewretdat4.groupby('non_jan')['losers'].describe()[['mean', 'std']]\n",
    "monthly_rets_grouped_winners = ewretdat4.groupby('non_jan')['winners'].describe()[['mean', 'std']]\n",
    "\n",
    "jans = ewretdat4[ewretdat4.non_jan == 'Jan.']\n",
    "non_jans = ewretdat4[ewretdat4.non_jan != 'Jan.']\n",
    "\n",
    "t_losers_jan = pd.Series(stats.ttest_1samp(jans['losers'],0.0)).to_frame().T\n",
    "t_winners_jan = pd.Series(stats.ttest_1samp(jans['winners'],0.0)).to_frame().T\n",
    "t_long_short_jan = pd.Series(stats.ttest_1samp(jans['long_short'],0.0)).to_frame().T\n",
    "\n",
    "t_losers_nonjan = pd.Series(stats.ttest_1samp(non_jans['losers'],0.0)).to_frame().T\n",
    "t_winners_nonjan = pd.Series(stats.ttest_1samp(non_jans['winners'],0.0)).to_frame().T\n",
    "t_long_short_nonjan = pd.Series(stats.ttest_1samp(non_jans['long_short'],0.0)).to_frame().T\n",
    "\n",
    "print('Losers Jan: ', t_losers_jan[0][0])\n",
    "print('Winners Jan: ', t_winners_jan[0][0])\n",
    "print('Long Short Jan: ', t_long_short_jan[0][0])\n",
    "\n",
    "print('Losers Non Jan: ', t_losers_nonjan[0][0])\n",
    "print('Winners Non Jan: ', t_winners_nonjan[0][0])\n",
    "print('Long Short Non Jan: ', t_long_short_nonjan[0][0])"
   ]
  },
  {
   "cell_type": "code",
   "execution_count": 37,
   "id": "9ca15d5d-e56e-4e52-85a0-837011731a7a",
   "metadata": {},
   "outputs": [
    {
     "data": {
      "text/html": [
       "<div>\n",
       "<style scoped>\n",
       "    .dataframe tbody tr th:only-of-type {\n",
       "        vertical-align: middle;\n",
       "    }\n",
       "\n",
       "    .dataframe tbody tr th {\n",
       "        vertical-align: top;\n",
       "    }\n",
       "\n",
       "    .dataframe thead th {\n",
       "        text-align: right;\n",
       "    }\n",
       "</style>\n",
       "<table border=\"1\" class=\"dataframe\">\n",
       "  <thead>\n",
       "    <tr style=\"text-align: right;\">\n",
       "      <th></th>\n",
       "      <th>count</th>\n",
       "      <th>mean</th>\n",
       "      <th>std</th>\n",
       "    </tr>\n",
       "    <tr>\n",
       "      <th>month</th>\n",
       "      <th></th>\n",
       "      <th></th>\n",
       "      <th></th>\n",
       "    </tr>\n",
       "  </thead>\n",
       "  <tbody>\n",
       "    <tr>\n",
       "      <th>1</th>\n",
       "      <td>30.0</td>\n",
       "      <td>0.047859</td>\n",
       "      <td>0.066748</td>\n",
       "    </tr>\n",
       "    <tr>\n",
       "      <th>2</th>\n",
       "      <td>30.0</td>\n",
       "      <td>0.010366</td>\n",
       "      <td>0.093139</td>\n",
       "    </tr>\n",
       "    <tr>\n",
       "      <th>3</th>\n",
       "      <td>30.0</td>\n",
       "      <td>0.031158</td>\n",
       "      <td>0.081481</td>\n",
       "    </tr>\n",
       "    <tr>\n",
       "      <th>4</th>\n",
       "      <td>30.0</td>\n",
       "      <td>0.049776</td>\n",
       "      <td>0.082993</td>\n",
       "    </tr>\n",
       "    <tr>\n",
       "      <th>5</th>\n",
       "      <td>30.0</td>\n",
       "      <td>0.012070</td>\n",
       "      <td>0.066910</td>\n",
       "    </tr>\n",
       "    <tr>\n",
       "      <th>6</th>\n",
       "      <td>30.0</td>\n",
       "      <td>0.020173</td>\n",
       "      <td>0.062463</td>\n",
       "    </tr>\n",
       "    <tr>\n",
       "      <th>7</th>\n",
       "      <td>30.0</td>\n",
       "      <td>0.007440</td>\n",
       "      <td>0.047758</td>\n",
       "    </tr>\n",
       "    <tr>\n",
       "      <th>8</th>\n",
       "      <td>30.0</td>\n",
       "      <td>0.035680</td>\n",
       "      <td>0.055161</td>\n",
       "    </tr>\n",
       "    <tr>\n",
       "      <th>9</th>\n",
       "      <td>30.0</td>\n",
       "      <td>0.018374</td>\n",
       "      <td>0.045807</td>\n",
       "    </tr>\n",
       "    <tr>\n",
       "      <th>10</th>\n",
       "      <td>30.0</td>\n",
       "      <td>0.021219</td>\n",
       "      <td>0.052433</td>\n",
       "    </tr>\n",
       "    <tr>\n",
       "      <th>11</th>\n",
       "      <td>30.0</td>\n",
       "      <td>0.006817</td>\n",
       "      <td>0.066733</td>\n",
       "    </tr>\n",
       "    <tr>\n",
       "      <th>12</th>\n",
       "      <td>30.0</td>\n",
       "      <td>0.012631</td>\n",
       "      <td>0.070642</td>\n",
       "    </tr>\n",
       "  </tbody>\n",
       "</table>\n",
       "</div>"
      ],
      "text/plain": [
       "       count      mean       std\n",
       "month                           \n",
       "1       30.0  0.047859  0.066748\n",
       "2       30.0  0.010366  0.093139\n",
       "3       30.0  0.031158  0.081481\n",
       "4       30.0  0.049776  0.082993\n",
       "5       30.0  0.012070  0.066910\n",
       "6       30.0  0.020173  0.062463\n",
       "7       30.0  0.007440  0.047758\n",
       "8       30.0  0.035680  0.055161\n",
       "9       30.0  0.018374  0.045807\n",
       "10      30.0  0.021219  0.052433\n",
       "11      30.0  0.006817  0.066733\n",
       "12      30.0  0.012631  0.070642"
      ]
     },
     "execution_count": 37,
     "metadata": {},
     "output_type": "execute_result"
    }
   ],
   "source": [
    "monthly_rets"
   ]
  },
  {
   "cell_type": "code",
   "execution_count": 38,
   "id": "d325fe48-ce76-42cd-9406-6e62d2d76658",
   "metadata": {},
   "outputs": [
    {
     "data": {
      "text/html": [
       "<div>\n",
       "<style scoped>\n",
       "    .dataframe tbody tr th:only-of-type {\n",
       "        vertical-align: middle;\n",
       "    }\n",
       "\n",
       "    .dataframe tbody tr th {\n",
       "        vertical-align: top;\n",
       "    }\n",
       "\n",
       "    .dataframe thead th {\n",
       "        text-align: right;\n",
       "    }\n",
       "</style>\n",
       "<table border=\"1\" class=\"dataframe\">\n",
       "  <thead>\n",
       "    <tr style=\"text-align: right;\">\n",
       "      <th></th>\n",
       "      <th>mean</th>\n",
       "      <th>std</th>\n",
       "    </tr>\n",
       "    <tr>\n",
       "      <th>non_jan</th>\n",
       "      <th></th>\n",
       "      <th></th>\n",
       "    </tr>\n",
       "  </thead>\n",
       "  <tbody>\n",
       "    <tr>\n",
       "      <th>Feb.-Dec.</th>\n",
       "      <td>0.020519</td>\n",
       "      <td>0.067739</td>\n",
       "    </tr>\n",
       "    <tr>\n",
       "      <th>Jan.</th>\n",
       "      <td>0.047859</td>\n",
       "      <td>0.066748</td>\n",
       "    </tr>\n",
       "  </tbody>\n",
       "</table>\n",
       "</div>"
      ],
      "text/plain": [
       "               mean       std\n",
       "non_jan                      \n",
       "Feb.-Dec.  0.020519  0.067739\n",
       "Jan.       0.047859  0.066748"
      ]
     },
     "execution_count": 38,
     "metadata": {},
     "output_type": "execute_result"
    }
   ],
   "source": [
    "monthly_rets_grouped_all"
   ]
  },
  {
   "cell_type": "code",
   "execution_count": 39,
   "id": "1e8e62b9-9114-4c68-9461-5b72108e7efc",
   "metadata": {},
   "outputs": [
    {
     "data": {
      "text/html": [
       "<div>\n",
       "<style scoped>\n",
       "    .dataframe tbody tr th:only-of-type {\n",
       "        vertical-align: middle;\n",
       "    }\n",
       "\n",
       "    .dataframe tbody tr th {\n",
       "        vertical-align: top;\n",
       "    }\n",
       "\n",
       "    .dataframe thead th {\n",
       "        text-align: right;\n",
       "    }\n",
       "</style>\n",
       "<table border=\"1\" class=\"dataframe\">\n",
       "  <thead>\n",
       "    <tr style=\"text-align: right;\">\n",
       "      <th></th>\n",
       "      <th>mean</th>\n",
       "      <th>std</th>\n",
       "    </tr>\n",
       "    <tr>\n",
       "      <th>non_jan</th>\n",
       "      <th></th>\n",
       "      <th></th>\n",
       "    </tr>\n",
       "  </thead>\n",
       "  <tbody>\n",
       "    <tr>\n",
       "      <th>Feb.-Dec.</th>\n",
       "      <td>0.023201</td>\n",
       "      <td>0.085959</td>\n",
       "    </tr>\n",
       "    <tr>\n",
       "      <th>Jan.</th>\n",
       "      <td>0.058429</td>\n",
       "      <td>0.087585</td>\n",
       "    </tr>\n",
       "  </tbody>\n",
       "</table>\n",
       "</div>"
      ],
      "text/plain": [
       "               mean       std\n",
       "non_jan                      \n",
       "Feb.-Dec.  0.023201  0.085959\n",
       "Jan.       0.058429  0.087585"
      ]
     },
     "execution_count": 39,
     "metadata": {},
     "output_type": "execute_result"
    }
   ],
   "source": [
    "monthly_rets_grouped_losers"
   ]
  },
  {
   "cell_type": "code",
   "execution_count": 40,
   "id": "04f11708-4f22-4f19-b7fb-0a6278b78392",
   "metadata": {},
   "outputs": [
    {
     "data": {
      "text/html": [
       "<div>\n",
       "<style scoped>\n",
       "    .dataframe tbody tr th:only-of-type {\n",
       "        vertical-align: middle;\n",
       "    }\n",
       "\n",
       "    .dataframe tbody tr th {\n",
       "        vertical-align: top;\n",
       "    }\n",
       "\n",
       "    .dataframe thead th {\n",
       "        text-align: right;\n",
       "    }\n",
       "</style>\n",
       "<table border=\"1\" class=\"dataframe\">\n",
       "  <thead>\n",
       "    <tr style=\"text-align: right;\">\n",
       "      <th></th>\n",
       "      <th>mean</th>\n",
       "      <th>std</th>\n",
       "    </tr>\n",
       "    <tr>\n",
       "      <th>non_jan</th>\n",
       "      <th></th>\n",
       "      <th></th>\n",
       "    </tr>\n",
       "  </thead>\n",
       "  <tbody>\n",
       "    <tr>\n",
       "      <th>Feb.-Dec.</th>\n",
       "      <td>0.002682</td>\n",
       "      <td>0.065855</td>\n",
       "    </tr>\n",
       "    <tr>\n",
       "      <th>Jan.</th>\n",
       "      <td>0.010570</td>\n",
       "      <td>0.053094</td>\n",
       "    </tr>\n",
       "  </tbody>\n",
       "</table>\n",
       "</div>"
      ],
      "text/plain": [
       "               mean       std\n",
       "non_jan                      \n",
       "Feb.-Dec.  0.002682  0.065855\n",
       "Jan.       0.010570  0.053094"
      ]
     },
     "execution_count": 40,
     "metadata": {},
     "output_type": "execute_result"
    }
   ],
   "source": [
    "monthly_rets_grouped_winners"
   ]
  },
  {
   "cell_type": "markdown",
   "id": "7831e2de-dcb4-43d7-83c2-4f0e23bd5a16",
   "metadata": {},
   "source": [
    "## Size Effect"
   ]
  },
  {
   "cell_type": "code",
   "execution_count": 41,
   "id": "cfd1a9d3-5f19-4399-9374-93423924c9e6",
   "metadata": {},
   "outputs": [
    {
     "data": {
      "text/html": [
       "<div>\n",
       "<style scoped>\n",
       "    .dataframe tbody tr th:only-of-type {\n",
       "        vertical-align: middle;\n",
       "    }\n",
       "\n",
       "    .dataframe tbody tr th {\n",
       "        vertical-align: top;\n",
       "    }\n",
       "\n",
       "    .dataframe thead th {\n",
       "        text-align: right;\n",
       "    }\n",
       "</style>\n",
       "<table border=\"1\" class=\"dataframe\">\n",
       "  <thead>\n",
       "    <tr style=\"text-align: right;\">\n",
       "      <th></th>\n",
       "      <th>momr</th>\n",
       "      <th>mrktRnk</th>\n",
       "    </tr>\n",
       "  </thead>\n",
       "  <tbody>\n",
       "    <tr>\n",
       "      <th>0</th>\n",
       "      <td>1</td>\n",
       "      <td>3.902824</td>\n",
       "    </tr>\n",
       "    <tr>\n",
       "      <th>1</th>\n",
       "      <td>2</td>\n",
       "      <td>5.689041</td>\n",
       "    </tr>\n",
       "    <tr>\n",
       "      <th>2</th>\n",
       "      <td>3</td>\n",
       "      <td>4.523705</td>\n",
       "    </tr>\n",
       "  </tbody>\n",
       "</table>\n",
       "</div>"
      ],
      "text/plain": [
       "   momr   mrktRnk\n",
       "0     1  3.902824\n",
       "1     2  5.689041\n",
       "2     3  4.523705"
      ]
     },
     "execution_count": 41,
     "metadata": {},
     "output_type": "execute_result"
    }
   ],
   "source": [
    "_tmp_mrktcp = lspd_m[['date', 'compNam', 'mrktCp']]\n",
    "umd_filter = umd.copy(deep=True)\n",
    "umd_filter = umd_filter[['date', 'compNam', 'P8']] #only including \n",
    "_tmp_mrktcp = pd.merge(_tmp_mrktcp, umd_filter, on=['date', 'compNam'], how='inner') \n",
    "_tmp_mrktcp['mrktRnk'] = _tmp_mrktcp.groupby('date')['mrktCp'].transform(lambda x: pd.qcut(x, 10, labels=False)).tolist()\n",
    "_tmp_mrktcp['mrktRnk'] = _tmp_mrktcp['mrktRnk'] + 1 #indexed at zero so add 1 \n",
    "_tmp_mrktcp = _tmp_mrktcp[['date', 'compNam', 'mrktCp', 'mrktRnk']]\n",
    "\n",
    "#joining the two\n",
    "port_a = port_all.merge(_tmp_mrktcp, left_on=['form_date', 'compNam'], right_on=['date', 'compNam'], how='inner')\n",
    "port_a = port_a.rename(columns={'date_x' : 'date'})\n",
    "port_a = port_a[(port_a['date'] > pd.to_datetime('1993-01-01')) & (port_a['date'] < pd.to_datetime('2023-01-01'))]\n",
    "umd2 = port_a.sort_values(by=['date','momr','form_date','compNam']).drop_duplicates()\n",
    "rnks = umd2.groupby(['date','momr','form_date'])['mrktRnk'].mean().reset_index()\n",
    "rnks.groupby(['momr'])['mrktRnk'].mean().reset_index()\n"
   ]
  },
  {
   "cell_type": "code",
   "execution_count": 42,
   "id": "675eb933-10a8-42e0-adb6-e816bb97c98b",
   "metadata": {},
   "outputs": [
    {
     "data": {
      "text/html": [
       "<div>\n",
       "<style scoped>\n",
       "    .dataframe tbody tr th:only-of-type {\n",
       "        vertical-align: middle;\n",
       "    }\n",
       "\n",
       "    .dataframe tbody tr th {\n",
       "        vertical-align: top;\n",
       "    }\n",
       "\n",
       "    .dataframe thead th {\n",
       "        text-align: right;\n",
       "    }\n",
       "</style>\n",
       "<table border=\"1\" class=\"dataframe\">\n",
       "  <thead>\n",
       "    <tr style=\"text-align: right;\">\n",
       "      <th></th>\n",
       "      <th>momr</th>\n",
       "      <th>mrktCp</th>\n",
       "    </tr>\n",
       "  </thead>\n",
       "  <tbody>\n",
       "    <tr>\n",
       "      <th>0</th>\n",
       "      <td>1</td>\n",
       "      <td>856.562215</td>\n",
       "    </tr>\n",
       "    <tr>\n",
       "      <th>1</th>\n",
       "      <td>2</td>\n",
       "      <td>2762.568591</td>\n",
       "    </tr>\n",
       "    <tr>\n",
       "      <th>2</th>\n",
       "      <td>3</td>\n",
       "      <td>1137.042591</td>\n",
       "    </tr>\n",
       "  </tbody>\n",
       "</table>\n",
       "</div>"
      ],
      "text/plain": [
       "   momr       mrktCp\n",
       "0     1   856.562215\n",
       "1     2  2762.568591\n",
       "2     3  1137.042591"
      ]
     },
     "execution_count": 42,
     "metadata": {},
     "output_type": "execute_result"
    }
   ],
   "source": [
    "umd2 = port_a.sort_values(by=['date','momr','form_date','compNam']).drop_duplicates()\n",
    "rnks = umd2.groupby(['date','momr','form_date'])['mrktCp'].mean().reset_index()\n",
    "rnks.groupby(['momr'])['mrktCp'].mean().reset_index()"
   ]
  },
  {
   "cell_type": "code",
   "execution_count": 43,
   "id": "02d4a6f7-ab44-4b96-8021-f51530234617",
   "metadata": {},
   "outputs": [
    {
     "data": {
      "text/plain": [
       "1575.006110929179"
      ]
     },
     "execution_count": 43,
     "metadata": {},
     "output_type": "execute_result"
    }
   ],
   "source": [
    "lspd_m.mrktCp.mean()"
   ]
  },
  {
   "cell_type": "markdown",
   "id": "061f4fab-65be-40ee-a410-f6e1f56760af",
   "metadata": {},
   "source": [
    "## CAPM Alpha"
   ]
  },
  {
   "cell_type": "code",
   "execution_count": 45,
   "id": "a7ca305e-fefa-4786-801d-fead780fe543",
   "metadata": {},
   "outputs": [],
   "source": [
    "#loading in European Fama-French Dataset \n",
    "EurFF3 = pd.read_csv('/users/henry/downloads/Europe_5_Factors.csv')\n",
    "EurFF3['date'] = [str(i)[:4]+'-'+str(i)[-2:] for i in EurFF3['date'].tolist()]\n",
    "EurFF3['date'] = pd.to_datetime(EurFF3.date) \n",
    "EurFF3['date'] = EurFF3['date'] + MonthEnd(0)\n",
    "\n",
    "#joining the portfolio data with the Fama-French factors\n",
    "ewexcretdat = ewretdat3_all.copy(deep=True).reset_index()\n",
    "ewexcretdat['date'] = ewexcretdat['date'] + MonthEnd(0)\n",
    "ewexcretdat = ewexcretdat.merge(EurFF3, how='left', left_on='date', right_on='date')\n",
    "ewexcretdat['RF']= ewexcretdat['RF'].bfill()\n",
    "\n",
    "#computing excess returns \n",
    "ewexcretdat['excess_ret'] = ewexcretdat['long_short']  \n",
    "lseRets['date'] = lseRets['date'] + MonthEnd(0)\n",
    "ewexcretdat = ewexcretdat.merge(lseRets, how='inner', on=['date'])\n",
    "ewexcretdat['mrkt_excess'] = ewexcretdat['mrktRet'] - ewexcretdat['RF']\n",
    "ewexcretdat['excess_losers'] = ewexcretdat['losers'] - ewexcretdat['RF']\n",
    "ewexcretdat['excess_winners'] = ewexcretdat['winners'] - ewexcretdat['RF']\n",
    "\n",
    "#computing market varying beta \n",
    "ewexcretdat['d'] = ewexcretdat.mrkt_excess.apply(lambda x: 1 if x > 0 else 0) #d == 1 in a down market \n",
    "ewexcretdat['excess_d'] = ewexcretdat['mrkt_excess'] * ewexcretdat['d'] \n",
    "ewexcretdat['excess_d_minus_1'] = ewexcretdat['mrkt_excess'] * (1-ewexcretdat['d'])\n",
    "\n",
    "\n",
    "CAPM_data = ewexcretdat[['date', 'excess_ret', 'mrkt_excess', 'excess_losers', 'excess_winners', 'excess_d', 'Mkt-RF','excess_d_minus_1', 'SMB', 'HML']]"
   ]
  },
  {
   "cell_type": "code",
   "execution_count": 94,
   "id": "dacb0c56-e502-44ac-ab77-9d79b074ce59",
   "metadata": {},
   "outputs": [
    {
     "name": "stdout",
     "output_type": "stream",
     "text": [
      "                            OLS Regression Results                            \n",
      "==============================================================================\n",
      "Dep. Variable:                      y   R-squared:                       0.000\n",
      "Model:                            OLS   Adj. R-squared:                 -0.002\n",
      "Method:                 Least Squares   F-statistic:                    0.1189\n",
      "Date:                Mon, 29 Apr 2024   Prob (F-statistic):              0.730\n",
      "Time:                        16:46:39   Log-Likelihood:                 457.59\n",
      "No. Observations:                 360   AIC:                            -911.2\n",
      "Df Residuals:                     358   BIC:                            -903.4\n",
      "Df Model:                           1                                         \n",
      "Covariance Type:                  HC3                                         \n",
      "==============================================================================\n",
      "                 coef    std err          z      P>|z|      [0.025      0.975]\n",
      "------------------------------------------------------------------------------\n",
      "const          0.0214      0.005      4.171      0.000       0.011       0.032\n",
      "x1            -0.0076      0.022     -0.345      0.730      -0.051       0.036\n",
      "==============================================================================\n",
      "Omnibus:                       37.235   Durbin-Watson:                   1.688\n",
      "Prob(Omnibus):                  0.000   Jarque-Bera (JB):              206.124\n",
      "Skew:                          -0.061   Prob(JB):                     1.74e-45\n",
      "Kurtosis:                       6.705   Cond. No.                         5.59\n",
      "==============================================================================\n",
      "\n",
      "Notes:\n",
      "[1] Standard Errors are heteroscedasticity robust (HC3)\n"
     ]
    }
   ],
   "source": [
    "x = np.array(CAPM_data[['mrkt_excess']])\n",
    "x = sm.add_constant(x) \n",
    "y = np.array(CAPM_data['excess_ret'])\n",
    "CAPM_model = sm.OLS(y, x)\n",
    "results = CAPM_model.fit(cov_type='HC3')\n",
    "print(results.summary())"
   ]
  },
  {
   "cell_type": "code",
   "execution_count": 95,
   "id": "9024f9e7-780e-411d-8e8b-a3e35db86cb1",
   "metadata": {},
   "outputs": [
    {
     "name": "stdout",
     "output_type": "stream",
     "text": [
      "{'Test Statistic': 6.731137030306074, 'Test Statistic p-value': 0.034542372672448834, 'F-Statistic': 3.4011148047675848, 'F-Test p-value': 0.03441996819329876}\n"
     ]
    }
   ],
   "source": [
    "white_test = het_white(results.resid,  results.model.exog)\n",
    "\n",
    "#define labels to use for output of White's test\n",
    "labels = ['Test Statistic', 'Test Statistic p-value', 'F-Statistic', 'F-Test p-value']\n",
    "#print results of White's test\n",
    "\n",
    "print(dict(zip(labels, white_test)))"
   ]
  },
  {
   "cell_type": "code",
   "execution_count": 97,
   "id": "f6a17967-a2f5-4158-b54a-69bb7b847a4c",
   "metadata": {},
   "outputs": [
    {
     "name": "stdout",
     "output_type": "stream",
     "text": [
      "                            OLS Regression Results                            \n",
      "==============================================================================\n",
      "Dep. Variable:                      y   R-squared:                       0.926\n",
      "Model:                            OLS   Adj. R-squared:                  0.925\n",
      "Method:                 Least Squares   F-statistic:                     3192.\n",
      "Date:                Mon, 29 Apr 2024   Prob (F-statistic):          2.01e-180\n",
      "Time:                        16:47:55   Log-Likelihood:                 545.02\n",
      "No. Observations:                 360   AIC:                            -1086.\n",
      "Df Residuals:                     358   BIC:                            -1078.\n",
      "Df Model:                           1                                         \n",
      "Covariance Type:                  HC3                                         \n",
      "==============================================================================\n",
      "                 coef    std err          z      P>|z|      [0.025      0.975]\n",
      "------------------------------------------------------------------------------\n",
      "const          0.0194      0.005      4.286      0.000       0.011       0.028\n",
      "x1             1.0158      0.018     56.497      0.000       0.981       1.051\n",
      "==============================================================================\n",
      "Omnibus:                       56.481   Durbin-Watson:                   1.647\n",
      "Prob(Omnibus):                  0.000   Jarque-Bera (JB):              119.021\n",
      "Skew:                           0.825   Prob(JB):                     1.43e-26\n",
      "Kurtosis:                       5.283   Cond. No.                         5.59\n",
      "==============================================================================\n",
      "\n",
      "Notes:\n",
      "[1] Standard Errors are heteroscedasticity robust (HC3)\n"
     ]
    }
   ],
   "source": [
    "x = np.array(CAPM_data[['mrkt_excess']])\n",
    "x = sm.add_constant(x) \n",
    "y = np.array(CAPM_data['excess_losers'])\n",
    "CAPM_model = sm.OLS(y, x)\n",
    "results = CAPM_model.fit(cov_type='HC3')\n",
    "print(results.summary())"
   ]
  },
  {
   "cell_type": "code",
   "execution_count": 98,
   "id": "a5ca7261-f2d4-448f-b705-86a1f412d105",
   "metadata": {},
   "outputs": [
    {
     "name": "stdout",
     "output_type": "stream",
     "text": [
      "{'Test Statistic': 24.438786087754636, 'Test Statistic p-value': 4.933839627770679e-06, 'F-Statistic': 13.000082058962331, 'F-Test p-value': 3.5502767156534678e-06}\n"
     ]
    }
   ],
   "source": [
    "white_test = het_white(results.resid,  results.model.exog)\n",
    "\n",
    "#define labels to use for output of White's test\n",
    "labels = ['Test Statistic', 'Test Statistic p-value', 'F-Statistic', 'F-Test p-value']\n",
    "#print results of White's test\n",
    "\n",
    "print(dict(zip(labels, white_test)))"
   ]
  },
  {
   "cell_type": "code",
   "execution_count": 99,
   "id": "ec5f87bb-ffc6-49e3-a51d-9859476cf484",
   "metadata": {},
   "outputs": [
    {
     "name": "stdout",
     "output_type": "stream",
     "text": [
      "                            OLS Regression Results                            \n",
      "==============================================================================\n",
      "Dep. Variable:                      y   R-squared:                       0.960\n",
      "Model:                            OLS   Adj. R-squared:                  0.960\n",
      "Method:                 Least Squares   F-statistic:                     8239.\n",
      "Date:                Mon, 29 Apr 2024   Prob (F-statistic):          3.42e-249\n",
      "Time:                        16:48:16   Log-Likelihood:                 662.87\n",
      "No. Observations:                 360   AIC:                            -1322.\n",
      "Df Residuals:                     358   BIC:                            -1314.\n",
      "Df Model:                           1                                         \n",
      "Covariance Type:                  HC3                                         \n",
      "==============================================================================\n",
      "                 coef    std err          z      P>|z|      [0.025      0.975]\n",
      "------------------------------------------------------------------------------\n",
      "const         -0.0020      0.002     -0.881      0.378      -0.007       0.003\n",
      "x1             1.0234      0.011     90.767      0.000       1.001       1.045\n",
      "==============================================================================\n",
      "Omnibus:                      287.828   Durbin-Watson:                   1.584\n",
      "Prob(Omnibus):                  0.000   Jarque-Bera (JB):             7652.262\n",
      "Skew:                           3.084   Prob(JB):                         0.00\n",
      "Kurtosis:                      24.728   Cond. No.                         5.59\n",
      "==============================================================================\n",
      "\n",
      "Notes:\n",
      "[1] Standard Errors are heteroscedasticity robust (HC3)\n"
     ]
    }
   ],
   "source": [
    "y = np.array(CAPM_data['excess_winners'])\n",
    "CAPM_model = sm.OLS(y, x)\n",
    "results = CAPM_model.fit(cov_type='HC3')\n",
    "print(results.summary())"
   ]
  },
  {
   "cell_type": "code",
   "execution_count": 100,
   "id": "7d9b84bc-2f2a-42a3-9b08-76c2f11d140d",
   "metadata": {},
   "outputs": [
    {
     "name": "stdout",
     "output_type": "stream",
     "text": [
      "{'Test Statistic': 1.9242615629199777, 'Test Statistic p-value': 0.38207789350629034, 'F-Statistic': 0.9592403285417476, 'F-Test p-value': 0.38416923905551514}\n"
     ]
    }
   ],
   "source": [
    "white_test = het_white(results.resid,  results.model.exog)\n",
    "\n",
    "#define labels to use for output of White's test\n",
    "labels = ['Test Statistic', 'Test Statistic p-value', 'F-Statistic', 'F-Test p-value']\n",
    "#print results of White's test\n",
    "\n",
    "print(dict(zip(labels, white_test)))"
   ]
  },
  {
   "cell_type": "code",
   "execution_count": 103,
   "id": "eda32e1a-eabf-4be2-a4cf-837c0ea3965c",
   "metadata": {},
   "outputs": [
    {
     "name": "stdout",
     "output_type": "stream",
     "text": [
      "                            OLS Regression Results                            \n",
      "==============================================================================\n",
      "Dep. Variable:                      y   R-squared:                       0.059\n",
      "Model:                            OLS   Adj. R-squared:                  0.054\n",
      "Method:                 Least Squares   F-statistic:                     6.515\n",
      "Date:                Mon, 29 Apr 2024   Prob (F-statistic):            0.00166\n",
      "Time:                        16:54:18   Log-Likelihood:                 468.42\n",
      "No. Observations:                 360   AIC:                            -930.8\n",
      "Df Residuals:                     357   BIC:                            -919.2\n",
      "Df Model:                           2                                         \n",
      "Covariance Type:                  HC3                                         \n",
      "==============================================================================\n",
      "                 coef    std err          z      P>|z|      [0.025      0.975]\n",
      "------------------------------------------------------------------------------\n",
      "const          0.0069      0.005      1.301      0.193      -0.004       0.017\n",
      "x1             0.7590      0.225      3.371      0.001       0.318       1.200\n",
      "x2            -0.0539      0.022     -2.400      0.016      -0.098      -0.010\n",
      "==============================================================================\n",
      "Omnibus:                       39.180   Durbin-Watson:                   1.723\n",
      "Prob(Omnibus):                  0.000   Jarque-Bera (JB):              169.300\n",
      "Skew:                          -0.312   Prob(JB):                     1.73e-37\n",
      "Kurtosis:                       6.301   Cond. No.                         47.9\n",
      "==============================================================================\n",
      "\n",
      "Notes:\n",
      "[1] Standard Errors are heteroscedasticity robust (HC3)\n"
     ]
    }
   ],
   "source": [
    "x1 = np.array(CAPM_data[['excess_d', 'excess_d_minus_1']])\n",
    "x1 = sm.add_constant(x1)\n",
    "y1 = np.array(CAPM_data['excess_ret'])\n",
    "CAPM_model = sm.OLS(y1, x1)\n",
    "results = CAPM_model.fit(cov_type='HC3')\n",
    "print(results.summary())"
   ]
  },
  {
   "cell_type": "code",
   "execution_count": 104,
   "id": "9c29ab98-bd87-41c8-a9ae-bed74f85892a",
   "metadata": {},
   "outputs": [
    {
     "name": "stdout",
     "output_type": "stream",
     "text": [
      "{'Test Statistic': 5.086793729691479, 'Test Statistic p-value': 0.27850729349969494, 'F-Statistic': 1.2720094252178469, 'F-Test p-value': 0.28058079716505335}\n"
     ]
    }
   ],
   "source": [
    "white_test = het_white(results.resid,  results.model.exog)\n",
    "\n",
    "#define labels to use for output of White's test\n",
    "labels = ['Test Statistic', 'Test Statistic p-value', 'F-Statistic', 'F-Test p-value']\n",
    "#print results of White's test\n",
    "\n",
    "print(dict(zip(labels, white_test)))"
   ]
  },
  {
   "cell_type": "code",
   "execution_count": 106,
   "id": "8d7665ee-0193-4402-9479-61a4eafb876a",
   "metadata": {},
   "outputs": [
    {
     "name": "stdout",
     "output_type": "stream",
     "text": [
      "                            OLS Regression Results                            \n",
      "==============================================================================\n",
      "Dep. Variable:                      y   R-squared:                       0.934\n",
      "Model:                            OLS   Adj. R-squared:                  0.934\n",
      "Method:                 Least Squares   F-statistic:                     2186.\n",
      "Date:                Mon, 29 Apr 2024   Prob (F-statistic):          5.26e-201\n",
      "Time:                        16:55:07   Log-Likelihood:                 567.60\n",
      "No. Observations:                 360   AIC:                            -1129.\n",
      "Df Residuals:                     357   BIC:                            -1118.\n",
      "Df Model:                           2                                         \n",
      "Covariance Type:                  HC3                                         \n",
      "==============================================================================\n",
      "                 coef    std err          z      P>|z|      [0.025      0.975]\n",
      "------------------------------------------------------------------------------\n",
      "const          0.0032      0.004      0.755      0.450      -0.005       0.012\n",
      "x1             1.8704      0.163     11.508      0.000       1.552       2.189\n",
      "x2             0.9641      0.017     56.793      0.000       0.931       0.997\n",
      "==============================================================================\n",
      "Omnibus:                       29.127   Durbin-Watson:                   1.726\n",
      "Prob(Omnibus):                  0.000   Jarque-Bera (JB):               49.356\n",
      "Skew:                           0.513   Prob(JB):                     1.92e-11\n",
      "Kurtosis:                       4.496   Cond. No.                         47.9\n",
      "==============================================================================\n",
      "\n",
      "Notes:\n",
      "[1] Standard Errors are heteroscedasticity robust (HC3)\n"
     ]
    }
   ],
   "source": [
    "x1 = np.array(CAPM_data[['excess_d', 'excess_d_minus_1']])\n",
    "x1 = sm.add_constant(x1)\n",
    "y1 = np.array(CAPM_data['excess_losers'])\n",
    "CAPM_model = sm.OLS(y1, x1)\n",
    "results = CAPM_model.fit(cov_type='HC3')\n",
    "print(results.summary())"
   ]
  },
  {
   "cell_type": "code",
   "execution_count": 107,
   "id": "70634031-3e4b-48ff-be20-81168ebbc19a",
   "metadata": {},
   "outputs": [
    {
     "name": "stdout",
     "output_type": "stream",
     "text": [
      "{'Test Statistic': 2.8780374988203983, 'Test Statistic p-value': 0.5784385604755522, 'F-Statistic': 0.7152341632292312, 'F-Test p-value': 0.5819519253998915}\n"
     ]
    }
   ],
   "source": [
    "white_test = het_white(results.resid,  results.model.exog)\n",
    "\n",
    "#define labels to use for output of White's test\n",
    "labels = ['Test Statistic', 'Test Statistic p-value', 'F-Statistic', 'F-Test p-value']\n",
    "#print results of White's test\n",
    "\n",
    "print(dict(zip(labels, white_test)))"
   ]
  },
  {
   "cell_type": "code",
   "execution_count": 108,
   "id": "456e880e-dc9f-4922-96e0-af6bbb41452f",
   "metadata": {},
   "outputs": [
    {
     "name": "stdout",
     "output_type": "stream",
     "text": [
      "                            OLS Regression Results                            \n",
      "==============================================================================\n",
      "Dep. Variable:                      y   R-squared:                       0.961\n",
      "Model:                            OLS   Adj. R-squared:                  0.960\n",
      "Method:                 Least Squares   F-statistic:                     4121.\n",
      "Date:                Mon, 29 Apr 2024   Prob (F-statistic):          2.23e-247\n",
      "Time:                        16:56:47   Log-Likelihood:                 663.31\n",
      "No. Observations:                 360   AIC:                            -1321.\n",
      "Df Residuals:                     357   BIC:                            -1309.\n",
      "Df Model:                           2                                         \n",
      "Covariance Type:                  HC3                                         \n",
      "==============================================================================\n",
      "                 coef    std err          z      P>|z|      [0.025      0.975]\n",
      "------------------------------------------------------------------------------\n",
      "const         -0.0037      0.003     -1.316      0.188      -0.009       0.002\n",
      "x1             1.1114      0.119      9.312      0.000       0.877       1.345\n",
      "x2             1.0180      0.013     81.142      0.000       0.993       1.043\n",
      "==============================================================================\n",
      "Omnibus:                      287.679   Durbin-Watson:                   1.587\n",
      "Prob(Omnibus):                  0.000   Jarque-Bera (JB):             7754.370\n",
      "Skew:                           3.076   Prob(JB):                         0.00\n",
      "Kurtosis:                      24.889   Cond. No.                         47.9\n",
      "==============================================================================\n",
      "\n",
      "Notes:\n",
      "[1] Standard Errors are heteroscedasticity robust (HC3)\n"
     ]
    }
   ],
   "source": [
    "x1 = np.array(CAPM_data[['excess_d', 'excess_d_minus_1']])\n",
    "x1 = sm.add_constant(x1)\n",
    "y1 = np.array(CAPM_data['excess_winners'])\n",
    "CAPM_model = sm.OLS(y1, x1)\n",
    "results = CAPM_model.fit(cov_type='HC3')\n",
    "print(results.summary())"
   ]
  },
  {
   "cell_type": "code",
   "execution_count": 109,
   "id": "5b11a166-c30f-404c-bb3d-5b8ae19701d8",
   "metadata": {},
   "outputs": [
    {
     "name": "stdout",
     "output_type": "stream",
     "text": [
      "{'Test Statistic': 2.7837296378788823, 'Test Statistic p-value': 0.5946445194570532, 'F-Statistic': 0.691614648770906, 'F-Test p-value': 0.5981527167706878}\n"
     ]
    }
   ],
   "source": [
    "white_test = het_white(results.resid,  results.model.exog)\n",
    "\n",
    "#define labels to use for output of White's test\n",
    "labels = ['Test Statistic', 'Test Statistic p-value', 'F-Statistic', 'F-Test p-value']\n",
    "#print results of White's test\n",
    "\n",
    "print(dict(zip(labels, white_test)))"
   ]
  },
  {
   "cell_type": "code",
   "execution_count": 58,
   "id": "589afb1c-f273-424e-ba12-4010cab1f9cd",
   "metadata": {},
   "outputs": [],
   "source": [
    "std = pd.read_csv('/users/henry/desktop/Uni Work/Final Year/Dissertation/Data/all_share_index.csv')\n",
    "std['date'] = pd.to_datetime(std['DATE'])\n",
    "std['month'] = [i.month for i in std['date']]\n",
    "std['year'] = [i.year for i in std['date']]\n",
    "std['pct_change'] = std['FTARI'].pct_change()\n",
    "std = std.dropna(subset='pct_change')\n",
    "std = std.groupby(['year', 'month'])['pct_change'].std().reset_index()\n",
    "std = std.rename(columns={'pct_change' : 'mrktStd'})\n",
    "std['mrktStd'] = std['mrktStd'] \n",
    "std = std[['month', 'year', 'mrktStd']]\n",
    "\n",
    "\n",
    "lseRets['year'] = [i.year for i in lseRets['date'].tolist()]\n",
    "lseRets['month'] = [i.month for i in lseRets['date'].tolist()]\n",
    "rets = lseRets.copy(deep=True)\n",
    "rets = lseRets[['year', 'month', 'mrktRet']]\n",
    "\n",
    "\n",
    "monthly_rets = ewretdat3_all.copy(deep=True).reset_index()\n",
    "monthly_rets['year'] = [i.year for i in monthly_rets['date'].to_list()] \n",
    "monthly_rets['month'] = [i.month for i in monthly_rets['date'].to_list()]\n",
    "\n",
    "monthly_rets2 = monthly_rets.merge(std, how='left', on=['year', 'month'])\n",
    "monthly_rets2 = monthly_rets2.merge(rets, how='left', on=['year','month'])\n"
   ]
  },
  {
   "cell_type": "code",
   "execution_count": 59,
   "id": "96eea1ce-28b3-41c7-a5ac-4411751d0c42",
   "metadata": {},
   "outputs": [
    {
     "name": "stdout",
     "output_type": "stream",
     "text": [
      "                            OLS Regression Results                            \n",
      "==============================================================================\n",
      "Dep. Variable:                      y   R-squared:                       0.110\n",
      "Model:                            OLS   Adj. R-squared:                  0.105\n",
      "Method:                 Least Squares   F-statistic:                     13.49\n",
      "Date:                Mon, 29 Apr 2024   Prob (F-statistic):           2.24e-06\n",
      "Time:                        12:42:20   Log-Likelihood:                 478.46\n",
      "No. Observations:                 360   AIC:                            -950.9\n",
      "Df Residuals:                     357   BIC:                            -939.3\n",
      "Df Model:                           2                                         \n",
      "Covariance Type:                  HC3                                         \n",
      "==============================================================================\n",
      "                 coef    std err          z      P>|z|      [0.025      0.975]\n",
      "------------------------------------------------------------------------------\n",
      "const         -0.0002      0.009     -0.026      0.979      -0.017       0.017\n",
      "x1             1.9433      0.910      2.135      0.033       0.159       3.728\n",
      "x2             0.5343      0.108      4.947      0.000       0.323       0.746\n",
      "==============================================================================\n",
      "Omnibus:                       63.082   Durbin-Watson:                   1.609\n",
      "Prob(Omnibus):                  0.000   Jarque-Bera (JB):              338.638\n",
      "Skew:                          -0.587   Prob(JB):                     2.92e-74\n",
      "Kurtosis:                       7.604   Cond. No.                         211.\n",
      "==============================================================================\n",
      "\n",
      "Notes:\n",
      "[1] Standard Errors are heteroscedasticity robust (HC3)\n"
     ]
    }
   ],
   "source": [
    "x = np.array(monthly_rets2[['mrktStd', 'mrktRet']]) #to counter negative correlation you need to include both market std and return\n",
    "y = np.array(monthly_rets2['long_short'])\n",
    "x = sm.add_constant(x) \n",
    "vol_model = sm.OLS(y, x)\n",
    "results = vol_model.fit(cov_type='HC3')\n",
    "#results = vol_model.fit()\n",
    "print(results.summary())"
   ]
  },
  {
   "cell_type": "code",
   "execution_count": 60,
   "id": "42a1f2f2-91ed-42b3-a42b-c572fe5ed417",
   "metadata": {},
   "outputs": [
    {
     "name": "stdout",
     "output_type": "stream",
     "text": [
      "{'Test Statistic': 12.179409204689025, 'Test Statistic p-value': 0.03241046184610721, 'F-Statistic': 2.479157917937757, 'F-Test p-value': 0.03170467693404771}\n"
     ]
    }
   ],
   "source": [
    "white_test = het_white(results.resid,  results.model.exog)\n",
    "\n",
    "#define labels to use for output of White's test\n",
    "labels = ['Test Statistic', 'Test Statistic p-value', 'F-Statistic', 'F-Test p-value']\n",
    "#print results of White's test\n",
    "\n",
    "print(dict(zip(labels, white_test)))"
   ]
  },
  {
   "cell_type": "code",
   "execution_count": 61,
   "id": "80b5dcce-efe9-4d52-9ce9-85fc2ad2dc7e",
   "metadata": {},
   "outputs": [
    {
     "name": "stdout",
     "output_type": "stream",
     "text": [
      "                            OLS Regression Results                            \n",
      "==============================================================================\n",
      "Dep. Variable:                      y   R-squared:                       0.728\n",
      "Model:                            OLS   Adj. R-squared:                  0.727\n",
      "Method:                 Least Squares   F-statistic:                     432.5\n",
      "Date:                Mon, 29 Apr 2024   Prob (F-statistic):           4.02e-96\n",
      "Time:                        12:42:27   Log-Likelihood:                 605.10\n",
      "No. Observations:                 360   AIC:                            -1204.\n",
      "Df Residuals:                     357   BIC:                            -1193.\n",
      "Df Model:                           2                                         \n",
      "Covariance Type:                  HC3                                         \n",
      "==============================================================================\n",
      "                 coef    std err          z      P>|z|      [0.025      0.975]\n",
      "------------------------------------------------------------------------------\n",
      "const         -0.0123      0.006     -1.999      0.046      -0.024      -0.000\n",
      "x1             2.4264      0.622      3.900      0.000       1.207       3.646\n",
      "x2             1.6769      0.072     23.439      0.000       1.537       1.817\n",
      "==============================================================================\n",
      "Omnibus:                       17.618   Durbin-Watson:                   1.634\n",
      "Prob(Omnibus):                  0.000   Jarque-Bera (JB):               22.897\n",
      "Skew:                           0.413   Prob(JB):                     1.07e-05\n",
      "Kurtosis:                       3.919   Cond. No.                         211.\n",
      "==============================================================================\n",
      "\n",
      "Notes:\n",
      "[1] Standard Errors are heteroscedasticity robust (HC3)\n"
     ]
    }
   ],
   "source": [
    "x = np.array(monthly_rets2[['mrktStd', 'mrktRet']])\n",
    "y = np.array(monthly_rets2['losers'])\n",
    "x = sm.add_constant(x) \n",
    "vol_model = sm.OLS(y, x)\n",
    "results = vol_model.fit(cov_type='HC3')\n",
    "print(results.summary())"
   ]
  },
  {
   "cell_type": "code",
   "execution_count": 62,
   "id": "7d41bbf1-a609-4baf-9935-4e29a7a747eb",
   "metadata": {},
   "outputs": [
    {
     "name": "stdout",
     "output_type": "stream",
     "text": [
      "{'Test Statistic': 18.6507185048901, 'Test Statistic p-value': 0.0022322963087943147, 'F-Statistic': 3.8683862592666265, 'F-Test p-value': 0.0019966144005494173}\n"
     ]
    }
   ],
   "source": [
    "white_test = het_white(results.resid,  results.model.exog)\n",
    "\n",
    "#define labels to use for output of White's test\n",
    "labels = ['Test Statistic', 'Test Statistic p-value', 'F-Statistic', 'F-Test p-value']\n",
    "#print results of White's test\n",
    "\n",
    "print(dict(zip(labels, white_test)))"
   ]
  },
  {
   "cell_type": "code",
   "execution_count": 63,
   "id": "5f507b89-e13b-472f-9523-c7144d43e870",
   "metadata": {},
   "outputs": [
    {
     "name": "stdout",
     "output_type": "stream",
     "text": [
      "                            OLS Regression Results                            \n",
      "==============================================================================\n",
      "Dep. Variable:                      y   R-squared:                       0.653\n",
      "Model:                            OLS   Adj. R-squared:                  0.651\n",
      "Method:                 Least Squares   F-statistic:                     204.6\n",
      "Date:                Mon, 29 Apr 2024   Prob (F-statistic):           6.26e-60\n",
      "Time:                        12:42:28   Log-Likelihood:                 665.03\n",
      "No. Observations:                 360   AIC:                            -1324.\n",
      "Df Residuals:                     357   BIC:                            -1312.\n",
      "Df Model:                           2                                         \n",
      "Covariance Type:                  HC3                                         \n",
      "==============================================================================\n",
      "                 coef    std err          z      P>|z|      [0.025      0.975]\n",
      "------------------------------------------------------------------------------\n",
      "const         -0.0120      0.004     -2.722      0.006      -0.021      -0.003\n",
      "x1             0.4831      0.481      1.004      0.315      -0.460       1.426\n",
      "x2             1.1426      0.067     16.963      0.000       1.011       1.275\n",
      "==============================================================================\n",
      "Omnibus:                      259.392   Durbin-Watson:                   1.610\n",
      "Prob(Omnibus):                  0.000   Jarque-Bera (JB):             5836.730\n",
      "Skew:                           2.691   Prob(JB):                         0.00\n",
      "Kurtosis:                      21.977   Cond. No.                         211.\n",
      "==============================================================================\n",
      "\n",
      "Notes:\n",
      "[1] Standard Errors are heteroscedasticity robust (HC3)\n"
     ]
    }
   ],
   "source": [
    "x = np.array(monthly_rets2[['mrktStd', 'mrktRet']])\n",
    "y = np.array(monthly_rets2['winners'])\n",
    "x = sm.add_constant(x) \n",
    "vol_model = sm.OLS(y, x)\n",
    "results = vol_model.fit(cov_type='HC3')\n",
    "print(results.summary())"
   ]
  },
  {
   "cell_type": "markdown",
   "id": "3625637d-1d63-4b3e-8e95-56f9025ff9db",
   "metadata": {},
   "source": [
    "## Size Again"
   ]
  },
  {
   "cell_type": "code",
   "execution_count": 64,
   "id": "c2a18b38-b486-484e-b153-17641ea966b6",
   "metadata": {},
   "outputs": [],
   "source": [
    "monthly_rets2['month'] = [i.month for i in monthly_rets2['date']]\n",
    "\n",
    "lrgRet = umd[umd.mrktRnk == 3]\n",
    "smlRet = umd[umd.mrktRnk == 1]\n",
    "medRet = umd[umd.mrktRnk == 2]\n",
    "lrgRet = lrgRet.groupby('date')['rawRet'].mean().reset_index()\n",
    "smlRet = smlRet.groupby('date')['rawRet'].mean().reset_index()\n",
    "medRet = medRet.groupby('date')['rawRet'].mean().reset_index()\n",
    "lrgRet = lrgRet.rename(columns={'rawRet' : 'lrgRet'})\n",
    "smlRet = smlRet.rename(columns={'rawRet' : 'smlRet'})\n",
    "medRet = medRet.rename(columns={'rawRet' : 'medret'})\n",
    "monthly_rets2 = monthly_rets2.merge(lrgRet, how='left', on='date')\n",
    "monthly_rets2 = monthly_rets2.merge(smlRet, how='left', on='date')\n",
    "monthly_rets2 = monthly_rets2.merge(medRet, how='left', on='date')\n",
    "monthly_rets2['jan'] = monthly_rets2['month'].apply(lambda x: 1 if x == 1 else 0)"
   ]
  },
  {
   "cell_type": "code",
   "execution_count": 110,
   "id": "63ff8dd3-4716-4be0-839d-b0a6c393f8f9",
   "metadata": {},
   "outputs": [
    {
     "name": "stdout",
     "output_type": "stream",
     "text": [
      "                            OLS Regression Results                            \n",
      "==============================================================================\n",
      "Dep. Variable:                      y   R-squared:                       0.138\n",
      "Model:                            OLS   Adj. R-squared:                  0.133\n",
      "Method:                 Least Squares   F-statistic:                     18.25\n",
      "Date:                Mon, 29 Apr 2024   Prob (F-statistic):           2.84e-08\n",
      "Time:                        16:57:58   Log-Likelihood:                 484.14\n",
      "No. Observations:                 360   AIC:                            -962.3\n",
      "Df Residuals:                     357   BIC:                            -950.6\n",
      "Df Model:                           2                                         \n",
      "Covariance Type:                  HC3                                         \n",
      "==============================================================================\n",
      "                 coef    std err          z      P>|z|      [0.025      0.975]\n",
      "------------------------------------------------------------------------------\n",
      "const         -0.0002      0.008     -0.022      0.983      -0.016       0.015\n",
      "x1             2.2900      0.873      2.623      0.009       0.579       4.001\n",
      "x2             0.5848      0.102      5.741      0.000       0.385       0.784\n",
      "==============================================================================\n",
      "Omnibus:                       64.775   Durbin-Watson:                   1.556\n",
      "Prob(Omnibus):                  0.000   Jarque-Bera (JB):              309.639\n",
      "Skew:                          -0.650   Prob(JB):                     5.79e-68\n",
      "Kurtosis:                       7.353   Cond. No.                         213.\n",
      "==============================================================================\n",
      "\n",
      "Notes:\n",
      "[1] Standard Errors are heteroscedasticity robust (HC3)\n"
     ]
    }
   ],
   "source": [
    "x = np.array(monthly_rets2[['mrktStd','smlRet']])\n",
    "y = np.array(monthly_rets2['long_short'])\n",
    "x = sm.add_constant(x) \n",
    "vol_model = sm.OLS(y, x)\n",
    "results = vol_model.fit(cov_type='HC3')\n",
    "print(results.summary())"
   ]
  },
  {
   "cell_type": "code",
   "execution_count": null,
   "id": "c79557d9-2e73-480d-9973-7a5c9a72cfe7",
   "metadata": {},
   "outputs": [],
   "source": [
    "white_test = het_white(results.resid,  results.model.exog)\n",
    "\n",
    "#define labels to use for output of White's test\n",
    "labels = ['Test Statistic', 'Test Statistic p-value', 'F-Statistic', 'F-Test p-value']\n",
    "#print results of White's test\n",
    "\n",
    "print(dict(zip(labels, white_test)))"
   ]
  },
  {
   "cell_type": "code",
   "execution_count": 111,
   "id": "9a3517cd-1676-4b4c-a787-5abb31348489",
   "metadata": {},
   "outputs": [
    {
     "name": "stdout",
     "output_type": "stream",
     "text": [
      "                            OLS Regression Results                            \n",
      "==============================================================================\n",
      "Dep. Variable:                      y   R-squared:                       0.114\n",
      "Model:                            OLS   Adj. R-squared:                  0.106\n",
      "Method:                 Least Squares   F-statistic:                     10.88\n",
      "Date:                Mon, 29 Apr 2024   Prob (F-statistic):           7.40e-07\n",
      "Time:                        16:58:07   Log-Likelihood:                 479.26\n",
      "No. Observations:                 360   AIC:                            -950.5\n",
      "Df Residuals:                     356   BIC:                            -935.0\n",
      "Df Model:                           3                                         \n",
      "Covariance Type:                  HC3                                         \n",
      "==============================================================================\n",
      "                 coef    std err          z      P>|z|      [0.025      0.975]\n",
      "------------------------------------------------------------------------------\n",
      "const          0.0224      0.004      6.042      0.000       0.015       0.030\n",
      "x1             0.5858      0.208      2.811      0.005       0.177       0.994\n",
      "x2            -0.1085      0.332     -0.327      0.744      -0.760       0.542\n",
      "x3            -0.0091      0.303     -0.030      0.976      -0.602       0.584\n",
      "==============================================================================\n",
      "Omnibus:                       52.198   Durbin-Watson:                   1.546\n",
      "Prob(Omnibus):                  0.000   Jarque-Bera (JB):              266.408\n",
      "Skew:                          -0.452   Prob(JB):                     1.41e-58\n",
      "Kurtosis:                       7.116   Cond. No.                         90.5\n",
      "==============================================================================\n",
      "\n",
      "Notes:\n",
      "[1] Standard Errors are heteroscedasticity robust (HC3)\n"
     ]
    }
   ],
   "source": [
    "x = np.array(monthly_rets2[['smlRet', 'medret','lrgRet']])\n",
    "y = np.array(monthly_rets2['long_short'])\n",
    "x = sm.add_constant(x) \n",
    "vol_model = sm.OLS(y, x)\n",
    "results = vol_model.fit(cov_type='HC3')\n",
    "print(results.summary())"
   ]
  },
  {
   "cell_type": "code",
   "execution_count": 112,
   "id": "e9e1f092-4c6c-41fb-8295-25f2071e9366",
   "metadata": {},
   "outputs": [
    {
     "name": "stdout",
     "output_type": "stream",
     "text": [
      "{'Test Statistic': 61.60883602677794, 'Test Statistic p-value': 6.558541105608147e-10, 'F-Statistic': 8.02939050512284, 'F-Test p-value': 7.912744052002447e-11}\n"
     ]
    }
   ],
   "source": [
    "white_test = het_white(results.resid,  results.model.exog)\n",
    "\n",
    "#define labels to use for output of White's test\n",
    "labels = ['Test Statistic', 'Test Statistic p-value', 'F-Statistic', 'F-Test p-value']\n",
    "#print results of White's test\n",
    "\n",
    "print(dict(zip(labels, white_test)))"
   ]
  },
  {
   "cell_type": "code",
   "execution_count": 113,
   "id": "bef887bf-ad51-47de-b449-ac67e05d3bf0",
   "metadata": {},
   "outputs": [
    {
     "name": "stdout",
     "output_type": "stream",
     "text": [
      "                            OLS Regression Results                            \n",
      "==============================================================================\n",
      "Dep. Variable:                      y   R-squared:                       0.729\n",
      "Model:                            OLS   Adj. R-squared:                  0.727\n",
      "Method:                 Least Squares   F-statistic:                     212.5\n",
      "Date:                Mon, 29 Apr 2024   Prob (F-statistic):           5.65e-79\n",
      "Time:                        16:58:49   Log-Likelihood:                 605.69\n",
      "No. Observations:                 360   AIC:                            -1203.\n",
      "Df Residuals:                     356   BIC:                            -1188.\n",
      "Df Model:                           3                                         \n",
      "Covariance Type:                  HC3                                         \n",
      "==============================================================================\n",
      "                 coef    std err          z      P>|z|      [0.025      0.975]\n",
      "------------------------------------------------------------------------------\n",
      "const          0.0157      0.003      5.773      0.000       0.010       0.021\n",
      "x1             1.0554      0.141      7.462      0.000       0.778       1.333\n",
      "x2             0.1875      0.210      0.894      0.371      -0.224       0.599\n",
      "x3             0.3484      0.165      2.111      0.035       0.025       0.672\n",
      "==============================================================================\n",
      "Omnibus:                       31.653   Durbin-Watson:                   1.487\n",
      "Prob(Omnibus):                  0.000   Jarque-Bera (JB):               50.705\n",
      "Skew:                           0.572   Prob(JB):                     9.76e-12\n",
      "Kurtosis:                       4.439   Cond. No.                         90.5\n",
      "==============================================================================\n",
      "\n",
      "Notes:\n",
      "[1] Standard Errors are heteroscedasticity robust (HC3)\n"
     ]
    }
   ],
   "source": [
    "x = np.array(monthly_rets2[['smlRet', 'medret','lrgRet']])\n",
    "y = np.array(monthly_rets2['losers'])\n",
    "x = sm.add_constant(x) \n",
    "vol_model = sm.OLS(y, x)\n",
    "results = vol_model.fit(cov_type='HC3')\n",
    "print(results.summary())"
   ]
  },
  {
   "cell_type": "code",
   "execution_count": 114,
   "id": "bfeb94b8-d15f-4b41-a7dd-1b4b84033aa9",
   "metadata": {},
   "outputs": [
    {
     "name": "stdout",
     "output_type": "stream",
     "text": [
      "{'Test Statistic': 12.164385290098657, 'Test Statistic p-value': 0.20419992187100536, 'F-Statistic': 1.3600086015999757, 'F-Test p-value': 0.20495368900795113}\n"
     ]
    }
   ],
   "source": [
    "white_test = het_white(results.resid,  results.model.exog)\n",
    "\n",
    "#define labels to use for output of White's test\n",
    "labels = ['Test Statistic', 'Test Statistic p-value', 'F-Statistic', 'F-Test p-value']\n",
    "#print results of White's test\n",
    "\n",
    "print(dict(zip(labels, white_test)))"
   ]
  },
  {
   "cell_type": "code",
   "execution_count": 115,
   "id": "018a54e3-2a7f-43a9-83df-54e96863d5e7",
   "metadata": {},
   "outputs": [
    {
     "name": "stdout",
     "output_type": "stream",
     "text": [
      "                            OLS Regression Results                            \n",
      "==============================================================================\n",
      "Dep. Variable:                      y   R-squared:                       0.650\n",
      "Model:                            OLS   Adj. R-squared:                  0.647\n",
      "Method:                 Least Squares   F-statistic:                     128.3\n",
      "Date:                Mon, 29 Apr 2024   Prob (F-statistic):           2.39e-56\n",
      "Time:                        16:59:37   Log-Likelihood:                 663.62\n",
      "No. Observations:                 360   AIC:                            -1319.\n",
      "Df Residuals:                     356   BIC:                            -1304.\n",
      "Df Model:                           3                                         \n",
      "Covariance Type:                  HC3                                         \n",
      "==============================================================================\n",
      "                 coef    std err          z      P>|z|      [0.025      0.975]\n",
      "------------------------------------------------------------------------------\n",
      "const         -0.0068      0.002     -3.465      0.001      -0.011      -0.003\n",
      "x1             0.4696      0.113      4.147      0.000       0.248       0.691\n",
      "x2             0.2960      0.225      1.314      0.189      -0.146       0.738\n",
      "x3             0.3575      0.232      1.540      0.124      -0.098       0.813\n",
      "==============================================================================\n",
      "Omnibus:                      265.499   Durbin-Watson:                   1.601\n",
      "Prob(Omnibus):                  0.000   Jarque-Bera (JB):             6262.812\n",
      "Skew:                           2.769   Prob(JB):                         0.00\n",
      "Kurtosis:                      22.669   Cond. No.                         90.5\n",
      "==============================================================================\n",
      "\n",
      "Notes:\n",
      "[1] Standard Errors are heteroscedasticity robust (HC3)\n"
     ]
    }
   ],
   "source": [
    "x = np.array(monthly_rets2[['smlRet', 'medret','lrgRet']])\n",
    "y = np.array(monthly_rets2['winners'])\n",
    "x = sm.add_constant(x) \n",
    "vol_model = sm.OLS(y, x)\n",
    "results = vol_model.fit(cov_type='HC3')\n",
    "print(results.summary())"
   ]
  },
  {
   "cell_type": "code",
   "execution_count": 116,
   "id": "02134ade-61ab-4c4b-b5a8-fbff6b3341ef",
   "metadata": {},
   "outputs": [
    {
     "name": "stdout",
     "output_type": "stream",
     "text": [
      "{'Test Statistic': 75.32350060158056, 'Test Statistic p-value': 1.3641221377803907e-12, 'F-Statistic': 10.289740290495105, 'F-Test p-value': 4.1526002411844407e-14}\n"
     ]
    }
   ],
   "source": [
    "white_test = het_white(results.resid,  results.model.exog)\n",
    "\n",
    "#define labels to use for output of White's test\n",
    "labels = ['Test Statistic', 'Test Statistic p-value', 'F-Statistic', 'F-Test p-value']\n",
    "#print results of White's test\n",
    "\n",
    "print(dict(zip(labels, white_test)))"
   ]
  },
  {
   "cell_type": "code",
   "execution_count": 68,
   "id": "c4f72df2-4058-4361-8efd-f3bc048fc778",
   "metadata": {},
   "outputs": [
    {
     "name": "stdout",
     "output_type": "stream",
     "text": [
      "                            OLS Regression Results                            \n",
      "==============================================================================\n",
      "Dep. Variable:                      y   R-squared:                       0.060\n",
      "Model:                            OLS   Adj. R-squared:                  0.058\n",
      "Method:                 Least Squares   F-statistic:                     7.084\n",
      "Date:                Mon, 29 Apr 2024   Prob (F-statistic):            0.00813\n",
      "Time:                        12:42:49   Log-Likelihood:                 381.92\n",
      "No. Observations:                 360   AIC:                            -759.8\n",
      "Df Residuals:                     358   BIC:                            -752.1\n",
      "Df Model:                           1                                         \n",
      "Covariance Type:                  HC3                                         \n",
      "==============================================================================\n",
      "                 coef    std err          z      P>|z|      [0.025      0.975]\n",
      "------------------------------------------------------------------------------\n",
      "const          0.0632      0.012      5.161      0.000       0.039       0.087\n",
      "x1            -4.0243      1.512     -2.662      0.008      -6.988      -1.061\n",
      "==============================================================================\n",
      "Omnibus:                      118.560   Durbin-Watson:                   1.602\n",
      "Prob(Omnibus):                  0.000   Jarque-Bera (JB):              550.080\n",
      "Skew:                           1.334   Prob(JB):                    3.56e-120\n",
      "Kurtosis:                       8.436   Cond. No.                         190.\n",
      "==============================================================================\n",
      "\n",
      "Notes:\n",
      "[1] Standard Errors are heteroscedasticity robust (HC3)\n"
     ]
    }
   ],
   "source": [
    "x = np.array(monthly_rets2[['mrktStd']])\n",
    "y = np.array(monthly_rets2['losers'])\n",
    "x = sm.add_constant(x) \n",
    "vol_model = sm.OLS(y, x)\n",
    "results = vol_model.fit(cov_type='HC3')\n",
    "#results = vol_model.fit()\n",
    "print(results.summary())"
   ]
  },
  {
   "cell_type": "code",
   "execution_count": 118,
   "id": "43d592e2-7adb-4060-b62e-7b62aff9ed84",
   "metadata": {},
   "outputs": [
    {
     "name": "stdout",
     "output_type": "stream",
     "text": [
      "                            OLS Regression Results                            \n",
      "==============================================================================\n",
      "Dep. Variable:                      y   R-squared:                       0.138\n",
      "Model:                            OLS   Adj. R-squared:                  0.133\n",
      "Method:                 Least Squares   F-statistic:                     18.25\n",
      "Date:                Mon, 29 Apr 2024   Prob (F-statistic):           2.84e-08\n",
      "Time:                        17:02:59   Log-Likelihood:                 484.14\n",
      "No. Observations:                 360   AIC:                            -962.3\n",
      "Df Residuals:                     357   BIC:                            -950.6\n",
      "Df Model:                           2                                         \n",
      "Covariance Type:                  HC3                                         \n",
      "==============================================================================\n",
      "                 coef    std err          z      P>|z|      [0.025      0.975]\n",
      "------------------------------------------------------------------------------\n",
      "const         -0.0002      0.008     -0.022      0.983      -0.016       0.015\n",
      "x1             2.2900      0.873      2.623      0.009       0.579       4.001\n",
      "x2             0.5848      0.102      5.741      0.000       0.385       0.784\n",
      "==============================================================================\n",
      "Omnibus:                       64.775   Durbin-Watson:                   1.556\n",
      "Prob(Omnibus):                  0.000   Jarque-Bera (JB):              309.639\n",
      "Skew:                          -0.650   Prob(JB):                     5.79e-68\n",
      "Kurtosis:                       7.353   Cond. No.                         213.\n",
      "==============================================================================\n",
      "\n",
      "Notes:\n",
      "[1] Standard Errors are heteroscedasticity robust (HC3)\n"
     ]
    }
   ],
   "source": [
    "x = np.array(monthly_rets2[['mrktStd', 'smlRet']])\n",
    "y = np.array(monthly_rets2['long_short'])\n",
    "x = sm.add_constant(x) \n",
    "vol_model = sm.OLS(y, x)\n",
    "results = vol_model.fit(cov_type='HC3')\n",
    "print(results.summary())"
   ]
  },
  {
   "cell_type": "code",
   "execution_count": 119,
   "id": "79a30555-e812-4022-93e2-47974748865e",
   "metadata": {},
   "outputs": [
    {
     "name": "stdout",
     "output_type": "stream",
     "text": [
      "{'Test Statistic': 10.219599864451713, 'Test Statistic p-value': 0.06924679324942007, 'F-Statistic': 2.068576941769144, 'F-Test p-value': 0.06877374370808499}\n"
     ]
    }
   ],
   "source": [
    "white_test = het_white(results.resid,  results.model.exog)\n",
    "\n",
    "#define labels to use for output of White's test\n",
    "labels = ['Test Statistic', 'Test Statistic p-value', 'F-Statistic', 'F-Test p-value']\n",
    "#print results of White's test\n",
    "\n",
    "print(dict(zip(labels, white_test)))"
   ]
  },
  {
   "cell_type": "code",
   "execution_count": 122,
   "id": "60245dd7-a166-4184-8fd5-1fd289f6a3de",
   "metadata": {},
   "outputs": [
    {
     "name": "stdout",
     "output_type": "stream",
     "text": [
      "                            OLS Regression Results                            \n",
      "==============================================================================\n",
      "Dep. Variable:                      y   R-squared:                       0.727\n",
      "Model:                            OLS   Adj. R-squared:                  0.726\n",
      "Method:                 Least Squares   F-statistic:                     552.0\n",
      "Date:                Mon, 29 Apr 2024   Prob (F-statistic):          5.75e-110\n",
      "Time:                        17:04:34   Log-Likelihood:                 604.48\n",
      "No. Observations:                 360   AIC:                            -1203.\n",
      "Df Residuals:                     357   BIC:                            -1191.\n",
      "Df Model:                           2                                         \n",
      "Covariance Type:                  HC3                                         \n",
      "==============================================================================\n",
      "                 coef    std err          z      P>|z|      [0.025      0.975]\n",
      "------------------------------------------------------------------------------\n",
      "const         -0.0041      0.005     -0.759      0.448      -0.015       0.006\n",
      "x1             2.7092      0.590      4.589      0.000       1.552       3.866\n",
      "x2             1.6392      0.055     29.654      0.000       1.531       1.748\n",
      "==============================================================================\n",
      "Omnibus:                        9.592   Durbin-Watson:                   1.580\n",
      "Prob(Omnibus):                  0.008   Jarque-Bera (JB):               11.454\n",
      "Skew:                           0.272   Prob(JB):                      0.00326\n",
      "Kurtosis:                       3.684   Cond. No.                         213.\n",
      "==============================================================================\n",
      "\n",
      "Notes:\n",
      "[1] Standard Errors are heteroscedasticity robust (HC3)\n"
     ]
    }
   ],
   "source": [
    "x = np.array(monthly_rets2[['mrktStd', 'smlRet']])\n",
    "y = np.array(monthly_rets2['losers'])\n",
    "x = sm.add_constant(x) \n",
    "vol_model = sm.OLS(y, x)\n",
    "results = vol_model.fit(cov_type='HC3')\n",
    "print(results.summary())"
   ]
  },
  {
   "cell_type": "code",
   "execution_count": 123,
   "id": "0462f129-44f3-4350-b1dd-a922e71890a7",
   "metadata": {},
   "outputs": [
    {
     "name": "stdout",
     "output_type": "stream",
     "text": [
      "{'Test Statistic': 31.868839316270424, 'Test Statistic p-value': 6.30733785616773e-06, 'F-Statistic': 6.876255881612846, 'F-Test p-value': 3.850074225342466e-06}\n"
     ]
    }
   ],
   "source": [
    "white_test = het_white(results.resid,  results.model.exog)\n",
    "\n",
    "#define labels to use for output of White's test\n",
    "labels = ['Test Statistic', 'Test Statistic p-value', 'F-Statistic', 'F-Test p-value']\n",
    "#print results of White's test\n",
    "\n",
    "print(dict(zip(labels, white_test)))"
   ]
  },
  {
   "cell_type": "code",
   "execution_count": 125,
   "id": "024df9f4-e32b-43c2-8fca-eb6725de7679",
   "metadata": {},
   "outputs": [
    {
     "name": "stdout",
     "output_type": "stream",
     "text": [
      "                            OLS Regression Results                            \n",
      "==============================================================================\n",
      "Dep. Variable:                      y   R-squared:                       0.592\n",
      "Model:                            OLS   Adj. R-squared:                  0.590\n",
      "Method:                 Least Squares   F-statistic:                     155.1\n",
      "Date:                Mon, 29 Apr 2024   Prob (F-statistic):           3.28e-49\n",
      "Time:                        17:05:29   Log-Likelihood:                 636.00\n",
      "No. Observations:                 360   AIC:                            -1266.\n",
      "Df Residuals:                     357   BIC:                            -1254.\n",
      "Df Model:                           2                                         \n",
      "Covariance Type:                  HC3                                         \n",
      "==============================================================================\n",
      "                 coef    std err          z      P>|z|      [0.025      0.975]\n",
      "------------------------------------------------------------------------------\n",
      "const         -0.0039      0.006     -0.649      0.516      -0.016       0.008\n",
      "x1             0.4191      0.677      0.619      0.536      -0.908       1.746\n",
      "x2             1.0545      0.089     11.908      0.000       0.881       1.228\n",
      "==============================================================================\n",
      "Omnibus:                      265.198   Durbin-Watson:                   1.727\n",
      "Prob(Omnibus):                  0.000   Jarque-Bera (JB):             6868.627\n",
      "Skew:                           2.725   Prob(JB):                         0.00\n",
      "Kurtosis:                      23.693   Cond. No.                         213.\n",
      "==============================================================================\n",
      "\n",
      "Notes:\n",
      "[1] Standard Errors are heteroscedasticity robust (HC3)\n"
     ]
    }
   ],
   "source": [
    "x = np.array(monthly_rets2[['mrktStd', 'smlRet']])\n",
    "y = np.array(monthly_rets2['winners'])\n",
    "x = sm.add_constant(x) \n",
    "vol_model = sm.OLS(y, x)\n",
    "results = vol_model.fit(cov_type='HC3')\n",
    "print(results.summary())"
   ]
  },
  {
   "cell_type": "code",
   "execution_count": 126,
   "id": "08847620-4db0-4674-bf1c-983da803e46d",
   "metadata": {},
   "outputs": [
    {
     "name": "stdout",
     "output_type": "stream",
     "text": [
      "{'Test Statistic': 7.204784088680296, 'Test Statistic p-value': 0.20585031841208906, 'F-Statistic': 1.4458776379971845, 'F-Test p-value': 0.20711556877447174}\n"
     ]
    }
   ],
   "source": [
    "white_test = het_white(results.resid,  results.model.exog)\n",
    "\n",
    "#define labels to use for output of White's test\n",
    "labels = ['Test Statistic', 'Test Statistic p-value', 'F-Statistic', 'F-Test p-value']\n",
    "#print results of White's test\n",
    "\n",
    "print(dict(zip(labels, white_test)))"
   ]
  },
  {
   "cell_type": "markdown",
   "id": "47697f94-1eee-436e-8dcc-2673f1d72c04",
   "metadata": {},
   "source": [
    "## Rolling Periods"
   ]
  },
  {
   "cell_type": "code",
   "execution_count": 73,
   "id": "dd2f5215-021a-4a4c-abfc-345d879c2eeb",
   "metadata": {},
   "outputs": [
    {
     "name": "stderr",
     "output_type": "stream",
     "text": [
      "/var/folders/cb/97kd5mrx7wzfcc3ksmz69k8m0000gn/T/ipykernel_42181/352120907.py:3: DeprecationWarning: DataFrameGroupBy.apply operated on the grouping columns. This behavior is deprecated, and in a future version of pandas the grouping columns will be excluded from the operation. Either pass `include_groups=False` to exclude the groupings or explicitly select the grouping columns after groupby to silence this warning.\n",
      "  umd = umd.groupby('date').apply(assign_momr)\n",
      "/var/folders/cb/97kd5mrx7wzfcc3ksmz69k8m0000gn/T/ipykernel_42181/352120907.py:14: SettingWithCopyWarning: \n",
      "A value is trying to be set on a copy of a slice from a DataFrame.\n",
      "Try using .loc[row_indexer,col_indexer] = value instead\n",
      "\n",
      "See the caveats in the documentation: https://pandas.pydata.org/pandas-docs/stable/user_guide/indexing.html#returning-a-view-versus-a-copy\n",
      "  _tmp_ret['ret'] = np.exp(_tmp_ret.logret)-1 #unlogging the return\n",
      "100%|███████████████████████████████████████████| 43/43 [00:36<00:00,  1.16it/s]\n"
     ]
    }
   ],
   "source": [
    "top50Rets_93_to_02, mom_output_93_to_02, ewretdat2, port, ewretdat, ewretdat3 = top_bottom_50(umd, lspd_m, '1994-01-01', '2004-01-01')"
   ]
  },
  {
   "cell_type": "code",
   "execution_count": 109,
   "id": "63908487-d839-4cb0-955c-1c74e15b5938",
   "metadata": {},
   "outputs": [
    {
     "data": {
      "text/html": [
       "<div>\n",
       "<style scoped>\n",
       "    .dataframe tbody tr th:only-of-type {\n",
       "        vertical-align: middle;\n",
       "    }\n",
       "\n",
       "    .dataframe tbody tr th {\n",
       "        vertical-align: top;\n",
       "    }\n",
       "\n",
       "    .dataframe thead th {\n",
       "        text-align: right;\n",
       "    }\n",
       "</style>\n",
       "<table border=\"1\" class=\"dataframe\">\n",
       "  <thead>\n",
       "    <tr style=\"text-align: right;\">\n",
       "      <th></th>\n",
       "      <th>momr</th>\n",
       "      <th>mean</th>\n",
       "      <th>t-stat</th>\n",
       "      <th>p-value</th>\n",
       "    </tr>\n",
       "  </thead>\n",
       "  <tbody>\n",
       "    <tr>\n",
       "      <th>0</th>\n",
       "      <td>winners</td>\n",
       "      <td>-0.000247</td>\n",
       "      <td>-0.034044</td>\n",
       "      <td>9.728994e-01</td>\n",
       "    </tr>\n",
       "    <tr>\n",
       "      <th>1</th>\n",
       "      <td>losers</td>\n",
       "      <td>0.041688</td>\n",
       "      <td>5.098876</td>\n",
       "      <td>1.303903e-06</td>\n",
       "    </tr>\n",
       "    <tr>\n",
       "      <th>2</th>\n",
       "      <td>long_short</td>\n",
       "      <td>0.041935</td>\n",
       "      <td>5.691216</td>\n",
       "      <td>9.226690e-08</td>\n",
       "    </tr>\n",
       "  </tbody>\n",
       "</table>\n",
       "</div>"
      ],
      "text/plain": [
       "         momr      mean    t-stat       p-value\n",
       "0     winners -0.000247 -0.034044  9.728994e-01\n",
       "1      losers  0.041688  5.098876  1.303903e-06\n",
       "2  long_short  0.041935  5.691216  9.226690e-08"
      ]
     },
     "execution_count": 109,
     "metadata": {},
     "output_type": "execute_result"
    }
   ],
   "source": [
    "mom_output_93_to_02"
   ]
  },
  {
   "cell_type": "code",
   "execution_count": 145,
   "id": "ff80ca30-b280-410a-aa00-3e4fb2da7c60",
   "metadata": {},
   "outputs": [
    {
     "name": "stderr",
     "output_type": "stream",
     "text": [
      "/var/folders/cb/97kd5mrx7wzfcc3ksmz69k8m0000gn/T/ipykernel_25261/352120907.py:3: DeprecationWarning: DataFrameGroupBy.apply operated on the grouping columns. This behavior is deprecated, and in a future version of pandas the grouping columns will be excluded from the operation. Either pass `include_groups=False` to exclude the groupings or explicitly select the grouping columns after groupby to silence this warning.\n",
      "  umd = umd.groupby('date').apply(assign_momr)\n",
      "/var/folders/cb/97kd5mrx7wzfcc3ksmz69k8m0000gn/T/ipykernel_25261/352120907.py:14: SettingWithCopyWarning: \n",
      "A value is trying to be set on a copy of a slice from a DataFrame.\n",
      "Try using .loc[row_indexer,col_indexer] = value instead\n",
      "\n",
      "See the caveats in the documentation: https://pandas.pydata.org/pandas-docs/stable/user_guide/indexing.html#returning-a-view-versus-a-copy\n",
      "  _tmp_ret['ret'] = np.exp(_tmp_ret.logret)-1 #unlogging the return\n",
      "100%|███████████████████████████████████████████| 43/43 [00:35<00:00,  1.20it/s]\n"
     ]
    }
   ],
   "source": [
    "top50Rets_02_to_13, mom_output_02_to_13, ewretdat2, port, ewretdat, ewretdat3 = top_bottom_50(umd, lspd_m, '2004-01-01', '2014-01-01')"
   ]
  },
  {
   "cell_type": "code",
   "execution_count": 146,
   "id": "f0ae9dbc-976c-4f86-9bf9-e33406cc5bfd",
   "metadata": {},
   "outputs": [
    {
     "data": {
      "text/html": [
       "<div>\n",
       "<style scoped>\n",
       "    .dataframe tbody tr th:only-of-type {\n",
       "        vertical-align: middle;\n",
       "    }\n",
       "\n",
       "    .dataframe tbody tr th {\n",
       "        vertical-align: top;\n",
       "    }\n",
       "\n",
       "    .dataframe thead th {\n",
       "        text-align: right;\n",
       "    }\n",
       "</style>\n",
       "<table border=\"1\" class=\"dataframe\">\n",
       "  <thead>\n",
       "    <tr style=\"text-align: right;\">\n",
       "      <th></th>\n",
       "      <th>momr</th>\n",
       "      <th>mean</th>\n",
       "      <th>t-stat</th>\n",
       "      <th>p-value</th>\n",
       "    </tr>\n",
       "  </thead>\n",
       "  <tbody>\n",
       "    <tr>\n",
       "      <th>0</th>\n",
       "      <td>winners</td>\n",
       "      <td>0.007082</td>\n",
       "      <td>1.287556</td>\n",
       "      <td>0.200399</td>\n",
       "    </tr>\n",
       "    <tr>\n",
       "      <th>1</th>\n",
       "      <td>losers</td>\n",
       "      <td>0.018753</td>\n",
       "      <td>2.370849</td>\n",
       "      <td>0.019354</td>\n",
       "    </tr>\n",
       "    <tr>\n",
       "      <th>2</th>\n",
       "      <td>long_short</td>\n",
       "      <td>0.011671</td>\n",
       "      <td>2.241600</td>\n",
       "      <td>0.026841</td>\n",
       "    </tr>\n",
       "  </tbody>\n",
       "</table>\n",
       "</div>"
      ],
      "text/plain": [
       "         momr      mean    t-stat   p-value\n",
       "0     winners  0.007082  1.287556  0.200399\n",
       "1      losers  0.018753  2.370849  0.019354\n",
       "2  long_short  0.011671  2.241600  0.026841"
      ]
     },
     "execution_count": 146,
     "metadata": {},
     "output_type": "execute_result"
    }
   ],
   "source": [
    "mom_output_02_to_13"
   ]
  },
  {
   "cell_type": "code",
   "execution_count": 143,
   "id": "51777772-371f-4462-aad0-394a4e660415",
   "metadata": {
    "tags": []
   },
   "outputs": [
    {
     "ename": "KeyboardInterrupt",
     "evalue": "",
     "output_type": "error",
     "traceback": [
      "\u001b[0;31m---------------------------------------------------------------------------\u001b[0m",
      "\u001b[0;31mKeyboardInterrupt\u001b[0m                         Traceback (most recent call last)",
      "\u001b[0;32m/var/folders/cb/97kd5mrx7wzfcc3ksmz69k8m0000gn/T/ipykernel_25261/255501943.py\u001b[0m in \u001b[0;36m?\u001b[0;34m()\u001b[0m\n\u001b[0;32m----> 1\u001b[0;31m \u001b[0mtop50Rets_12_to_22\u001b[0m\u001b[0;34m,\u001b[0m \u001b[0mmom_output_12_to_22\u001b[0m\u001b[0;34m,\u001b[0m \u001b[0mewretdat2\u001b[0m\u001b[0;34m,\u001b[0m \u001b[0mport\u001b[0m\u001b[0;34m,\u001b[0m \u001b[0mewretdat\u001b[0m\u001b[0;34m,\u001b[0m \u001b[0mewretdat3\u001b[0m \u001b[0;34m=\u001b[0m \u001b[0mtop_bottom_50\u001b[0m\u001b[0;34m(\u001b[0m\u001b[0mumd\u001b[0m\u001b[0;34m,\u001b[0m \u001b[0mlspd_m\u001b[0m\u001b[0;34m,\u001b[0m \u001b[0;34m'2014-01-01'\u001b[0m\u001b[0;34m,\u001b[0m \u001b[0;34m'2024-01-01'\u001b[0m\u001b[0;34m)\u001b[0m\u001b[0;34m\u001b[0m\u001b[0;34m\u001b[0m\u001b[0m\n\u001b[0m",
      "\u001b[0;32m/var/folders/cb/97kd5mrx7wzfcc3ksmz69k8m0000gn/T/ipykernel_25261/352120907.py\u001b[0m in \u001b[0;36m?\u001b[0;34m(umd, data, filter_1, filter_2, K)\u001b[0m\n\u001b[1;32m      1\u001b[0m \u001b[0;32mdef\u001b[0m \u001b[0mtop_bottom_50\u001b[0m\u001b[0;34m(\u001b[0m\u001b[0mumd\u001b[0m\u001b[0;34m,\u001b[0m \u001b[0mdata\u001b[0m\u001b[0;34m,\u001b[0m \u001b[0mfilter_1\u001b[0m\u001b[0;34m,\u001b[0m \u001b[0mfilter_2\u001b[0m\u001b[0;34m,\u001b[0m \u001b[0mK\u001b[0m\u001b[0;34m=\u001b[0m\u001b[0;36m1\u001b[0m\u001b[0;34m)\u001b[0m\u001b[0;34m:\u001b[0m\u001b[0;34m\u001b[0m\u001b[0;34m\u001b[0m\u001b[0m\n\u001b[1;32m      2\u001b[0m \u001b[0;34m\u001b[0m\u001b[0m\n\u001b[0;32m----> 3\u001b[0;31m     \u001b[0mumd\u001b[0m \u001b[0;34m=\u001b[0m \u001b[0mumd\u001b[0m\u001b[0;34m.\u001b[0m\u001b[0mgroupby\u001b[0m\u001b[0;34m(\u001b[0m\u001b[0;34m'date'\u001b[0m\u001b[0;34m)\u001b[0m\u001b[0;34m.\u001b[0m\u001b[0mapply\u001b[0m\u001b[0;34m(\u001b[0m\u001b[0massign_momr\u001b[0m\u001b[0;34m)\u001b[0m\u001b[0;34m\u001b[0m\u001b[0;34m\u001b[0m\u001b[0m\n\u001b[0m\u001b[1;32m      4\u001b[0m     \u001b[0mumd\u001b[0m\u001b[0;34m.\u001b[0m\u001b[0mreset_index\u001b[0m\u001b[0;34m(\u001b[0m\u001b[0minplace\u001b[0m\u001b[0;34m=\u001b[0m\u001b[0;32mTrue\u001b[0m\u001b[0;34m,\u001b[0m \u001b[0mdrop\u001b[0m\u001b[0;34m=\u001b[0m\u001b[0;32mTrue\u001b[0m\u001b[0;34m)\u001b[0m\u001b[0;34m\u001b[0m\u001b[0;34m\u001b[0m\u001b[0m\n\u001b[1;32m      5\u001b[0m     \u001b[0mumd\u001b[0m\u001b[0;34m[\u001b[0m\u001b[0;34m'momr'\u001b[0m\u001b[0;34m]\u001b[0m\u001b[0;34m=\u001b[0m\u001b[0mumd\u001b[0m\u001b[0;34m.\u001b[0m\u001b[0mmomr\u001b[0m\u001b[0;34m.\u001b[0m\u001b[0mastype\u001b[0m\u001b[0;34m(\u001b[0m\u001b[0mint\u001b[0m\u001b[0;34m)\u001b[0m\u001b[0;34m\u001b[0m\u001b[0;34m\u001b[0m\u001b[0m\n\u001b[1;32m      6\u001b[0m     \u001b[0mumd\u001b[0m\u001b[0;34m[\u001b[0m\u001b[0;34m'momr'\u001b[0m\u001b[0;34m]\u001b[0m \u001b[0;34m=\u001b[0m \u001b[0mumd\u001b[0m\u001b[0;34m[\u001b[0m\u001b[0;34m'momr'\u001b[0m\u001b[0;34m]\u001b[0m\u001b[0;34m+\u001b[0m\u001b[0;36m1\u001b[0m \u001b[0;31m#indexed at 0 so increase by 1\u001b[0m\u001b[0;34m\u001b[0m\u001b[0;34m\u001b[0m\u001b[0m\n",
      "\u001b[0;32m~/opt/anaconda3/lib/python3.9/site-packages/pandas/core/groupby/groupby.py\u001b[0m in \u001b[0;36m?\u001b[0;34m(self, func, include_groups, *args, **kwargs)\u001b[0m\n\u001b[1;32m   1842\u001b[0m                 \u001b[0;31m# except if the udf is trying an operation that\u001b[0m\u001b[0;34m\u001b[0m\u001b[0;34m\u001b[0m\u001b[0m\n\u001b[1;32m   1843\u001b[0m                 \u001b[0;31m# fails on *some* columns, e.g. a numeric operation\u001b[0m\u001b[0;34m\u001b[0m\u001b[0;34m\u001b[0m\u001b[0m\n\u001b[1;32m   1844\u001b[0m                 \u001b[0;31m# on a string grouper column\u001b[0m\u001b[0;34m\u001b[0m\u001b[0;34m\u001b[0m\u001b[0m\n\u001b[1;32m   1845\u001b[0m \u001b[0;34m\u001b[0m\u001b[0m\n\u001b[0;32m-> 1846\u001b[0;31m                 \u001b[0;32mreturn\u001b[0m \u001b[0mself\u001b[0m\u001b[0;34m.\u001b[0m\u001b[0m_python_apply_general\u001b[0m\u001b[0;34m(\u001b[0m\u001b[0mf\u001b[0m\u001b[0;34m,\u001b[0m \u001b[0mself\u001b[0m\u001b[0;34m.\u001b[0m\u001b[0m_obj_with_exclusions\u001b[0m\u001b[0;34m)\u001b[0m\u001b[0;34m\u001b[0m\u001b[0;34m\u001b[0m\u001b[0m\n\u001b[0m\u001b[1;32m   1847\u001b[0m \u001b[0;34m\u001b[0m\u001b[0m\n\u001b[1;32m   1848\u001b[0m         \u001b[0;32mreturn\u001b[0m \u001b[0mresult\u001b[0m\u001b[0;34m\u001b[0m\u001b[0;34m\u001b[0m\u001b[0m\n",
      "\u001b[0;32m~/opt/anaconda3/lib/python3.9/site-packages/pandas/core/groupby/groupby.py\u001b[0m in \u001b[0;36m?\u001b[0;34m(self, f, data, not_indexed_same, is_transform, is_agg)\u001b[0m\n\u001b[1;32m   1881\u001b[0m         \u001b[0;34m-\u001b[0m\u001b[0;34m-\u001b[0m\u001b[0;34m-\u001b[0m\u001b[0;34m-\u001b[0m\u001b[0;34m-\u001b[0m\u001b[0;34m-\u001b[0m\u001b[0;34m-\u001b[0m\u001b[0;34m\u001b[0m\u001b[0;34m\u001b[0m\u001b[0m\n\u001b[1;32m   1882\u001b[0m         \u001b[0mSeries\u001b[0m \u001b[0;32mor\u001b[0m \u001b[0mDataFrame\u001b[0m\u001b[0;34m\u001b[0m\u001b[0;34m\u001b[0m\u001b[0m\n\u001b[1;32m   1883\u001b[0m             \u001b[0mdata\u001b[0m \u001b[0mafter\u001b[0m \u001b[0mapplying\u001b[0m \u001b[0mf\u001b[0m\u001b[0;34m\u001b[0m\u001b[0;34m\u001b[0m\u001b[0m\n\u001b[1;32m   1884\u001b[0m         \"\"\"\n\u001b[0;32m-> 1885\u001b[0;31m         \u001b[0mvalues\u001b[0m\u001b[0;34m,\u001b[0m \u001b[0mmutated\u001b[0m \u001b[0;34m=\u001b[0m \u001b[0mself\u001b[0m\u001b[0;34m.\u001b[0m\u001b[0m_grouper\u001b[0m\u001b[0;34m.\u001b[0m\u001b[0mapply_groupwise\u001b[0m\u001b[0;34m(\u001b[0m\u001b[0mf\u001b[0m\u001b[0;34m,\u001b[0m \u001b[0mdata\u001b[0m\u001b[0;34m,\u001b[0m \u001b[0mself\u001b[0m\u001b[0;34m.\u001b[0m\u001b[0maxis\u001b[0m\u001b[0;34m)\u001b[0m\u001b[0;34m\u001b[0m\u001b[0;34m\u001b[0m\u001b[0m\n\u001b[0m\u001b[1;32m   1886\u001b[0m         \u001b[0;32mif\u001b[0m \u001b[0mnot_indexed_same\u001b[0m \u001b[0;32mis\u001b[0m \u001b[0;32mNone\u001b[0m\u001b[0;34m:\u001b[0m\u001b[0;34m\u001b[0m\u001b[0;34m\u001b[0m\u001b[0m\n\u001b[1;32m   1887\u001b[0m             \u001b[0mnot_indexed_same\u001b[0m \u001b[0;34m=\u001b[0m \u001b[0mmutated\u001b[0m\u001b[0;34m\u001b[0m\u001b[0;34m\u001b[0m\u001b[0m\n\u001b[1;32m   1888\u001b[0m \u001b[0;34m\u001b[0m\u001b[0m\n",
      "\u001b[0;32m~/opt/anaconda3/lib/python3.9/site-packages/pandas/core/groupby/ops.py\u001b[0m in \u001b[0;36m?\u001b[0;34m(self, f, data, axis)\u001b[0m\n\u001b[1;32m    915\u001b[0m             \u001b[0mobject\u001b[0m\u001b[0;34m.\u001b[0m\u001b[0m__setattr__\u001b[0m\u001b[0;34m(\u001b[0m\u001b[0mgroup\u001b[0m\u001b[0;34m,\u001b[0m \u001b[0;34m\"name\"\u001b[0m\u001b[0;34m,\u001b[0m \u001b[0mkey\u001b[0m\u001b[0;34m)\u001b[0m\u001b[0;34m\u001b[0m\u001b[0;34m\u001b[0m\u001b[0m\n\u001b[1;32m    916\u001b[0m \u001b[0;34m\u001b[0m\u001b[0m\n\u001b[1;32m    917\u001b[0m             \u001b[0;31m# group might be modified\u001b[0m\u001b[0;34m\u001b[0m\u001b[0;34m\u001b[0m\u001b[0m\n\u001b[1;32m    918\u001b[0m             \u001b[0mgroup_axes\u001b[0m \u001b[0;34m=\u001b[0m \u001b[0mgroup\u001b[0m\u001b[0;34m.\u001b[0m\u001b[0maxes\u001b[0m\u001b[0;34m\u001b[0m\u001b[0;34m\u001b[0m\u001b[0m\n\u001b[0;32m--> 919\u001b[0;31m             \u001b[0mres\u001b[0m \u001b[0;34m=\u001b[0m \u001b[0mf\u001b[0m\u001b[0;34m(\u001b[0m\u001b[0mgroup\u001b[0m\u001b[0;34m)\u001b[0m\u001b[0;34m\u001b[0m\u001b[0;34m\u001b[0m\u001b[0m\n\u001b[0m\u001b[1;32m    920\u001b[0m             \u001b[0;32mif\u001b[0m \u001b[0;32mnot\u001b[0m \u001b[0mmutated\u001b[0m \u001b[0;32mand\u001b[0m \u001b[0;32mnot\u001b[0m \u001b[0m_is_indexed_like\u001b[0m\u001b[0;34m(\u001b[0m\u001b[0mres\u001b[0m\u001b[0;34m,\u001b[0m \u001b[0mgroup_axes\u001b[0m\u001b[0;34m,\u001b[0m \u001b[0maxis\u001b[0m\u001b[0;34m)\u001b[0m\u001b[0;34m:\u001b[0m\u001b[0;34m\u001b[0m\u001b[0;34m\u001b[0m\u001b[0m\n\u001b[1;32m    921\u001b[0m                 \u001b[0mmutated\u001b[0m \u001b[0;34m=\u001b[0m \u001b[0;32mTrue\u001b[0m\u001b[0;34m\u001b[0m\u001b[0;34m\u001b[0m\u001b[0m\n\u001b[1;32m    922\u001b[0m             \u001b[0mresult_values\u001b[0m\u001b[0;34m.\u001b[0m\u001b[0mappend\u001b[0m\u001b[0;34m(\u001b[0m\u001b[0mres\u001b[0m\u001b[0;34m)\u001b[0m\u001b[0;34m\u001b[0m\u001b[0;34m\u001b[0m\u001b[0m\n",
      "\u001b[0;32m/var/folders/cb/97kd5mrx7wzfcc3ksmz69k8m0000gn/T/ipykernel_25261/352120907.py\u001b[0m in \u001b[0;36m?\u001b[0;34m(group)\u001b[0m\n\u001b[1;32m    112\u001b[0m         \u001b[0;32melse\u001b[0m\u001b[0;34m:\u001b[0m\u001b[0;34m\u001b[0m\u001b[0;34m\u001b[0m\u001b[0m\n\u001b[1;32m    113\u001b[0m             \u001b[0;32mreturn\u001b[0m \u001b[0;36m1\u001b[0m\u001b[0;34m\u001b[0m\u001b[0;34m\u001b[0m\u001b[0m\n\u001b[1;32m    114\u001b[0m \u001b[0;34m\u001b[0m\u001b[0m\n\u001b[1;32m    115\u001b[0m     \u001b[0;31m# Apply the function to assign 'momr'\u001b[0m\u001b[0;34m\u001b[0m\u001b[0;34m\u001b[0m\u001b[0m\n\u001b[0;32m--> 116\u001b[0;31m     \u001b[0mgroup\u001b[0m\u001b[0;34m[\u001b[0m\u001b[0;34m'momr'\u001b[0m\u001b[0;34m]\u001b[0m \u001b[0;34m=\u001b[0m \u001b[0mgroup\u001b[0m\u001b[0;34m.\u001b[0m\u001b[0mapply\u001b[0m\u001b[0;34m(\u001b[0m\u001b[0mget_momr_value\u001b[0m\u001b[0;34m,\u001b[0m \u001b[0maxis\u001b[0m\u001b[0;34m=\u001b[0m\u001b[0;36m1\u001b[0m\u001b[0;34m)\u001b[0m\u001b[0;34m\u001b[0m\u001b[0;34m\u001b[0m\u001b[0m\n\u001b[0m\u001b[1;32m    117\u001b[0m \u001b[0;34m\u001b[0m\u001b[0m\n\u001b[1;32m    118\u001b[0m     \u001b[0;32mreturn\u001b[0m \u001b[0mgroup\u001b[0m\u001b[0;34m\u001b[0m\u001b[0;34m\u001b[0m\u001b[0m\n",
      "\u001b[0;32m~/opt/anaconda3/lib/python3.9/site-packages/pandas/core/frame.py\u001b[0m in \u001b[0;36m?\u001b[0;34m(self, func, axis, raw, result_type, args, by_row, engine, engine_kwargs, **kwargs)\u001b[0m\n\u001b[1;32m  10357\u001b[0m             \u001b[0mengine_kwargs\u001b[0m\u001b[0;34m=\u001b[0m\u001b[0mengine_kwargs\u001b[0m\u001b[0;34m,\u001b[0m\u001b[0;34m\u001b[0m\u001b[0;34m\u001b[0m\u001b[0m\n\u001b[1;32m  10358\u001b[0m             \u001b[0margs\u001b[0m\u001b[0;34m=\u001b[0m\u001b[0margs\u001b[0m\u001b[0;34m,\u001b[0m\u001b[0;34m\u001b[0m\u001b[0;34m\u001b[0m\u001b[0m\n\u001b[1;32m  10359\u001b[0m             \u001b[0mkwargs\u001b[0m\u001b[0;34m=\u001b[0m\u001b[0mkwargs\u001b[0m\u001b[0;34m,\u001b[0m\u001b[0;34m\u001b[0m\u001b[0;34m\u001b[0m\u001b[0m\n\u001b[1;32m  10360\u001b[0m         )\n\u001b[0;32m> 10361\u001b[0;31m         \u001b[0;32mreturn\u001b[0m \u001b[0mop\u001b[0m\u001b[0;34m.\u001b[0m\u001b[0mapply\u001b[0m\u001b[0;34m(\u001b[0m\u001b[0;34m)\u001b[0m\u001b[0;34m.\u001b[0m\u001b[0m__finalize__\u001b[0m\u001b[0;34m(\u001b[0m\u001b[0mself\u001b[0m\u001b[0;34m,\u001b[0m \u001b[0mmethod\u001b[0m\u001b[0;34m=\u001b[0m\u001b[0;34m\"apply\"\u001b[0m\u001b[0;34m)\u001b[0m\u001b[0;34m\u001b[0m\u001b[0;34m\u001b[0m\u001b[0m\n\u001b[0m",
      "\u001b[0;32m~/opt/anaconda3/lib/python3.9/site-packages/pandas/core/apply.py\u001b[0m in \u001b[0;36m?\u001b[0;34m(self)\u001b[0m\n\u001b[1;32m    912\u001b[0m         \u001b[0;31m# raw\u001b[0m\u001b[0;34m\u001b[0m\u001b[0;34m\u001b[0m\u001b[0m\n\u001b[1;32m    913\u001b[0m         \u001b[0;32melif\u001b[0m \u001b[0mself\u001b[0m\u001b[0;34m.\u001b[0m\u001b[0mraw\u001b[0m\u001b[0;34m:\u001b[0m\u001b[0;34m\u001b[0m\u001b[0;34m\u001b[0m\u001b[0m\n\u001b[1;32m    914\u001b[0m             \u001b[0;32mreturn\u001b[0m \u001b[0mself\u001b[0m\u001b[0;34m.\u001b[0m\u001b[0mapply_raw\u001b[0m\u001b[0;34m(\u001b[0m\u001b[0mengine\u001b[0m\u001b[0;34m=\u001b[0m\u001b[0mself\u001b[0m\u001b[0;34m.\u001b[0m\u001b[0mengine\u001b[0m\u001b[0;34m,\u001b[0m \u001b[0mengine_kwargs\u001b[0m\u001b[0;34m=\u001b[0m\u001b[0mself\u001b[0m\u001b[0;34m.\u001b[0m\u001b[0mengine_kwargs\u001b[0m\u001b[0;34m)\u001b[0m\u001b[0;34m\u001b[0m\u001b[0;34m\u001b[0m\u001b[0m\n\u001b[1;32m    915\u001b[0m \u001b[0;34m\u001b[0m\u001b[0m\n\u001b[0;32m--> 916\u001b[0;31m         \u001b[0;32mreturn\u001b[0m \u001b[0mself\u001b[0m\u001b[0;34m.\u001b[0m\u001b[0mapply_standard\u001b[0m\u001b[0;34m(\u001b[0m\u001b[0;34m)\u001b[0m\u001b[0;34m\u001b[0m\u001b[0;34m\u001b[0m\u001b[0m\n\u001b[0m",
      "\u001b[0;32m~/opt/anaconda3/lib/python3.9/site-packages/pandas/core/apply.py\u001b[0m in \u001b[0;36m?\u001b[0;34m(self)\u001b[0m\n\u001b[1;32m   1061\u001b[0m     \u001b[0;32mdef\u001b[0m \u001b[0mapply_standard\u001b[0m\u001b[0;34m(\u001b[0m\u001b[0mself\u001b[0m\u001b[0;34m)\u001b[0m\u001b[0;34m:\u001b[0m\u001b[0;34m\u001b[0m\u001b[0;34m\u001b[0m\u001b[0m\n\u001b[1;32m   1062\u001b[0m         \u001b[0;32mif\u001b[0m \u001b[0mself\u001b[0m\u001b[0;34m.\u001b[0m\u001b[0mengine\u001b[0m \u001b[0;34m==\u001b[0m \u001b[0;34m\"python\"\u001b[0m\u001b[0;34m:\u001b[0m\u001b[0;34m\u001b[0m\u001b[0;34m\u001b[0m\u001b[0m\n\u001b[0;32m-> 1063\u001b[0;31m             \u001b[0mresults\u001b[0m\u001b[0;34m,\u001b[0m \u001b[0mres_index\u001b[0m \u001b[0;34m=\u001b[0m \u001b[0mself\u001b[0m\u001b[0;34m.\u001b[0m\u001b[0mapply_series_generator\u001b[0m\u001b[0;34m(\u001b[0m\u001b[0;34m)\u001b[0m\u001b[0;34m\u001b[0m\u001b[0;34m\u001b[0m\u001b[0m\n\u001b[0m\u001b[1;32m   1064\u001b[0m         \u001b[0;32melse\u001b[0m\u001b[0;34m:\u001b[0m\u001b[0;34m\u001b[0m\u001b[0;34m\u001b[0m\u001b[0m\n\u001b[1;32m   1065\u001b[0m             \u001b[0mresults\u001b[0m\u001b[0;34m,\u001b[0m \u001b[0mres_index\u001b[0m \u001b[0;34m=\u001b[0m \u001b[0mself\u001b[0m\u001b[0;34m.\u001b[0m\u001b[0mapply_series_numba\u001b[0m\u001b[0;34m(\u001b[0m\u001b[0;34m)\u001b[0m\u001b[0;34m\u001b[0m\u001b[0;34m\u001b[0m\u001b[0m\n\u001b[1;32m   1066\u001b[0m \u001b[0;34m\u001b[0m\u001b[0m\n",
      "\u001b[0;32m~/opt/anaconda3/lib/python3.9/site-packages/pandas/core/apply.py\u001b[0m in \u001b[0;36m?\u001b[0;34m(self)\u001b[0m\n\u001b[1;32m   1081\u001b[0m                 \u001b[0mresults\u001b[0m\u001b[0;34m[\u001b[0m\u001b[0mi\u001b[0m\u001b[0;34m]\u001b[0m \u001b[0;34m=\u001b[0m \u001b[0mself\u001b[0m\u001b[0;34m.\u001b[0m\u001b[0mfunc\u001b[0m\u001b[0;34m(\u001b[0m\u001b[0mv\u001b[0m\u001b[0;34m,\u001b[0m \u001b[0;34m*\u001b[0m\u001b[0mself\u001b[0m\u001b[0;34m.\u001b[0m\u001b[0margs\u001b[0m\u001b[0;34m,\u001b[0m \u001b[0;34m**\u001b[0m\u001b[0mself\u001b[0m\u001b[0;34m.\u001b[0m\u001b[0mkwargs\u001b[0m\u001b[0;34m)\u001b[0m\u001b[0;34m\u001b[0m\u001b[0;34m\u001b[0m\u001b[0m\n\u001b[1;32m   1082\u001b[0m                 \u001b[0;32mif\u001b[0m \u001b[0misinstance\u001b[0m\u001b[0;34m(\u001b[0m\u001b[0mresults\u001b[0m\u001b[0;34m[\u001b[0m\u001b[0mi\u001b[0m\u001b[0;34m]\u001b[0m\u001b[0;34m,\u001b[0m \u001b[0mABCSeries\u001b[0m\u001b[0;34m)\u001b[0m\u001b[0;34m:\u001b[0m\u001b[0;34m\u001b[0m\u001b[0;34m\u001b[0m\u001b[0m\n\u001b[1;32m   1083\u001b[0m                     \u001b[0;31m# If we have a view on v, we need to make a copy because\u001b[0m\u001b[0;34m\u001b[0m\u001b[0;34m\u001b[0m\u001b[0m\n\u001b[1;32m   1084\u001b[0m                     \u001b[0;31m#  series_generator will swap out the underlying data\u001b[0m\u001b[0;34m\u001b[0m\u001b[0;34m\u001b[0m\u001b[0m\n\u001b[0;32m-> 1085\u001b[0;31m                     \u001b[0mresults\u001b[0m\u001b[0;34m[\u001b[0m\u001b[0mi\u001b[0m\u001b[0;34m]\u001b[0m \u001b[0;34m=\u001b[0m \u001b[0mresults\u001b[0m\u001b[0;34m[\u001b[0m\u001b[0mi\u001b[0m\u001b[0;34m]\u001b[0m\u001b[0;34m.\u001b[0m\u001b[0mcopy\u001b[0m\u001b[0;34m(\u001b[0m\u001b[0mdeep\u001b[0m\u001b[0;34m=\u001b[0m\u001b[0;32mFalse\u001b[0m\u001b[0;34m)\u001b[0m\u001b[0;34m\u001b[0m\u001b[0;34m\u001b[0m\u001b[0m\n\u001b[0m\u001b[1;32m   1086\u001b[0m \u001b[0;34m\u001b[0m\u001b[0m\n\u001b[1;32m   1087\u001b[0m         \u001b[0;32mreturn\u001b[0m \u001b[0mresults\u001b[0m\u001b[0;34m,\u001b[0m \u001b[0mres_index\u001b[0m\u001b[0;34m\u001b[0m\u001b[0;34m\u001b[0m\u001b[0m\n",
      "\u001b[0;32m~/opt/anaconda3/lib/python3.9/site-packages/pandas/core/apply.py\u001b[0m in \u001b[0;36m?\u001b[0;34m(self)\u001b[0m\n\u001b[1;32m   1266\u001b[0m \u001b[0;34m\u001b[0m\u001b[0m\n\u001b[1;32m   1267\u001b[0m         \u001b[0;32melse\u001b[0m\u001b[0;34m:\u001b[0m\u001b[0;34m\u001b[0m\u001b[0;34m\u001b[0m\u001b[0m\n\u001b[1;32m   1268\u001b[0m             \u001b[0;32mfor\u001b[0m \u001b[0marr\u001b[0m\u001b[0;34m,\u001b[0m \u001b[0mname\u001b[0m \u001b[0;32min\u001b[0m \u001b[0mzip\u001b[0m\u001b[0;34m(\u001b[0m\u001b[0mvalues\u001b[0m\u001b[0;34m,\u001b[0m \u001b[0mself\u001b[0m\u001b[0;34m.\u001b[0m\u001b[0mindex\u001b[0m\u001b[0;34m)\u001b[0m\u001b[0;34m:\u001b[0m\u001b[0;34m\u001b[0m\u001b[0;34m\u001b[0m\u001b[0m\n\u001b[1;32m   1269\u001b[0m                 \u001b[0;31m# GH#35462 re-pin mgr in case setitem changed it\u001b[0m\u001b[0;34m\u001b[0m\u001b[0;34m\u001b[0m\u001b[0m\n\u001b[0;32m-> 1270\u001b[0;31m                 \u001b[0mser\u001b[0m\u001b[0;34m.\u001b[0m\u001b[0m_mgr\u001b[0m \u001b[0;34m=\u001b[0m \u001b[0mmgr\u001b[0m\u001b[0;34m\u001b[0m\u001b[0;34m\u001b[0m\u001b[0m\n\u001b[0m\u001b[1;32m   1271\u001b[0m                 \u001b[0mmgr\u001b[0m\u001b[0;34m.\u001b[0m\u001b[0mset_values\u001b[0m\u001b[0;34m(\u001b[0m\u001b[0marr\u001b[0m\u001b[0;34m)\u001b[0m\u001b[0;34m\u001b[0m\u001b[0;34m\u001b[0m\u001b[0m\n\u001b[1;32m   1272\u001b[0m                 \u001b[0mobject\u001b[0m\u001b[0;34m.\u001b[0m\u001b[0m__setattr__\u001b[0m\u001b[0;34m(\u001b[0m\u001b[0mser\u001b[0m\u001b[0;34m,\u001b[0m \u001b[0;34m\"_name\"\u001b[0m\u001b[0;34m,\u001b[0m \u001b[0mname\u001b[0m\u001b[0;34m)\u001b[0m\u001b[0;34m\u001b[0m\u001b[0;34m\u001b[0m\u001b[0m\n\u001b[1;32m   1273\u001b[0m                 \u001b[0;32mif\u001b[0m \u001b[0;32mnot\u001b[0m \u001b[0mis_view\u001b[0m\u001b[0;34m:\u001b[0m\u001b[0;34m\u001b[0m\u001b[0;34m\u001b[0m\u001b[0m\n",
      "\u001b[0;32m~/opt/anaconda3/lib/python3.9/site-packages/pandas/core/generic.py\u001b[0m in \u001b[0;36m?\u001b[0;34m(self, name, value)\u001b[0m\n\u001b[1;32m   6308\u001b[0m         \u001b[0;32mtry\u001b[0m\u001b[0;34m:\u001b[0m\u001b[0;34m\u001b[0m\u001b[0;34m\u001b[0m\u001b[0m\n\u001b[1;32m   6309\u001b[0m             \u001b[0mobject\u001b[0m\u001b[0;34m.\u001b[0m\u001b[0m__getattribute__\u001b[0m\u001b[0;34m(\u001b[0m\u001b[0mself\u001b[0m\u001b[0;34m,\u001b[0m \u001b[0mname\u001b[0m\u001b[0;34m)\u001b[0m\u001b[0;34m\u001b[0m\u001b[0;34m\u001b[0m\u001b[0m\n\u001b[1;32m   6310\u001b[0m             \u001b[0;32mreturn\u001b[0m \u001b[0mobject\u001b[0m\u001b[0;34m.\u001b[0m\u001b[0m__setattr__\u001b[0m\u001b[0;34m(\u001b[0m\u001b[0mself\u001b[0m\u001b[0;34m,\u001b[0m \u001b[0mname\u001b[0m\u001b[0;34m,\u001b[0m \u001b[0mvalue\u001b[0m\u001b[0;34m)\u001b[0m\u001b[0;34m\u001b[0m\u001b[0;34m\u001b[0m\u001b[0m\n\u001b[1;32m   6311\u001b[0m         \u001b[0;32mexcept\u001b[0m \u001b[0mAttributeError\u001b[0m\u001b[0;34m:\u001b[0m\u001b[0;34m\u001b[0m\u001b[0;34m\u001b[0m\u001b[0m\n\u001b[0;32m-> 6312\u001b[0;31m             \u001b[0;32mpass\u001b[0m\u001b[0;34m\u001b[0m\u001b[0;34m\u001b[0m\u001b[0m\n\u001b[0m\u001b[1;32m   6313\u001b[0m \u001b[0;34m\u001b[0m\u001b[0m\n\u001b[1;32m   6314\u001b[0m         \u001b[0;31m# if this fails, go on to more involved attribute setting\u001b[0m\u001b[0;34m\u001b[0m\u001b[0;34m\u001b[0m\u001b[0m\n\u001b[1;32m   6315\u001b[0m         \u001b[0;31m# (note that this matches __getattr__, above).\u001b[0m\u001b[0;34m\u001b[0m\u001b[0;34m\u001b[0m\u001b[0m\n",
      "\u001b[0;31mKeyboardInterrupt\u001b[0m: "
     ]
    }
   ],
   "source": [
    "top50Rets_12_to_22, mom_output_12_to_22, ewretdat2, port, ewretdat, ewretdat3 = top_bottom_50(umd, lspd_m, '2014-01-01', '2024-01-01')"
   ]
  },
  {
   "cell_type": "code",
   "execution_count": 144,
   "id": "f0ace0b8-05f0-4c55-9a21-3883c2b1d57a",
   "metadata": {},
   "outputs": [
    {
     "data": {
      "text/html": [
       "<div>\n",
       "<style scoped>\n",
       "    .dataframe tbody tr th:only-of-type {\n",
       "        vertical-align: middle;\n",
       "    }\n",
       "\n",
       "    .dataframe tbody tr th {\n",
       "        vertical-align: top;\n",
       "    }\n",
       "\n",
       "    .dataframe thead th {\n",
       "        text-align: right;\n",
       "    }\n",
       "</style>\n",
       "<table border=\"1\" class=\"dataframe\">\n",
       "  <thead>\n",
       "    <tr style=\"text-align: right;\">\n",
       "      <th></th>\n",
       "      <th>momr</th>\n",
       "      <th>mean</th>\n",
       "      <th>t-stat</th>\n",
       "      <th>p-value</th>\n",
       "    </tr>\n",
       "  </thead>\n",
       "  <tbody>\n",
       "    <tr>\n",
       "      <th>0</th>\n",
       "      <td>winners</td>\n",
       "      <td>0.003184</td>\n",
       "      <td>0.671538</td>\n",
       "      <td>0.503179</td>\n",
       "    </tr>\n",
       "    <tr>\n",
       "      <th>1</th>\n",
       "      <td>losers</td>\n",
       "      <td>0.017969</td>\n",
       "      <td>2.406719</td>\n",
       "      <td>0.017634</td>\n",
       "    </tr>\n",
       "    <tr>\n",
       "      <th>2</th>\n",
       "      <td>long_short</td>\n",
       "      <td>0.014785</td>\n",
       "      <td>2.692806</td>\n",
       "      <td>0.008108</td>\n",
       "    </tr>\n",
       "  </tbody>\n",
       "</table>\n",
       "</div>"
      ],
      "text/plain": [
       "         momr      mean    t-stat   p-value\n",
       "0     winners  0.003184  0.671538  0.503179\n",
       "1      losers  0.017969  2.406719  0.017634\n",
       "2  long_short  0.014785  2.692806  0.008108"
      ]
     },
     "execution_count": 144,
     "metadata": {},
     "output_type": "execute_result"
    }
   ],
   "source": [
    "mom_output_12_to_22"
   ]
  },
  {
   "cell_type": "markdown",
   "id": "cd9d29ad-c1e2-45e3-80ae-6bf9b9a7c8bd",
   "metadata": {},
   "source": [
    "## Testing Function"
   ]
  },
  {
   "cell_type": "code",
   "execution_count": 2,
   "id": "63c6cb36-dadb-48f8-8bd7-1fd27f4398d9",
   "metadata": {},
   "outputs": [],
   "source": [
    "def top_bottom_50(umd, data, filter_1, filter_2, K=1):\n",
    "    \n",
    "    umd = umd.groupby('date').apply(assign_momr)\n",
    "    umd.reset_index(inplace=True, drop=True)\n",
    "    umd['momr']=umd.momr.astype(int)\n",
    "    umd['momr'] = umd['momr']+1 #indexed at 0 so increase by 1 \n",
    "    umd['form_date'] = umd['date']\n",
    "    umd['medate'] = umd['date']+MonthEnd(0)\n",
    "    umd['hdate1']= umd['medate']+MonthBegin(1)\n",
    "    umd['hdate2']= umd['medate']+MonthEnd(K)\n",
    "    umd = umd[['compNam', 'form_date','momr','hdate1','hdate2']]\n",
    "    \n",
    "    _tmp_ret = data[['compNam','date','logret']]\n",
    "    _tmp_ret['ret'] = np.exp(_tmp_ret.logret)-1 #unlogging the return \n",
    "   \n",
    "    #joining the ranking and return dataframes\n",
    "    #chunking the join to reduce RAM load\n",
    "    \n",
    "    chunk_size = 10000  \n",
    "    chunks = [umd[i:i+chunk_size] for i in range(0, umd.shape[0], chunk_size)]\n",
    "\n",
    "    port = pd.DataFrame()\n",
    "    \n",
    "    for chunk in tqdm(chunks):\n",
    "        \n",
    "        merged_chunk = pd.merge(_tmp_ret, chunk, on=['compNam'], how='inner', sort=False)\n",
    "        port = pd.concat([port, merged_chunk], ignore_index=True)\n",
    "        port = port[(port['hdate1']<=port['date']) & (port['date']<=port['hdate2'])]\n",
    "        \n",
    "    \n",
    "    umd2 = port.sort_values(by=['date','momr','form_date','compNam']).drop_duplicates()\n",
    "    umd3 = umd2.groupby(['date','momr','form_date'])['ret'].mean().reset_index()\n",
    "\n",
    "    # reduce sample based on size \n",
    "    umd3 = umd3[umd3['date'] < pd.to_datetime(filter_2)]\n",
    "    umd3 = umd3[umd3['date'] >= pd.to_datetime(filter_1)]\n",
    "    umd3 = umd3.sort_values(by=['date','momr'])\n",
    "    \n",
    "    # Create one return series per MOM group every month\n",
    "    ewret = umd3.groupby(['date','momr'])['ret'].mean().reset_index()\n",
    "    ewstd = umd3.groupby(['date','momr'])['ret'].std().reset_index()\n",
    "    ewret = ewret.rename(columns={'ret':'ewret'})\n",
    "    ewstd = ewstd.rename(columns={'ret':'ewretstd'})\n",
    "    ewretdat = pd.merge(ewret, ewstd, on=['date','momr'], how='inner')\n",
    "    ewretdat = ewretdat.sort_values(by=['momr'])\n",
    "    \n",
    "    #summarising the portfolio returns\n",
    "    decileRets = ewretdat.groupby(['momr'])['ewret'].describe()[['count','mean', 'std']]\n",
    "    \n",
    "    # Transpose portfolio layout to have columns as portfolio returns\n",
    "    ewretdat2 = ewretdat.pivot(index='date', columns='momr', values='ewret')\n",
    "   \n",
    "    # Add prefix port in front of each column\n",
    "    ewretdat2 = ewretdat2.add_prefix('port')\n",
    "    ewretdat2 = ewretdat2.rename(columns={'port3' :'winners', 'port1':'losers', 'port2' : 'middle'})\n",
    "    ewretdat2['long_short'] = ewretdat2['losers'] - ewretdat2['winners']\n",
    "\n",
    "    # Compute Long-Short Portfolio Cumulative Returns\n",
    "    ewretdat3 = ewretdat2\n",
    "    ewretdat3['1+losers']=1+ewretdat3['losers']\n",
    "    ewretdat3['1+winners']=1+ewretdat3['winners']\n",
    "    ewretdat3['1+ls'] = 1+ewretdat3['long_short']\n",
    "\n",
    "    ewretdat3['cumret_winners']=ewretdat3['1+winners'].cumprod()-1\n",
    "    ewretdat3['cumret_losers']=ewretdat3['1+losers'].cumprod()-1\n",
    "    ewretdat3['cumret_long_short']=ewretdat3['1+ls'].cumprod()-1\n",
    "\n",
    "    #################################\n",
    "    # Portfolio Summary Statistics  #\n",
    "    ################################# \n",
    "\n",
    "    # Mean \n",
    "    mom_mean = ewretdat3[['winners', 'losers', 'long_short']].mean().to_frame()\n",
    "    mom_mean = mom_mean.rename(columns={0:'mean'}).reset_index()\n",
    "\n",
    "    # T-Value and P-Value\n",
    "    t_losers = pd.Series(stats.ttest_1samp(ewretdat3['losers'],0.0)).to_frame().T\n",
    "    t_winners = pd.Series(stats.ttest_1samp(ewretdat3['winners'],0.0)).to_frame().T\n",
    "    t_long_short = pd.Series(stats.ttest_1samp(ewretdat3['long_short'],0.0)).to_frame().T\n",
    "\n",
    "    t_losers['momr']='losers'\n",
    "    t_winners['momr']='winners'\n",
    "    t_long_short['momr']='long_short'\n",
    "\n",
    "    t_output =pd.concat([t_winners, t_losers, t_long_short])\\\n",
    "        .rename(columns={0:'t-stat', 1:'p-value'})\n",
    "\n",
    "    # Combine mean, t and p\n",
    "    mom_output1 = pd.merge(mom_mean, t_output, on=['momr'], how='inner')\n",
    "    \n",
    "    return decileRets, mom_output1, ewretdat2, port, ewretdat, ewretdat3\n",
    "\n",
    "def assign_momr(group):\n",
    "    \n",
    "    mean_ret = group['rawRet'].mean()\n",
    "    \n",
    "    group['rawRet'] = [i if i > -1 else 0 for i in group['rawRet'].tolist()] #this line stops the stocks that were delisted in the previous period from being included in the 'bottom 50' portfolio \n",
    "    \n",
    "    # Sort the group by 'ret' to identify top and bottom values\n",
    "    sorted_group = group.sort_values(by='rawRet')\n",
    "\n",
    "    # Get the top and bottom 50 values\n",
    "    top_50_values = sorted_group['rawRet'].tail(50)\n",
    "    bottom_50_values = sorted_group['rawRet'].head(50)\n",
    "\n",
    "    # Function to assign momr value\n",
    "    def get_momr_value(row):\n",
    "        if row['rawRet'] in bottom_50_values.values:\n",
    "            return 0\n",
    "        elif row['rawRet'] in top_50_values.values:\n",
    "            return 2\n",
    "        else:\n",
    "            return 1\n",
    "\n",
    "    # Apply the function to assign 'momr'\n",
    "    group['momr'] = group.apply(get_momr_value, axis=1)\n",
    "\n",
    "    return group"
   ]
  },
  {
   "cell_type": "code",
   "execution_count": null,
   "id": "c9c415a6-bbd3-43ec-97c9-7bf03df5cea2",
   "metadata": {},
   "outputs": [],
   "source": []
  }
 ],
 "metadata": {
  "kernelspec": {
   "display_name": "Python 3 (ipykernel)",
   "language": "python",
   "name": "python3"
  },
  "language_info": {
   "codemirror_mode": {
    "name": "ipython",
    "version": 3
   },
   "file_extension": ".py",
   "mimetype": "text/x-python",
   "name": "python",
   "nbconvert_exporter": "python",
   "pygments_lexer": "ipython3",
   "version": "3.9.18"
  }
 },
 "nbformat": 4,
 "nbformat_minor": 5
}
